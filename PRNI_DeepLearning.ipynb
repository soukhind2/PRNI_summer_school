{
  "nbformat": 4,
  "nbformat_minor": 0,
  "metadata": {
    "kernelspec": {
      "display_name": "Python 3",
      "language": "python",
      "name": "python3"
    },
    "language_info": {
      "codemirror_mode": {
        "name": "ipython",
        "version": 3
      },
      "file_extension": ".py",
      "mimetype": "text/x-python",
      "name": "python",
      "nbconvert_exporter": "python",
      "pygments_lexer": "ipython3",
      "version": "3.6.10"
    },
    "colab": {
      "name": "PRNI_DeepLearning.ipynb",
      "provenance": [],
      "collapsed_sections": [],
      "include_colab_link": true
    }
  },
  "cells": [
    {
      "cell_type": "markdown",
      "metadata": {
        "id": "view-in-github",
        "colab_type": "text"
      },
      "source": [
        "<a href=\"https://colab.research.google.com/github/soukhind2/PRNI_summer_school/blob/master/PRNI_DeepLearning.ipynb\" target=\"_parent\"><img src=\"https://colab.research.google.com/assets/colab-badge.svg\" alt=\"Open In Colab\"/></a>"
      ]
    },
    {
      "cell_type": "markdown",
      "metadata": {
        "id": "Pxvv-_C4E2i-",
        "colab_type": "text"
      },
      "source": [
        "# PRNI Tutorial - Deep Learning\n",
        "In this tutorial you will learn to build neural network architectures with Keras."
      ]
    },
    {
      "cell_type": "code",
      "metadata": {
        "id": "iIoEJ1zUE2jB",
        "colab_type": "code",
        "colab": {}
      },
      "source": [
        "import numpy as np\n",
        "import matplotlib.pyplot as plt\n",
        "\n",
        "from tensorflow import keras"
      ],
      "execution_count": null,
      "outputs": []
    },
    {
      "cell_type": "markdown",
      "metadata": {
        "id": "akB_TIOcE2jG",
        "colab_type": "text"
      },
      "source": [
        "## The dataset\n",
        "We load the dataset and inspect it."
      ]
    },
    {
      "cell_type": "code",
      "metadata": {
        "id": "6_ESmQTrE2jH",
        "colab_type": "code",
        "colab": {}
      },
      "source": [
        "(x_train, y_train), (x_test, y_test) = keras.datasets.cifar10.load_data()"
      ],
      "execution_count": null,
      "outputs": []
    },
    {
      "cell_type": "code",
      "metadata": {
        "id": "3UfK1weGE2jL",
        "colab_type": "code",
        "colab": {
          "base_uri": "https://localhost:8080/",
          "height": 35
        },
        "outputId": "ffe37816-8ec4-4205-8e46-a4db3dfa80b5"
      },
      "source": [
        "x_train.shape"
      ],
      "execution_count": null,
      "outputs": [
        {
          "output_type": "execute_result",
          "data": {
            "text/plain": [
              "(50000, 32, 32, 3)"
            ]
          },
          "metadata": {
            "tags": []
          },
          "execution_count": 4
        }
      ]
    },
    {
      "cell_type": "code",
      "metadata": {
        "id": "3WHYy4DAE2jR",
        "colab_type": "code",
        "colab": {
          "base_uri": "https://localhost:8080/",
          "height": 35
        },
        "outputId": "f173cca0-ed9a-4cde-9cec-367bdfa0152b"
      },
      "source": [
        "y_train.shape"
      ],
      "execution_count": null,
      "outputs": [
        {
          "output_type": "execute_result",
          "data": {
            "text/plain": [
              "(50000, 1)"
            ]
          },
          "metadata": {
            "tags": []
          },
          "execution_count": 5
        }
      ]
    },
    {
      "cell_type": "code",
      "metadata": {
        "id": "Pk5d8WIGE2jV",
        "colab_type": "code",
        "colab": {
          "base_uri": "https://localhost:8080/",
          "height": 35
        },
        "outputId": "fc2eef06-7907-4c8e-a6fe-52a4b2108ba2"
      },
      "source": [
        "x_test.shape"
      ],
      "execution_count": null,
      "outputs": [
        {
          "output_type": "execute_result",
          "data": {
            "text/plain": [
              "(10000, 32, 32, 3)"
            ]
          },
          "metadata": {
            "tags": []
          },
          "execution_count": 6
        }
      ]
    },
    {
      "cell_type": "code",
      "metadata": {
        "id": "-lpquZZAE2jZ",
        "colab_type": "code",
        "colab": {
          "base_uri": "https://localhost:8080/",
          "height": 35
        },
        "outputId": "1db056f7-067a-4d50-9306-1264f24a74d3"
      },
      "source": [
        "y_test.shape"
      ],
      "execution_count": null,
      "outputs": [
        {
          "output_type": "execute_result",
          "data": {
            "text/plain": [
              "(10000, 1)"
            ]
          },
          "metadata": {
            "tags": []
          },
          "execution_count": 7
        }
      ]
    },
    {
      "cell_type": "code",
      "metadata": {
        "id": "Z5CZBkkZE2je",
        "colab_type": "code",
        "colab": {
          "base_uri": "https://localhost:8080/",
          "height": 35
        },
        "outputId": "a270d980-5676-46d9-d29d-d64683dbaad8"
      },
      "source": [
        "np.unique(y_train)"
      ],
      "execution_count": null,
      "outputs": [
        {
          "output_type": "execute_result",
          "data": {
            "text/plain": [
              "array([0, 1, 2, 3, 4, 5, 6, 7, 8, 9], dtype=uint8)"
            ]
          },
          "metadata": {
            "tags": []
          },
          "execution_count": 8
        }
      ]
    },
    {
      "cell_type": "markdown",
      "metadata": {
        "id": "wd5wg3I4E2jl",
        "colab_type": "text"
      },
      "source": [
        "We have 50,000 training samples and 10,000 test samples. Inputs are color images (3 colors) of size 32 x 32, and the output is a digit between 0 and 9. These correspond to the following categories:"
      ]
    },
    {
      "cell_type": "code",
      "metadata": {
        "id": "yxfktQ4oE2jm",
        "colab_type": "code",
        "colab": {}
      },
      "source": [
        "labels = {0: 'airplane',\n",
        "          1: 'automobile',\n",
        "          2: 'bird',\n",
        "          3: 'cat',\n",
        "          4: 'deer',\n",
        "          5: 'dog',\n",
        "          6: 'frog',\n",
        "          7: 'horse',\n",
        "          8: 'ship',\n",
        "          9: 'truck'\n",
        "          }"
      ],
      "execution_count": null,
      "outputs": []
    },
    {
      "cell_type": "markdown",
      "metadata": {
        "id": "qDmOQnLmE2jp",
        "colab_type": "text"
      },
      "source": [
        "Let's plot some of the input images and their labels."
      ]
    },
    {
      "cell_type": "code",
      "metadata": {
        "id": "wb326JefE2jp",
        "colab_type": "code",
        "colab": {
          "base_uri": "https://localhost:8080/",
          "height": 435
        },
        "outputId": "4345021d-2dc0-476f-962e-08d897c1ca38"
      },
      "source": [
        "fig, axes = plt.subplots(2,5, figsize=(17,7))\n",
        "\n",
        "for row in range(2):\n",
        "    for col in range(5):\n",
        "        axes[row,col].imshow(x_train[col+row*5])\n",
        "        axes[row,col].set_title(labels[y_train[col+row*5][0]] + ' ({})'.format(y_train[col+row*5][0]))"
      ],
      "execution_count": null,
      "outputs": [
        {
          "output_type": "display_data",
          "data": {
            "image/png": "[encoded data removed]",
            "text/plain": [
              "<Figure size 1224x504 with 10 Axes>"
            ]
          },
          "metadata": {
            "tags": [],
            "needs_background": "light"
          }
        }
      ]
    },
    {
      "cell_type": "markdown",
      "metadata": {
        "id": "-nnmrDd0E2jv",
        "colab_type": "text"
      },
      "source": [
        "## Preprocessing\n",
        "Luckily we don't have to do much preprocessing on this dataset, but one thing we have to do is flatten the 3-dimensional input datasets, change the scale of the input from RGB values (0 to 255) to values between 0 and 1, and make the output a categorical variable."
      ]
    },
    {
      "cell_type": "code",
      "metadata": {
        "id": "RhxSRkDvE2jw",
        "colab_type": "code",
        "colab": {}
      },
      "source": [
        "x_train = x_train.reshape(x_train.shape[0], -1) / 255.0\n",
        "x_test = x_test.reshape(x_test.shape[0], -1) / 255.0\n",
        "y_train = keras.utils.to_categorical(y_train)\n",
        "y_test = keras.utils.to_categorical(y_test)"
      ],
      "execution_count": null,
      "outputs": []
    },
    {
      "cell_type": "code",
      "metadata": {
        "id": "mzna3-igE2jz",
        "colab_type": "code",
        "colab": {}
      },
      "source": [
        "# dimension of the input to the model\n",
        "input_dim = x_train.shape[1]"
      ],
      "execution_count": null,
      "outputs": []
    },
    {
      "cell_type": "markdown",
      "metadata": {
        "id": "u8xav4noE2j3",
        "colab_type": "text"
      },
      "source": [
        "## A very simple neural nework\n",
        "We start out with a network with one fully connected hidden layer with 50 neurons and a relu (rectified linear unit) activation function. The output layer should have the same number of neurons as we have output classes, and the softmax activation function."
      ]
    },
    {
      "cell_type": "code",
      "metadata": {
        "id": "YnmaTC9DE2j4",
        "colab_type": "code",
        "colab": {}
      },
      "source": [
        "from tensorflow.keras.models import Sequential\n",
        "from tensorflow.keras.layers import Dense"
      ],
      "execution_count": null,
      "outputs": []
    },
    {
      "cell_type": "code",
      "metadata": {
        "id": "5y2rG15VE2j7",
        "colab_type": "code",
        "colab": {}
      },
      "source": [
        "model = Sequential()\n",
        "model.add(Dense(50, input_dim=input_dim, activation='relu'))\n",
        "model.add(Dense(50, activation='relu'))\n",
        "model.add(Dense(10, activation='softmax'))"
      ],
      "execution_count": null,
      "outputs": []
    },
    {
      "cell_type": "markdown",
      "metadata": {
        "id": "qg5FZDyqE2kA",
        "colab_type": "text"
      },
      "source": [
        "Before we can use the model, we have to compile it. We also define a loss function, optimizer, and a list of metrics that we want to examine. (We can only define one loss function, but monitor several metrics.)"
      ]
    },
    {
      "cell_type": "code",
      "metadata": {
        "id": "iBqQxLN3E2kB",
        "colab_type": "code",
        "colab": {}
      },
      "source": [
        "model.compile(loss='categorical_crossentropy', optimizer='adam', metrics=['accuracy'])"
      ],
      "execution_count": null,
      "outputs": []
    },
    {
      "cell_type": "code",
      "metadata": {
        "id": "S-SkjcRXYPCY",
        "colab_type": "code",
        "colab": {}
      },
      "source": [
        "from numpy.random import seed\n",
        "seed(1)"
      ],
      "execution_count": null,
      "outputs": []
    },
    {
      "cell_type": "markdown",
      "metadata": {
        "id": "K1TfcwpBE2kH",
        "colab_type": "text"
      },
      "source": [
        "Now we can fit (train) the model with the training data. The number of times the model will go through the training data is called epochs. The validation set (in this case 10% of the trainig data) is used to evaluate each epoch."
      ]
    },
    {
      "cell_type": "code",
      "metadata": {
        "scrolled": false,
        "id": "20aqH_NHE2kI",
        "colab_type": "code",
        "colab": {
          "base_uri": "https://localhost:8080/",
          "height": 399
        },
        "outputId": "4deb6c63-f321-47dc-a924-b310b4893f1f"
      },
      "source": [
        "model.fit(x_train, y_train, epochs=10, validation_split=0.1)"
      ],
      "execution_count": null,
      "outputs": [
        {
          "output_type": "stream",
          "text": [
            "Epoch 1/10\n",
            "1407/1407 [==============================] - 6s 5ms/step - loss: 1.9423 - accuracy: 0.2880 - val_loss: 1.8738 - val_accuracy: 0.3204\n",
            "Epoch 2/10\n",
            "1407/1407 [==============================] - 5s 4ms/step - loss: 1.8267 - accuracy: 0.3352 - val_loss: 1.8493 - val_accuracy: 0.3182\n",
            "Epoch 3/10\n",
            "1407/1407 [==============================] - 6s 4ms/step - loss: 1.8007 - accuracy: 0.3442 - val_loss: 1.8444 - val_accuracy: 0.3284\n",
            "Epoch 4/10\n",
            "1407/1407 [==============================] - 6s 4ms/step - loss: 1.7766 - accuracy: 0.3539 - val_loss: 1.7719 - val_accuracy: 0.3626\n",
            "Epoch 5/10\n",
            "1407/1407 [==============================] - 6s 4ms/step - loss: 1.7622 - accuracy: 0.3592 - val_loss: 1.7768 - val_accuracy: 0.3478\n",
            "Epoch 6/10\n",
            "1407/1407 [==============================] - 6s 4ms/step - loss: 1.7486 - accuracy: 0.3660 - val_loss: 1.7582 - val_accuracy: 0.3580\n",
            "Epoch 7/10\n",
            "1407/1407 [==============================] - 6s 4ms/step - loss: 1.7377 - accuracy: 0.3686 - val_loss: 1.7515 - val_accuracy: 0.3700\n",
            "Epoch 8/10\n",
            "1407/1407 [==============================] - 6s 4ms/step - loss: 1.7294 - accuracy: 0.3726 - val_loss: 1.7522 - val_accuracy: 0.3608\n",
            "Epoch 9/10\n",
            "1407/1407 [==============================] - 6s 5ms/step - loss: 1.7204 - accuracy: 0.3803 - val_loss: 1.7494 - val_accuracy: 0.3664\n",
            "Epoch 10/10\n",
            "1407/1407 [==============================] - 6s 4ms/step - loss: 1.7135 - accuracy: 0.3795 - val_loss: 1.7320 - val_accuracy: 0.3692\n"
          ],
          "name": "stdout"
        },
        {
          "output_type": "execute_result",
          "data": {
            "text/plain": [
              "<tensorflow.python.keras.callbacks.History at 0x7ff7402d6fd0>"
            ]
          },
          "metadata": {
            "tags": []
          },
          "execution_count": 11
        }
      ]
    },
    {
      "cell_type": "markdown",
      "metadata": {
        "id": "pKTvijKFE2kQ",
        "colab_type": "text"
      },
      "source": [
        "The **training accuracy** is 0.258, which is not very good yet. (You might get a different value when running the notebook, since the inizialization of the network is random). Let's now look at the **test accuracy** by evaluating our model on the test set."
      ]
    },
    {
      "cell_type": "code",
      "metadata": {
        "id": "IblH0qe0E2kQ",
        "colab_type": "code",
        "colab": {
          "base_uri": "https://localhost:8080/",
          "height": 54
        },
        "outputId": "a42b0265-f251-4a36-f8e1-9658ac1fdecc"
      },
      "source": [
        "_, test_acc = model.evaluate(x_test, y_test)\n",
        "print(test_acc)"
      ],
      "execution_count": null,
      "outputs": [
        {
          "output_type": "stream",
          "text": [
            "313/313 [==============================] - 1s 2ms/step - loss: 1.9732 - accuracy: 0.2459\n",
            "0.2459000051021576\n"
          ],
          "name": "stdout"
        }
      ]
    },
    {
      "cell_type": "markdown",
      "metadata": {
        "id": "jRvc6a5EE2kU",
        "colab_type": "text"
      },
      "source": [
        "This model correctly predicts the labels of 24.9% of the test set, which is more than chance (10%), but not yet very good."
      ]
    },
    {
      "cell_type": "markdown",
      "metadata": {
        "id": "cw_nJOPwE2kU",
        "colab_type": "text"
      },
      "source": [
        "## Exercise 1: Improving the network\n",
        "\n",
        "Try to improve your network by adding more layers and neurons. "
      ]
    },
    {
      "cell_type": "code",
      "metadata": {
        "id": "DSFUBvXBE2kV",
        "colab_type": "code",
        "colab": {}
      },
      "source": [
        "model = Sequential()\n",
        "model.add(Dense(200, input_dim=input_dim, activation='relu'))\n",
        "model.add(Dense(200, activation='relu'))\n",
        "model.add(Dense(200, activation='relu'))\n",
        "model.add(Dense(10, activation='softmax'))\n",
        "\n",
        "model.compile(loss='categorical_crossentropy', optimizer='adam', metrics=['accuracy'])"
      ],
      "execution_count": null,
      "outputs": []
    },
    {
      "cell_type": "code",
      "metadata": {
        "id": "KtqJBg8RaF7t",
        "colab_type": "code",
        "colab": {}
      },
      "source": [
        "seed(1)"
      ],
      "execution_count": null,
      "outputs": []
    },
    {
      "cell_type": "code",
      "metadata": {
        "id": "RfTlUX10aLnk",
        "colab_type": "code",
        "colab": {
          "base_uri": "https://localhost:8080/",
          "height": 374
        },
        "outputId": "fe6f3e6d-5f0e-4ec1-c6b0-02b38c8f334a"
      },
      "source": [
        "model.fit(x_train, y_train, epochs=10, validation_split=0.1)"
      ],
      "execution_count": null,
      "outputs": [
        {
          "output_type": "stream",
          "text": [
            "Epoch 1/10\n",
            "1407/1407 [==============================] - 12s 8ms/step - loss: 1.8619 - accuracy: 0.3216 - val_loss: 1.8998 - val_accuracy: 0.3106\n",
            "Epoch 2/10\n",
            "1407/1407 [==============================] - 12s 8ms/step - loss: 1.6906 - accuracy: 0.3922 - val_loss: 1.6371 - val_accuracy: 0.4190\n",
            "Epoch 3/10\n",
            "1407/1407 [==============================] - 11s 8ms/step - loss: 1.6073 - accuracy: 0.4223 - val_loss: 1.6010 - val_accuracy: 0.4290\n",
            "Epoch 4/10\n",
            "1407/1407 [==============================] - 11s 8ms/step - loss: 1.5604 - accuracy: 0.4402 - val_loss: 1.6009 - val_accuracy: 0.4178\n",
            "Epoch 5/10\n",
            "1407/1407 [==============================] - 11s 8ms/step - loss: 1.5222 - accuracy: 0.4518 - val_loss: 1.5660 - val_accuracy: 0.4376\n",
            "Epoch 6/10\n",
            "1407/1407 [==============================] - 11s 8ms/step - loss: 1.4894 - accuracy: 0.4662 - val_loss: 1.5501 - val_accuracy: 0.4436\n",
            "Epoch 7/10\n",
            "1407/1407 [==============================] - 11s 8ms/step - loss: 1.4610 - accuracy: 0.4748 - val_loss: 1.5127 - val_accuracy: 0.4594\n",
            "Epoch 8/10\n",
            "1407/1407 [==============================] - 11s 8ms/step - loss: 1.4357 - accuracy: 0.4822 - val_loss: 1.4956 - val_accuracy: 0.4700\n",
            "Epoch 9/10\n",
            "1407/1407 [==============================] - 11s 8ms/step - loss: 1.4112 - accuracy: 0.4912 - val_loss: 1.4627 - val_accuracy: 0.4828\n",
            "Epoch 10/10\n",
            "1407/1407 [==============================] - 11s 8ms/step - loss: 1.3972 - accuracy: 0.4973 - val_loss: 1.4899 - val_accuracy: 0.4736\n"
          ],
          "name": "stdout"
        },
        {
          "output_type": "execute_result",
          "data": {
            "text/plain": [
              "<tensorflow.python.keras.callbacks.History at 0x7f46c292c828>"
            ]
          },
          "metadata": {
            "tags": []
          },
          "execution_count": 17
        }
      ]
    },
    {
      "cell_type": "code",
      "metadata": {
        "id": "NOhrqE7paScp",
        "colab_type": "code",
        "colab": {
          "base_uri": "https://localhost:8080/",
          "height": 51
        },
        "outputId": "ee4b0d55-30bc-4ff7-ba49-dbc255f8e93e"
      },
      "source": [
        "_, test_acc = model.evaluate(x_test, y_test)\n",
        "print(test_acc)"
      ],
      "execution_count": null,
      "outputs": [
        {
          "output_type": "stream",
          "text": [
            "313/313 [==============================] - 1s 3ms/step - loss: 1.4909 - accuracy: 0.4688\n",
            "0.46880000829696655\n"
          ],
          "name": "stdout"
        }
      ]
    },
    {
      "cell_type": "markdown",
      "metadata": {
        "id": "_ENrfLbwE2kY",
        "colab_type": "text"
      },
      "source": [
        "## Convolution layers\n",
        "Instead of using fully connected layers, we will now build a network with one convolutional layer, which are very suitable for image classification tasks."
      ]
    },
    {
      "cell_type": "code",
      "metadata": {
        "id": "Tw_lzkJlE2kZ",
        "colab_type": "code",
        "colab": {}
      },
      "source": [
        "from keras.layers import Conv2D, MaxPooling2D, Flatten"
      ],
      "execution_count": null,
      "outputs": []
    },
    {
      "cell_type": "markdown",
      "metadata": {
        "id": "K-wDlqWHE2kd",
        "colab_type": "text"
      },
      "source": [
        "Since convolutional neural networks (CNNs) read multi-dimensional data, we should not reshape the data like before. Let's load the data again."
      ]
    },
    {
      "cell_type": "code",
      "metadata": {
        "id": "1JEXM-XNE2kd",
        "colab_type": "code",
        "colab": {}
      },
      "source": [
        "(x_train, y_train), (x_test, y_test) = keras.datasets.cifar10.load_data()"
      ],
      "execution_count": null,
      "outputs": []
    },
    {
      "cell_type": "code",
      "metadata": {
        "id": "mNiZ6qDbE2ki",
        "colab_type": "code",
        "colab": {
          "base_uri": "https://localhost:8080/",
          "height": 35
        },
        "outputId": "14112e5f-47ac-47d9-f412-14bbaf341e9e"
      },
      "source": [
        "x_train.shape"
      ],
      "execution_count": null,
      "outputs": [
        {
          "output_type": "execute_result",
          "data": {
            "text/plain": [
              "(50000, 32, 32, 3)"
            ]
          },
          "metadata": {
            "tags": []
          },
          "execution_count": 15
        }
      ]
    },
    {
      "cell_type": "code",
      "metadata": {
        "id": "yrgRwm9hE2km",
        "colab_type": "code",
        "colab": {}
      },
      "source": [
        "x_train = x_train / 255.0\n",
        "x_test = x_test / 255.0\n",
        "y_train = keras.utils.to_categorical(y_train)\n",
        "y_test = keras.utils.to_categorical(y_test)"
      ],
      "execution_count": null,
      "outputs": []
    },
    {
      "cell_type": "markdown",
      "metadata": {
        "id": "VPxkmxApE2kr",
        "colab_type": "text"
      },
      "source": [
        "Now we build a model, first with a convolutional layer, then a max-pool layer followed by flattening, and then a fully connected output layer."
      ]
    },
    {
      "cell_type": "code",
      "metadata": {
        "id": "3soCXMU8E2kt",
        "colab_type": "code",
        "colab": {}
      },
      "source": [
        "model2 = Sequential()\n",
        "\n",
        "model2.add(Conv2D(filters=32, kernel_size=3, padding='same', activation='relu', input_shape=(32, 32, 3))) \n",
        "model2.add(MaxPooling2D(pool_size=3))\n",
        "model2.add(Conv2D(filters=64, kernel_size=3, padding='same', activation='relu', input_shape=(32, 32, 3))) \n",
        "model2.add(MaxPooling2D(pool_size=2))\n",
        "model2.add(Conv2D(filters=64, kernel_size=2, padding='same', activation='relu', input_shape=(32, 32, 3))) \n",
        "model2.add(MaxPooling2D(pool_size=2))\n",
        "model2.add(Flatten())\n",
        "model2.add(Dense(200, activation='relu'))\n",
        "model2.add(Dense(100, activation='relu'))\n",
        "model2.add(Dense(10, activation='softmax'))\n",
        "\n",
        "model2.compile(loss='categorical_crossentropy', optimizer='adam', metrics=['accuracy'])"
      ],
      "execution_count": null,
      "outputs": []
    },
    {
      "cell_type": "markdown",
      "metadata": {
        "id": "-NEUdAiZE2kz",
        "colab_type": "text"
      },
      "source": [
        "Let's check the summary description of our model."
      ]
    },
    {
      "cell_type": "code",
      "metadata": {
        "id": "1q2v5BitE2k0",
        "colab_type": "code",
        "colab": {
          "base_uri": "https://localhost:8080/",
          "height": 526
        },
        "outputId": "e2256e00-7129-40de-f20f-e737c42b603d"
      },
      "source": [
        "model2.summary()"
      ],
      "execution_count": null,
      "outputs": [
        {
          "output_type": "stream",
          "text": [
            "Model: \"sequential_5\"\n",
            "_________________________________________________________________\n",
            "Layer (type)                 Output Shape              Param #   \n",
            "=================================================================\n",
            "conv2d_8 (Conv2D)            (None, 32, 32, 32)        896       \n",
            "_________________________________________________________________\n",
            "max_pooling2d_8 (MaxPooling2 (None, 10, 10, 32)        0         \n",
            "_________________________________________________________________\n",
            "conv2d_9 (Conv2D)            (None, 10, 10, 64)        18496     \n",
            "_________________________________________________________________\n",
            "max_pooling2d_9 (MaxPooling2 (None, 5, 5, 64)          0         \n",
            "_________________________________________________________________\n",
            "conv2d_10 (Conv2D)           (None, 5, 5, 64)          16448     \n",
            "_________________________________________________________________\n",
            "max_pooling2d_10 (MaxPooling (None, 2, 2, 64)          0         \n",
            "_________________________________________________________________\n",
            "flatten_3 (Flatten)          (None, 256)               0         \n",
            "_________________________________________________________________\n",
            "dense_11 (Dense)             (None, 200)               51400     \n",
            "_________________________________________________________________\n",
            "dense_12 (Dense)             (None, 100)               20100     \n",
            "_________________________________________________________________\n",
            "dense_13 (Dense)             (None, 10)                1010      \n",
            "=================================================================\n",
            "Total params: 108,350\n",
            "Trainable params: 108,350\n",
            "Non-trainable params: 0\n",
            "_________________________________________________________________\n"
          ],
          "name": "stdout"
        }
      ]
    },
    {
      "cell_type": "markdown",
      "metadata": {
        "id": "AHnzwxq0E2k5",
        "colab_type": "text"
      },
      "source": [
        "Now we fit and evaluate the new model."
      ]
    },
    {
      "cell_type": "code",
      "metadata": {
        "id": "lcip9VPcE2k6",
        "colab_type": "code",
        "colab": {
          "base_uri": "https://localhost:8080/",
          "height": 763
        },
        "outputId": "60a7a9b4-e05d-44ff-f781-adcc38ef98e2"
      },
      "source": [
        "model2.fit(x_train, y_train, epochs=20, validation_split=0.1)"
      ],
      "execution_count": null,
      "outputs": [
        {
          "output_type": "stream",
          "text": [
            "Epoch 1/20\n",
            "1407/1407 [==============================] - 53s 37ms/step - loss: 1.5540 - accuracy: 0.4308 - val_loss: 1.2435 - val_accuracy: 0.5610\n",
            "Epoch 2/20\n",
            "1407/1407 [==============================] - 52s 37ms/step - loss: 1.1718 - accuracy: 0.5805 - val_loss: 1.1232 - val_accuracy: 0.5962\n",
            "Epoch 3/20\n",
            "1407/1407 [==============================] - 52s 37ms/step - loss: 1.0175 - accuracy: 0.6391 - val_loss: 0.9445 - val_accuracy: 0.6682\n",
            "Epoch 4/20\n",
            "1407/1407 [==============================] - 54s 39ms/step - loss: 0.9104 - accuracy: 0.6763 - val_loss: 0.8732 - val_accuracy: 0.6914\n",
            "Epoch 5/20\n",
            "1407/1407 [==============================] - 53s 38ms/step - loss: 0.8279 - accuracy: 0.7062 - val_loss: 0.8796 - val_accuracy: 0.6954\n",
            "Epoch 6/20\n",
            "1407/1407 [==============================] - 53s 38ms/step - loss: 0.7645 - accuracy: 0.7314 - val_loss: 0.8436 - val_accuracy: 0.7128\n",
            "Epoch 7/20\n",
            "1407/1407 [==============================] - 52s 37ms/step - loss: 0.7111 - accuracy: 0.7509 - val_loss: 0.8150 - val_accuracy: 0.7156\n",
            "Epoch 8/20\n",
            "1407/1407 [==============================] - 52s 37ms/step - loss: 0.6636 - accuracy: 0.7648 - val_loss: 0.8055 - val_accuracy: 0.7228\n",
            "Epoch 9/20\n",
            "1407/1407 [==============================] - 54s 38ms/step - loss: 0.6227 - accuracy: 0.7811 - val_loss: 0.8089 - val_accuracy: 0.7238\n",
            "Epoch 10/20\n",
            "1407/1407 [==============================] - 53s 37ms/step - loss: 0.5805 - accuracy: 0.7954 - val_loss: 0.7971 - val_accuracy: 0.7318\n",
            "Epoch 11/20\n",
            "1407/1407 [==============================] - 53s 38ms/step - loss: 0.5458 - accuracy: 0.8067 - val_loss: 0.8403 - val_accuracy: 0.7232\n",
            "Epoch 12/20\n",
            "1407/1407 [==============================] - 53s 37ms/step - loss: 0.5124 - accuracy: 0.8181 - val_loss: 0.8173 - val_accuracy: 0.7322\n",
            "Epoch 13/20\n",
            "1407/1407 [==============================] - 51s 37ms/step - loss: 0.4807 - accuracy: 0.8286 - val_loss: 0.8335 - val_accuracy: 0.7328\n",
            "Epoch 14/20\n",
            "1407/1407 [==============================] - 51s 36ms/step - loss: 0.4565 - accuracy: 0.8364 - val_loss: 0.8586 - val_accuracy: 0.7342\n",
            "Epoch 15/20\n",
            "1407/1407 [==============================] - 51s 36ms/step - loss: 0.4332 - accuracy: 0.8442 - val_loss: 0.8668 - val_accuracy: 0.7336\n",
            "Epoch 16/20\n",
            "1407/1407 [==============================] - 51s 36ms/step - loss: 0.3978 - accuracy: 0.8555 - val_loss: 0.9169 - val_accuracy: 0.7288\n",
            "Epoch 17/20\n",
            "1407/1407 [==============================] - 55s 39ms/step - loss: 0.3794 - accuracy: 0.8648 - val_loss: 0.9554 - val_accuracy: 0.7292\n",
            "Epoch 18/20\n",
            "1407/1407 [==============================] - 52s 37ms/step - loss: 0.3553 - accuracy: 0.8723 - val_loss: 0.9327 - val_accuracy: 0.7286\n",
            "Epoch 19/20\n",
            "1407/1407 [==============================] - 51s 36ms/step - loss: 0.3385 - accuracy: 0.8792 - val_loss: 0.9891 - val_accuracy: 0.7360\n",
            "Epoch 20/20\n",
            "1407/1407 [==============================] - 54s 38ms/step - loss: 0.3169 - accuracy: 0.8867 - val_loss: 0.9936 - val_accuracy: 0.7234\n"
          ],
          "name": "stdout"
        },
        {
          "output_type": "execute_result",
          "data": {
            "text/plain": [
              "<tensorflow.python.keras.callbacks.History at 0x7ff73f076cc0>"
            ]
          },
          "metadata": {
            "tags": []
          },
          "execution_count": 31
        }
      ]
    },
    {
      "cell_type": "code",
      "metadata": {
        "id": "8X65Kjr0E2k-",
        "colab_type": "code",
        "colab": {
          "base_uri": "https://localhost:8080/",
          "height": 54
        },
        "outputId": "fbe9439c-131c-4dc0-c870-e3ebc7878b32"
      },
      "source": [
        "_, test_acc = model2.evaluate(x_test, y_test)\n",
        "print(test_acc)"
      ],
      "execution_count": null,
      "outputs": [
        {
          "output_type": "stream",
          "text": [
            "313/313 [==============================] - 4s 13ms/step - loss: 1.0775 - accuracy: 0.7152\n",
            "0.7152000069618225\n"
          ],
          "name": "stdout"
        }
      ]
    },
    {
      "cell_type": "code",
      "metadata": {
        "id": "tHFI0yJWggz9",
        "colab_type": "code",
        "colab": {}
      },
      "source": [
        "# predict category of each sample in the test set\n",
        "y_pred = np.argmax(model2.predict(x_test), axis=1)"
      ],
      "execution_count": null,
      "outputs": []
    },
    {
      "cell_type": "code",
      "metadata": {
        "id": "n75L1hb5g3qC",
        "colab_type": "code",
        "colab": {
          "base_uri": "https://localhost:8080/",
          "height": 450
        },
        "outputId": "5dcd18de-8758-48ae-e421-269740801105"
      },
      "source": [
        "fig, axes = plt.subplots(2,5, figsize=(17,7))\n",
        "\n",
        "for row in range(2):\n",
        "    for col in range(5):\n",
        "        axes[row,col].imshow(x_test[col+row*5])\n",
        "        axes[row,col].set_title('correct: {}\\npredicted: {}'.format(labels[np.argmax(y_test[col+row*5])], labels[y_pred[col+row*5]]))\n"
      ],
      "execution_count": null,
      "outputs": [
        {
          "output_type": "display_data",
          "data": {
            "image/png": "[encoded data removed]",
            "text/plain": [
              "<Figure size 1224x504 with 10 Axes>"
            ]
          },
          "metadata": {
            "tags": [],
            "needs_background": "light"
          }
        }
      ]
    },
    {
      "cell_type": "markdown",
      "metadata": {
        "id": "-zLEIGDzE2lC",
        "colab_type": "text"
      },
      "source": [
        "Now the training accuracy is 0.73 and the test accuracy is 0.63, already much better than the simple fully connected model."
      ]
    },
    {
      "cell_type": "markdown",
      "metadata": {
        "id": "YLCpzMgRE2lD",
        "colab_type": "text"
      },
      "source": [
        "## Exercise 2: Improving the convolutional network\n",
        "\n",
        "Try to improve the network by adding more convolutional layers and neurons. "
      ]
    },
    {
      "cell_type": "code",
      "metadata": {
        "id": "7LhpNRchE2lE",
        "colab_type": "code",
        "colab": {}
      },
      "source": [
        ""
      ],
      "execution_count": null,
      "outputs": []
    },
    {
      "cell_type": "markdown",
      "metadata": {
        "id": "talpTMzAE2lI",
        "colab_type": "text"
      },
      "source": [
        "## Exercise 3: Full analysis\n",
        "\n",
        "Load the MNIST handwritten digits dataset and perform all steps shown above. Try out different architectures to improve your model!"
      ]
    },
    {
      "cell_type": "code",
      "metadata": {
        "id": "d5Rj5mbiE2lJ",
        "colab_type": "code",
        "colab": {}
      },
      "source": [
        "(x_train, y_train), (x_test, y_test) = keras.datasets.mnist.load_data(path=\"mnist.npz\")"
      ],
      "execution_count": null,
      "outputs": []
    },
    {
      "cell_type": "code",
      "metadata": {
        "id": "_GJ6PrCVE2lS",
        "colab_type": "code",
        "colab": {}
      },
      "source": [
        ""
      ],
      "execution_count": null,
      "outputs": []
    },
    {
      "cell_type": "code",
      "metadata": {
        "id": "vr81qM7ePgIb",
        "colab_type": "code",
        "colab": {}
      },
      "source": [
        ""
      ],
      "execution_count": null,
      "outputs": []
    },
    {
      "cell_type": "code",
      "metadata": {
        "id": "Ig33wlfWPgNW",
        "colab_type": "code",
        "colab": {}
      },
      "source": [
        ""
      ],
      "execution_count": null,
      "outputs": []
    },
    {
      "cell_type": "markdown",
      "metadata": {
        "id": "cx3kKwCQPgtN",
        "colab_type": "text"
      },
      "source": [
        "Hint: For the **CNN**, reshape your data using this code. (The data has only one color channel, so you need to add the channel axis)."
      ]
    },
    {
      "cell_type": "code",
      "metadata": {
        "id": "7B8fCL5mPgLw",
        "colab_type": "code",
        "colab": {}
      },
      "source": [
        "x_train = x_train[:,:,:,np.newaxis] / 255.0\n",
        "x_test = x_test[:,:,:,np.newaxis] / 255.0\n",
        "y_train = keras.utils.to_categorical(y_train)\n",
        "y_test = keras.utils.to_categorical(y_test)"
      ],
      "execution_count": null,
      "outputs": []
    },
    {
      "cell_type": "code",
      "metadata": {
        "id": "ZU85NYc3PgGH",
        "colab_type": "code",
        "colab": {}
      },
      "source": [
        ""
      ],
      "execution_count": null,
      "outputs": []
    }
  ]
}