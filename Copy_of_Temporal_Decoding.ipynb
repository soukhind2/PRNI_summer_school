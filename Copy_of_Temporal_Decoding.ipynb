{
  "nbformat": 4,
  "nbformat_minor": 0,
  "metadata": {
    "kernelspec": {
      "display_name": "Python 3.7.8 64-bit ('PRNI': conda)",
      "language": "python",
      "name": "python37864bitprniconda094311afa0894fd98fe9f5af3cee0992"
    },
    "language_info": {
      "codemirror_mode": {
        "name": "ipython",
        "version": 3
      },
      "file_extension": ".py",
      "mimetype": "text/x-python",
      "name": "python",
      "nbconvert_exporter": "python",
      "pygments_lexer": "ipython3",
      "version": "3.7.8-final"
    },
    "colab": {
      "name": "Copy of Temporal_Decoding.ipynb",
      "provenance": [],
      "toc_visible": true,
      "include_colab_link": true
    },
    "widgets": {
      "application/vnd.jupyter.widget-state+json": {
        "16f070be46214dfc98399d9db14903dd": {
          "model_module": "@jupyter-widgets/controls",
          "model_name": "HBoxModel",
          "state": {
            "_view_name": "HBoxView",
            "_dom_classes": [],
            "_model_name": "HBoxModel",
            "_view_module": "@jupyter-widgets/controls",
            "_model_module_version": "1.5.0",
            "_view_count": null,
            "_view_module_version": "1.5.0",
            "box_style": "",
            "layout": "IPY_MODEL_cf6f83cf50bb41239966c948a7574d7b",
            "_model_module": "@jupyter-widgets/controls",
            "children": [
              "IPY_MODEL_4c0692ba5b1e4b63b028a8bcee3dc87f",
              "IPY_MODEL_83ff625490dd42cf9d21e837f89a1b2e"
            ]
          }
        },
        "cf6f83cf50bb41239966c948a7574d7b": {
          "model_module": "@jupyter-widgets/base",
          "model_name": "LayoutModel",
          "state": {
            "_view_name": "LayoutView",
            "grid_template_rows": null,
            "right": null,
            "justify_content": null,
            "_view_module": "@jupyter-widgets/base",
            "overflow": null,
            "_model_module_version": "1.2.0",
            "_view_count": null,
            "flex_flow": null,
            "width": null,
            "min_width": null,
            "border": null,
            "align_items": null,
            "bottom": null,
            "_model_module": "@jupyter-widgets/base",
            "top": null,
            "grid_column": null,
            "overflow_y": null,
            "overflow_x": null,
            "grid_auto_flow": null,
            "grid_area": null,
            "grid_template_columns": null,
            "flex": null,
            "_model_name": "LayoutModel",
            "justify_items": null,
            "grid_row": null,
            "max_height": null,
            "align_content": null,
            "visibility": null,
            "align_self": null,
            "height": null,
            "min_height": null,
            "padding": null,
            "grid_auto_rows": null,
            "grid_gap": null,
            "max_width": null,
            "order": null,
            "_view_module_version": "1.2.0",
            "grid_template_areas": null,
            "object_position": null,
            "object_fit": null,
            "grid_auto_columns": null,
            "margin": null,
            "display": null,
            "left": null
          }
        },
        "4c0692ba5b1e4b63b028a8bcee3dc87f": {
          "model_module": "@jupyter-widgets/controls",
          "model_name": "FloatProgressModel",
          "state": {
            "_view_name": "ProgressView",
            "style": "IPY_MODEL_c3cfbb082d2a47f6a6565f4789847524",
            "_dom_classes": [],
            "description": "100%",
            "_model_name": "FloatProgressModel",
            "bar_style": "success",
            "max": 1652769680,
            "_view_module": "@jupyter-widgets/controls",
            "_model_module_version": "1.5.0",
            "value": 1652769680,
            "_view_count": null,
            "_view_module_version": "1.5.0",
            "orientation": "horizontal",
            "min": 0,
            "description_tooltip": null,
            "_model_module": "@jupyter-widgets/controls",
            "layout": "IPY_MODEL_ad91612ca0764a4db239afa9f60a9f05"
          }
        },
        "83ff625490dd42cf9d21e837f89a1b2e": {
          "model_module": "@jupyter-widgets/controls",
          "model_name": "HTMLModel",
          "state": {
            "_view_name": "HTMLView",
            "style": "IPY_MODEL_5a757916790b4214a91623897dd76e52",
            "_dom_classes": [],
            "description": "",
            "_model_name": "HTMLModel",
            "placeholder": "​",
            "_view_module": "@jupyter-widgets/controls",
            "_model_module_version": "1.5.0",
            "value": " Downloading : 1.54G/1.54G [00:27&lt;00:00,    61.0MB/s]",
            "_view_count": null,
            "_view_module_version": "1.5.0",
            "description_tooltip": null,
            "_model_module": "@jupyter-widgets/controls",
            "layout": "IPY_MODEL_923588be201140cd8a7e1bab32400664"
          }
        },
        "c3cfbb082d2a47f6a6565f4789847524": {
          "model_module": "@jupyter-widgets/controls",
          "model_name": "ProgressStyleModel",
          "state": {
            "_view_name": "StyleView",
            "_model_name": "ProgressStyleModel",
            "description_width": "initial",
            "_view_module": "@jupyter-widgets/base",
            "_model_module_version": "1.5.0",
            "_view_count": null,
            "_view_module_version": "1.2.0",
            "bar_color": null,
            "_model_module": "@jupyter-widgets/controls"
          }
        },
        "ad91612ca0764a4db239afa9f60a9f05": {
          "model_module": "@jupyter-widgets/base",
          "model_name": "LayoutModel",
          "state": {
            "_view_name": "LayoutView",
            "grid_template_rows": null,
            "right": null,
            "justify_content": null,
            "_view_module": "@jupyter-widgets/base",
            "overflow": null,
            "_model_module_version": "1.2.0",
            "_view_count": null,
            "flex_flow": null,
            "width": null,
            "min_width": null,
            "border": null,
            "align_items": null,
            "bottom": null,
            "_model_module": "@jupyter-widgets/base",
            "top": null,
            "grid_column": null,
            "overflow_y": null,
            "overflow_x": null,
            "grid_auto_flow": null,
            "grid_area": null,
            "grid_template_columns": null,
            "flex": null,
            "_model_name": "LayoutModel",
            "justify_items": null,
            "grid_row": null,
            "max_height": null,
            "align_content": null,
            "visibility": null,
            "align_self": null,
            "height": null,
            "min_height": null,
            "padding": null,
            "grid_auto_rows": null,
            "grid_gap": null,
            "max_width": null,
            "order": null,
            "_view_module_version": "1.2.0",
            "grid_template_areas": null,
            "object_position": null,
            "object_fit": null,
            "grid_auto_columns": null,
            "margin": null,
            "display": null,
            "left": null
          }
        },
        "5a757916790b4214a91623897dd76e52": {
          "model_module": "@jupyter-widgets/controls",
          "model_name": "DescriptionStyleModel",
          "state": {
            "_view_name": "StyleView",
            "_model_name": "DescriptionStyleModel",
            "description_width": "",
            "_view_module": "@jupyter-widgets/base",
            "_model_module_version": "1.5.0",
            "_view_count": null,
            "_view_module_version": "1.2.0",
            "_model_module": "@jupyter-widgets/controls"
          }
        },
        "923588be201140cd8a7e1bab32400664": {
          "model_module": "@jupyter-widgets/base",
          "model_name": "LayoutModel",
          "state": {
            "_view_name": "LayoutView",
            "grid_template_rows": null,
            "right": null,
            "justify_content": null,
            "_view_module": "@jupyter-widgets/base",
            "overflow": null,
            "_model_module_version": "1.2.0",
            "_view_count": null,
            "flex_flow": null,
            "width": null,
            "min_width": null,
            "border": null,
            "align_items": null,
            "bottom": null,
            "_model_module": "@jupyter-widgets/base",
            "top": null,
            "grid_column": null,
            "overflow_y": null,
            "overflow_x": null,
            "grid_auto_flow": null,
            "grid_area": null,
            "grid_template_columns": null,
            "flex": null,
            "_model_name": "LayoutModel",
            "justify_items": null,
            "grid_row": null,
            "max_height": null,
            "align_content": null,
            "visibility": null,
            "align_self": null,
            "height": null,
            "min_height": null,
            "padding": null,
            "grid_auto_rows": null,
            "grid_gap": null,
            "max_width": null,
            "order": null,
            "_view_module_version": "1.2.0",
            "grid_template_areas": null,
            "object_position": null,
            "object_fit": null,
            "grid_auto_columns": null,
            "margin": null,
            "display": null,
            "left": null
          }
        },
        "125fd723736549d9bee943563c207a29": {
          "model_module": "@jupyter-widgets/controls",
          "model_name": "HBoxModel",
          "state": {
            "_view_name": "HBoxView",
            "_dom_classes": [],
            "_model_name": "HBoxModel",
            "_view_module": "@jupyter-widgets/controls",
            "_model_module_version": "1.5.0",
            "_view_count": null,
            "_view_module_version": "1.5.0",
            "box_style": "",
            "layout": "IPY_MODEL_268db1adde4a4233a7145712218e1149",
            "_model_module": "@jupyter-widgets/controls",
            "children": [
              "IPY_MODEL_c62d3591cf5f4cc7943fd9c6f3f475ae",
              "IPY_MODEL_c44feb4404174d9cbe1ab3628e987cec"
            ]
          }
        },
        "268db1adde4a4233a7145712218e1149": {
          "model_module": "@jupyter-widgets/base",
          "model_name": "LayoutModel",
          "state": {
            "_view_name": "LayoutView",
            "grid_template_rows": null,
            "right": null,
            "justify_content": null,
            "_view_module": "@jupyter-widgets/base",
            "overflow": null,
            "_model_module_version": "1.2.0",
            "_view_count": null,
            "flex_flow": null,
            "width": null,
            "min_width": null,
            "border": null,
            "align_items": null,
            "bottom": null,
            "_model_module": "@jupyter-widgets/base",
            "top": null,
            "grid_column": null,
            "overflow_y": null,
            "overflow_x": null,
            "grid_auto_flow": null,
            "grid_area": null,
            "grid_template_columns": null,
            "flex": null,
            "_model_name": "LayoutModel",
            "justify_items": null,
            "grid_row": null,
            "max_height": null,
            "align_content": null,
            "visibility": null,
            "align_self": null,
            "height": null,
            "min_height": null,
            "padding": null,
            "grid_auto_rows": null,
            "grid_gap": null,
            "max_width": null,
            "order": null,
            "_view_module_version": "1.2.0",
            "grid_template_areas": null,
            "object_position": null,
            "object_fit": null,
            "grid_auto_columns": null,
            "margin": null,
            "display": null,
            "left": null
          }
        },
        "c62d3591cf5f4cc7943fd9c6f3f475ae": {
          "model_module": "@jupyter-widgets/controls",
          "model_name": "FloatProgressModel",
          "state": {
            "_view_name": "ProgressView",
            "style": "IPY_MODEL_3e75b7e3c46546e08bc4d14669bff0da",
            "_dom_classes": [],
            "description": "100%",
            "_model_name": "FloatProgressModel",
            "bar_style": "success",
            "max": 76,
            "_view_module": "@jupyter-widgets/controls",
            "_model_module_version": "1.5.0",
            "value": 76,
            "_view_count": null,
            "_view_module_version": "1.5.0",
            "orientation": "horizontal",
            "min": 0,
            "description_tooltip": null,
            "_model_module": "@jupyter-widgets/controls",
            "layout": "IPY_MODEL_8370e600733d43ec99f3a693ac2efbb5"
          }
        },
        "c44feb4404174d9cbe1ab3628e987cec": {
          "model_module": "@jupyter-widgets/controls",
          "model_name": "HTMLModel",
          "state": {
            "_view_name": "HTMLView",
            "style": "IPY_MODEL_2988aef8079341318915567a8808f35b",
            "_dom_classes": [],
            "description": "",
            "_model_name": "HTMLModel",
            "placeholder": "​",
            "_view_module": "@jupyter-widgets/controls",
            "_model_module_version": "1.5.0",
            "value": " Fitting SlidingEstimator : 76/76 [00:04&lt;00:00,   18.51it/s]",
            "_view_count": null,
            "_view_module_version": "1.5.0",
            "description_tooltip": null,
            "_model_module": "@jupyter-widgets/controls",
            "layout": "IPY_MODEL_793477a0d9754125a29981e1d4f528ad"
          }
        },
        "3e75b7e3c46546e08bc4d14669bff0da": {
          "model_module": "@jupyter-widgets/controls",
          "model_name": "ProgressStyleModel",
          "state": {
            "_view_name": "StyleView",
            "_model_name": "ProgressStyleModel",
            "description_width": "initial",
            "_view_module": "@jupyter-widgets/base",
            "_model_module_version": "1.5.0",
            "_view_count": null,
            "_view_module_version": "1.2.0",
            "bar_color": null,
            "_model_module": "@jupyter-widgets/controls"
          }
        },
        "8370e600733d43ec99f3a693ac2efbb5": {
          "model_module": "@jupyter-widgets/base",
          "model_name": "LayoutModel",
          "state": {
            "_view_name": "LayoutView",
            "grid_template_rows": null,
            "right": null,
            "justify_content": null,
            "_view_module": "@jupyter-widgets/base",
            "overflow": null,
            "_model_module_version": "1.2.0",
            "_view_count": null,
            "flex_flow": null,
            "width": null,
            "min_width": null,
            "border": null,
            "align_items": null,
            "bottom": null,
            "_model_module": "@jupyter-widgets/base",
            "top": null,
            "grid_column": null,
            "overflow_y": null,
            "overflow_x": null,
            "grid_auto_flow": null,
            "grid_area": null,
            "grid_template_columns": null,
            "flex": null,
            "_model_name": "LayoutModel",
            "justify_items": null,
            "grid_row": null,
            "max_height": null,
            "align_content": null,
            "visibility": null,
            "align_self": null,
            "height": null,
            "min_height": null,
            "padding": null,
            "grid_auto_rows": null,
            "grid_gap": null,
            "max_width": null,
            "order": null,
            "_view_module_version": "1.2.0",
            "grid_template_areas": null,
            "object_position": null,
            "object_fit": null,
            "grid_auto_columns": null,
            "margin": null,
            "display": null,
            "left": null
          }
        },
        "2988aef8079341318915567a8808f35b": {
          "model_module": "@jupyter-widgets/controls",
          "model_name": "DescriptionStyleModel",
          "state": {
            "_view_name": "StyleView",
            "_model_name": "DescriptionStyleModel",
            "description_width": "",
            "_view_module": "@jupyter-widgets/base",
            "_model_module_version": "1.5.0",
            "_view_count": null,
            "_view_module_version": "1.2.0",
            "_model_module": "@jupyter-widgets/controls"
          }
        },
        "793477a0d9754125a29981e1d4f528ad": {
          "model_module": "@jupyter-widgets/base",
          "model_name": "LayoutModel",
          "state": {
            "_view_name": "LayoutView",
            "grid_template_rows": null,
            "right": null,
            "justify_content": null,
            "_view_module": "@jupyter-widgets/base",
            "overflow": null,
            "_model_module_version": "1.2.0",
            "_view_count": null,
            "flex_flow": null,
            "width": null,
            "min_width": null,
            "border": null,
            "align_items": null,
            "bottom": null,
            "_model_module": "@jupyter-widgets/base",
            "top": null,
            "grid_column": null,
            "overflow_y": null,
            "overflow_x": null,
            "grid_auto_flow": null,
            "grid_area": null,
            "grid_template_columns": null,
            "flex": null,
            "_model_name": "LayoutModel",
            "justify_items": null,
            "grid_row": null,
            "max_height": null,
            "align_content": null,
            "visibility": null,
            "align_self": null,
            "height": null,
            "min_height": null,
            "padding": null,
            "grid_auto_rows": null,
            "grid_gap": null,
            "max_width": null,
            "order": null,
            "_view_module_version": "1.2.0",
            "grid_template_areas": null,
            "object_position": null,
            "object_fit": null,
            "grid_auto_columns": null,
            "margin": null,
            "display": null,
            "left": null
          }
        },
        "d3823759bb9d4323b583c752d2832e80": {
          "model_module": "@jupyter-widgets/controls",
          "model_name": "HBoxModel",
          "state": {
            "_view_name": "HBoxView",
            "_dom_classes": [],
            "_model_name": "HBoxModel",
            "_view_module": "@jupyter-widgets/controls",
            "_model_module_version": "1.5.0",
            "_view_count": null,
            "_view_module_version": "1.5.0",
            "box_style": "",
            "layout": "IPY_MODEL_42ac1a98487047f4bafb9ab41ef38b98",
            "_model_module": "@jupyter-widgets/controls",
            "children": [
              "IPY_MODEL_13bf752a073743b6afdf97f7dc645e0e",
              "IPY_MODEL_54202fe6c98247438f5d6c24dd6bf529"
            ]
          }
        },
        "42ac1a98487047f4bafb9ab41ef38b98": {
          "model_module": "@jupyter-widgets/base",
          "model_name": "LayoutModel",
          "state": {
            "_view_name": "LayoutView",
            "grid_template_rows": null,
            "right": null,
            "justify_content": null,
            "_view_module": "@jupyter-widgets/base",
            "overflow": null,
            "_model_module_version": "1.2.0",
            "_view_count": null,
            "flex_flow": null,
            "width": null,
            "min_width": null,
            "border": null,
            "align_items": null,
            "bottom": null,
            "_model_module": "@jupyter-widgets/base",
            "top": null,
            "grid_column": null,
            "overflow_y": null,
            "overflow_x": null,
            "grid_auto_flow": null,
            "grid_area": null,
            "grid_template_columns": null,
            "flex": null,
            "_model_name": "LayoutModel",
            "justify_items": null,
            "grid_row": null,
            "max_height": null,
            "align_content": null,
            "visibility": null,
            "align_self": null,
            "height": null,
            "min_height": null,
            "padding": null,
            "grid_auto_rows": null,
            "grid_gap": null,
            "max_width": null,
            "order": null,
            "_view_module_version": "1.2.0",
            "grid_template_areas": null,
            "object_position": null,
            "object_fit": null,
            "grid_auto_columns": null,
            "margin": null,
            "display": null,
            "left": null
          }
        },
        "13bf752a073743b6afdf97f7dc645e0e": {
          "model_module": "@jupyter-widgets/controls",
          "model_name": "FloatProgressModel",
          "state": {
            "_view_name": "ProgressView",
            "style": "IPY_MODEL_5e704504e179458f83094d1763b4309b",
            "_dom_classes": [],
            "description": "100%",
            "_model_name": "FloatProgressModel",
            "bar_style": "success",
            "max": 76,
            "_view_module": "@jupyter-widgets/controls",
            "_model_module_version": "1.5.0",
            "value": 76,
            "_view_count": null,
            "_view_module_version": "1.5.0",
            "orientation": "horizontal",
            "min": 0,
            "description_tooltip": null,
            "_model_module": "@jupyter-widgets/controls",
            "layout": "IPY_MODEL_aa31ec3cc90e4170951e6a0a7287fef8"
          }
        },
        "54202fe6c98247438f5d6c24dd6bf529": {
          "model_module": "@jupyter-widgets/controls",
          "model_name": "HTMLModel",
          "state": {
            "_view_name": "HTMLView",
            "style": "IPY_MODEL_532462f01a744fbfb3cefedc3e61109f",
            "_dom_classes": [],
            "description": "",
            "_model_name": "HTMLModel",
            "placeholder": "​",
            "_view_module": "@jupyter-widgets/controls",
            "_model_module_version": "1.5.0",
            "value": " Fitting SlidingEstimator : 76/76 [37:32&lt;00:00,   29.64s/it]",
            "_view_count": null,
            "_view_module_version": "1.5.0",
            "description_tooltip": null,
            "_model_module": "@jupyter-widgets/controls",
            "layout": "IPY_MODEL_7c0b26be461c48cbb2b649489f410949"
          }
        },
        "5e704504e179458f83094d1763b4309b": {
          "model_module": "@jupyter-widgets/controls",
          "model_name": "ProgressStyleModel",
          "state": {
            "_view_name": "StyleView",
            "_model_name": "ProgressStyleModel",
            "description_width": "initial",
            "_view_module": "@jupyter-widgets/base",
            "_model_module_version": "1.5.0",
            "_view_count": null,
            "_view_module_version": "1.2.0",
            "bar_color": null,
            "_model_module": "@jupyter-widgets/controls"
          }
        },
        "aa31ec3cc90e4170951e6a0a7287fef8": {
          "model_module": "@jupyter-widgets/base",
          "model_name": "LayoutModel",
          "state": {
            "_view_name": "LayoutView",
            "grid_template_rows": null,
            "right": null,
            "justify_content": null,
            "_view_module": "@jupyter-widgets/base",
            "overflow": null,
            "_model_module_version": "1.2.0",
            "_view_count": null,
            "flex_flow": null,
            "width": null,
            "min_width": null,
            "border": null,
            "align_items": null,
            "bottom": null,
            "_model_module": "@jupyter-widgets/base",
            "top": null,
            "grid_column": null,
            "overflow_y": null,
            "overflow_x": null,
            "grid_auto_flow": null,
            "grid_area": null,
            "grid_template_columns": null,
            "flex": null,
            "_model_name": "LayoutModel",
            "justify_items": null,
            "grid_row": null,
            "max_height": null,
            "align_content": null,
            "visibility": null,
            "align_self": null,
            "height": null,
            "min_height": null,
            "padding": null,
            "grid_auto_rows": null,
            "grid_gap": null,
            "max_width": null,
            "order": null,
            "_view_module_version": "1.2.0",
            "grid_template_areas": null,
            "object_position": null,
            "object_fit": null,
            "grid_auto_columns": null,
            "margin": null,
            "display": null,
            "left": null
          }
        },
        "532462f01a744fbfb3cefedc3e61109f": {
          "model_module": "@jupyter-widgets/controls",
          "model_name": "DescriptionStyleModel",
          "state": {
            "_view_name": "StyleView",
            "_model_name": "DescriptionStyleModel",
            "description_width": "",
            "_view_module": "@jupyter-widgets/base",
            "_model_module_version": "1.5.0",
            "_view_count": null,
            "_view_module_version": "1.2.0",
            "_model_module": "@jupyter-widgets/controls"
          }
        },
        "7c0b26be461c48cbb2b649489f410949": {
          "model_module": "@jupyter-widgets/base",
          "model_name": "LayoutModel",
          "state": {
            "_view_name": "LayoutView",
            "grid_template_rows": null,
            "right": null,
            "justify_content": null,
            "_view_module": "@jupyter-widgets/base",
            "overflow": null,
            "_model_module_version": "1.2.0",
            "_view_count": null,
            "flex_flow": null,
            "width": null,
            "min_width": null,
            "border": null,
            "align_items": null,
            "bottom": null,
            "_model_module": "@jupyter-widgets/base",
            "top": null,
            "grid_column": null,
            "overflow_y": null,
            "overflow_x": null,
            "grid_auto_flow": null,
            "grid_area": null,
            "grid_template_columns": null,
            "flex": null,
            "_model_name": "LayoutModel",
            "justify_items": null,
            "grid_row": null,
            "max_height": null,
            "align_content": null,
            "visibility": null,
            "align_self": null,
            "height": null,
            "min_height": null,
            "padding": null,
            "grid_auto_rows": null,
            "grid_gap": null,
            "max_width": null,
            "order": null,
            "_view_module_version": "1.2.0",
            "grid_template_areas": null,
            "object_position": null,
            "object_fit": null,
            "grid_auto_columns": null,
            "margin": null,
            "display": null,
            "left": null
          }
        },
        "72888cc1b79344c68db92bc8f15ae9d3": {
          "model_module": "@jupyter-widgets/controls",
          "model_name": "HBoxModel",
          "state": {
            "_view_name": "HBoxView",
            "_dom_classes": [],
            "_model_name": "HBoxModel",
            "_view_module": "@jupyter-widgets/controls",
            "_model_module_version": "1.5.0",
            "_view_count": null,
            "_view_module_version": "1.5.0",
            "box_style": "",
            "layout": "IPY_MODEL_79199942a84441aab396f0d4f0764992",
            "_model_module": "@jupyter-widgets/controls",
            "children": [
              "IPY_MODEL_b463db77d1034959bbaaeda0f7ce2f40",
              "IPY_MODEL_ebd2c83b0f3a4c4dbbe78786700758d9"
            ]
          }
        },
        "79199942a84441aab396f0d4f0764992": {
          "model_module": "@jupyter-widgets/base",
          "model_name": "LayoutModel",
          "state": {
            "_view_name": "LayoutView",
            "grid_template_rows": null,
            "right": null,
            "justify_content": null,
            "_view_module": "@jupyter-widgets/base",
            "overflow": null,
            "_model_module_version": "1.2.0",
            "_view_count": null,
            "flex_flow": null,
            "width": null,
            "min_width": null,
            "border": null,
            "align_items": null,
            "bottom": null,
            "_model_module": "@jupyter-widgets/base",
            "top": null,
            "grid_column": null,
            "overflow_y": null,
            "overflow_x": null,
            "grid_auto_flow": null,
            "grid_area": null,
            "grid_template_columns": null,
            "flex": null,
            "_model_name": "LayoutModel",
            "justify_items": null,
            "grid_row": null,
            "max_height": null,
            "align_content": null,
            "visibility": null,
            "align_self": null,
            "height": null,
            "min_height": null,
            "padding": null,
            "grid_auto_rows": null,
            "grid_gap": null,
            "max_width": null,
            "order": null,
            "_view_module_version": "1.2.0",
            "grid_template_areas": null,
            "object_position": null,
            "object_fit": null,
            "grid_auto_columns": null,
            "margin": null,
            "display": null,
            "left": null
          }
        },
        "b463db77d1034959bbaaeda0f7ce2f40": {
          "model_module": "@jupyter-widgets/controls",
          "model_name": "FloatProgressModel",
          "state": {
            "_view_name": "ProgressView",
            "style": "IPY_MODEL_df17b27e231b482c9bea4c3cf40ec501",
            "_dom_classes": [],
            "description": "100%",
            "_model_name": "FloatProgressModel",
            "bar_style": "success",
            "max": 76,
            "_view_module": "@jupyter-widgets/controls",
            "_model_module_version": "1.5.0",
            "value": 76,
            "_view_count": null,
            "_view_module_version": "1.5.0",
            "orientation": "horizontal",
            "min": 0,
            "description_tooltip": null,
            "_model_module": "@jupyter-widgets/controls",
            "layout": "IPY_MODEL_1c451f9130884adb9ee2d94a3f0e418c"
          }
        },
        "ebd2c83b0f3a4c4dbbe78786700758d9": {
          "model_module": "@jupyter-widgets/controls",
          "model_name": "HTMLModel",
          "state": {
            "_view_name": "HTMLView",
            "style": "IPY_MODEL_3d4cae8aab7c49abbc35be27fe05fe66",
            "_dom_classes": [],
            "description": "",
            "_model_name": "HTMLModel",
            "placeholder": "​",
            "_view_module": "@jupyter-widgets/controls",
            "_model_module_version": "1.5.0",
            "value": " Fitting SlidingEstimator : 76/76 [00:12&lt;00:00,    6.22it/s]",
            "_view_count": null,
            "_view_module_version": "1.5.0",
            "description_tooltip": null,
            "_model_module": "@jupyter-widgets/controls",
            "layout": "IPY_MODEL_3e09e53efe8048f8a93416bd5daf259f"
          }
        },
        "df17b27e231b482c9bea4c3cf40ec501": {
          "model_module": "@jupyter-widgets/controls",
          "model_name": "ProgressStyleModel",
          "state": {
            "_view_name": "StyleView",
            "_model_name": "ProgressStyleModel",
            "description_width": "initial",
            "_view_module": "@jupyter-widgets/base",
            "_model_module_version": "1.5.0",
            "_view_count": null,
            "_view_module_version": "1.2.0",
            "bar_color": null,
            "_model_module": "@jupyter-widgets/controls"
          }
        },
        "1c451f9130884adb9ee2d94a3f0e418c": {
          "model_module": "@jupyter-widgets/base",
          "model_name": "LayoutModel",
          "state": {
            "_view_name": "LayoutView",
            "grid_template_rows": null,
            "right": null,
            "justify_content": null,
            "_view_module": "@jupyter-widgets/base",
            "overflow": null,
            "_model_module_version": "1.2.0",
            "_view_count": null,
            "flex_flow": null,
            "width": null,
            "min_width": null,
            "border": null,
            "align_items": null,
            "bottom": null,
            "_model_module": "@jupyter-widgets/base",
            "top": null,
            "grid_column": null,
            "overflow_y": null,
            "overflow_x": null,
            "grid_auto_flow": null,
            "grid_area": null,
            "grid_template_columns": null,
            "flex": null,
            "_model_name": "LayoutModel",
            "justify_items": null,
            "grid_row": null,
            "max_height": null,
            "align_content": null,
            "visibility": null,
            "align_self": null,
            "height": null,
            "min_height": null,
            "padding": null,
            "grid_auto_rows": null,
            "grid_gap": null,
            "max_width": null,
            "order": null,
            "_view_module_version": "1.2.0",
            "grid_template_areas": null,
            "object_position": null,
            "object_fit": null,
            "grid_auto_columns": null,
            "margin": null,
            "display": null,
            "left": null
          }
        },
        "3d4cae8aab7c49abbc35be27fe05fe66": {
          "model_module": "@jupyter-widgets/controls",
          "model_name": "DescriptionStyleModel",
          "state": {
            "_view_name": "StyleView",
            "_model_name": "DescriptionStyleModel",
            "description_width": "",
            "_view_module": "@jupyter-widgets/base",
            "_model_module_version": "1.5.0",
            "_view_count": null,
            "_view_module_version": "1.2.0",
            "_model_module": "@jupyter-widgets/controls"
          }
        },
        "3e09e53efe8048f8a93416bd5daf259f": {
          "model_module": "@jupyter-widgets/base",
          "model_name": "LayoutModel",
          "state": {
            "_view_name": "LayoutView",
            "grid_template_rows": null,
            "right": null,
            "justify_content": null,
            "_view_module": "@jupyter-widgets/base",
            "overflow": null,
            "_model_module_version": "1.2.0",
            "_view_count": null,
            "flex_flow": null,
            "width": null,
            "min_width": null,
            "border": null,
            "align_items": null,
            "bottom": null,
            "_model_module": "@jupyter-widgets/base",
            "top": null,
            "grid_column": null,
            "overflow_y": null,
            "overflow_x": null,
            "grid_auto_flow": null,
            "grid_area": null,
            "grid_template_columns": null,
            "flex": null,
            "_model_name": "LayoutModel",
            "justify_items": null,
            "grid_row": null,
            "max_height": null,
            "align_content": null,
            "visibility": null,
            "align_self": null,
            "height": null,
            "min_height": null,
            "padding": null,
            "grid_auto_rows": null,
            "grid_gap": null,
            "max_width": null,
            "order": null,
            "_view_module_version": "1.2.0",
            "grid_template_areas": null,
            "object_position": null,
            "object_fit": null,
            "grid_auto_columns": null,
            "margin": null,
            "display": null,
            "left": null
          }
        },
        "c5463bd3e9b5401ea897ea1620d86047": {
          "model_module": "@jupyter-widgets/controls",
          "model_name": "HBoxModel",
          "state": {
            "_view_name": "HBoxView",
            "_dom_classes": [],
            "_model_name": "HBoxModel",
            "_view_module": "@jupyter-widgets/controls",
            "_model_module_version": "1.5.0",
            "_view_count": null,
            "_view_module_version": "1.5.0",
            "box_style": "",
            "layout": "IPY_MODEL_2c4714ff48d5413bab3e146cc716cf3e",
            "_model_module": "@jupyter-widgets/controls",
            "children": [
              "IPY_MODEL_e54d39fc212f4cd197ad2e71e5747e68",
              "IPY_MODEL_91dfba4cf6144aba973907a678883f06"
            ]
          }
        },
        "2c4714ff48d5413bab3e146cc716cf3e": {
          "model_module": "@jupyter-widgets/base",
          "model_name": "LayoutModel",
          "state": {
            "_view_name": "LayoutView",
            "grid_template_rows": null,
            "right": null,
            "justify_content": null,
            "_view_module": "@jupyter-widgets/base",
            "overflow": null,
            "_model_module_version": "1.2.0",
            "_view_count": null,
            "flex_flow": null,
            "width": null,
            "min_width": null,
            "border": null,
            "align_items": null,
            "bottom": null,
            "_model_module": "@jupyter-widgets/base",
            "top": null,
            "grid_column": null,
            "overflow_y": null,
            "overflow_x": null,
            "grid_auto_flow": null,
            "grid_area": null,
            "grid_template_columns": null,
            "flex": null,
            "_model_name": "LayoutModel",
            "justify_items": null,
            "grid_row": null,
            "max_height": null,
            "align_content": null,
            "visibility": null,
            "align_self": null,
            "height": null,
            "min_height": null,
            "padding": null,
            "grid_auto_rows": null,
            "grid_gap": null,
            "max_width": null,
            "order": null,
            "_view_module_version": "1.2.0",
            "grid_template_areas": null,
            "object_position": null,
            "object_fit": null,
            "grid_auto_columns": null,
            "margin": null,
            "display": null,
            "left": null
          }
        },
        "e54d39fc212f4cd197ad2e71e5747e68": {
          "model_module": "@jupyter-widgets/controls",
          "model_name": "FloatProgressModel",
          "state": {
            "_view_name": "ProgressView",
            "style": "IPY_MODEL_06e35c8808354b269dbae07cfdef744b",
            "_dom_classes": [],
            "description": "100%",
            "_model_name": "FloatProgressModel",
            "bar_style": "success",
            "max": 76,
            "_view_module": "@jupyter-widgets/controls",
            "_model_module_version": "1.5.0",
            "value": 76,
            "_view_count": null,
            "_view_module_version": "1.5.0",
            "orientation": "horizontal",
            "min": 0,
            "description_tooltip": null,
            "_model_module": "@jupyter-widgets/controls",
            "layout": "IPY_MODEL_38cb8e29b21a47e08cc1a9cf2ed7a848"
          }
        },
        "91dfba4cf6144aba973907a678883f06": {
          "model_module": "@jupyter-widgets/controls",
          "model_name": "HTMLModel",
          "state": {
            "_view_name": "HTMLView",
            "style": "IPY_MODEL_d7b61fa339ce460d96f6ff6b5ba4d621",
            "_dom_classes": [],
            "description": "",
            "_model_name": "HTMLModel",
            "placeholder": "​",
            "_view_module": "@jupyter-widgets/controls",
            "_model_module_version": "1.5.0",
            "value": " Fitting SlidingEstimator : 76/76 [00:10&lt;00:00,    7.59it/s]",
            "_view_count": null,
            "_view_module_version": "1.5.0",
            "description_tooltip": null,
            "_model_module": "@jupyter-widgets/controls",
            "layout": "IPY_MODEL_03edf163fbcb4d9182cb6259f797a4c4"
          }
        },
        "06e35c8808354b269dbae07cfdef744b": {
          "model_module": "@jupyter-widgets/controls",
          "model_name": "ProgressStyleModel",
          "state": {
            "_view_name": "StyleView",
            "_model_name": "ProgressStyleModel",
            "description_width": "initial",
            "_view_module": "@jupyter-widgets/base",
            "_model_module_version": "1.5.0",
            "_view_count": null,
            "_view_module_version": "1.2.0",
            "bar_color": null,
            "_model_module": "@jupyter-widgets/controls"
          }
        },
        "38cb8e29b21a47e08cc1a9cf2ed7a848": {
          "model_module": "@jupyter-widgets/base",
          "model_name": "LayoutModel",
          "state": {
            "_view_name": "LayoutView",
            "grid_template_rows": null,
            "right": null,
            "justify_content": null,
            "_view_module": "@jupyter-widgets/base",
            "overflow": null,
            "_model_module_version": "1.2.0",
            "_view_count": null,
            "flex_flow": null,
            "width": null,
            "min_width": null,
            "border": null,
            "align_items": null,
            "bottom": null,
            "_model_module": "@jupyter-widgets/base",
            "top": null,
            "grid_column": null,
            "overflow_y": null,
            "overflow_x": null,
            "grid_auto_flow": null,
            "grid_area": null,
            "grid_template_columns": null,
            "flex": null,
            "_model_name": "LayoutModel",
            "justify_items": null,
            "grid_row": null,
            "max_height": null,
            "align_content": null,
            "visibility": null,
            "align_self": null,
            "height": null,
            "min_height": null,
            "padding": null,
            "grid_auto_rows": null,
            "grid_gap": null,
            "max_width": null,
            "order": null,
            "_view_module_version": "1.2.0",
            "grid_template_areas": null,
            "object_position": null,
            "object_fit": null,
            "grid_auto_columns": null,
            "margin": null,
            "display": null,
            "left": null
          }
        },
        "d7b61fa339ce460d96f6ff6b5ba4d621": {
          "model_module": "@jupyter-widgets/controls",
          "model_name": "DescriptionStyleModel",
          "state": {
            "_view_name": "StyleView",
            "_model_name": "DescriptionStyleModel",
            "description_width": "",
            "_view_module": "@jupyter-widgets/base",
            "_model_module_version": "1.5.0",
            "_view_count": null,
            "_view_module_version": "1.2.0",
            "_model_module": "@jupyter-widgets/controls"
          }
        },
        "03edf163fbcb4d9182cb6259f797a4c4": {
          "model_module": "@jupyter-widgets/base",
          "model_name": "LayoutModel",
          "state": {
            "_view_name": "LayoutView",
            "grid_template_rows": null,
            "right": null,
            "justify_content": null,
            "_view_module": "@jupyter-widgets/base",
            "overflow": null,
            "_model_module_version": "1.2.0",
            "_view_count": null,
            "flex_flow": null,
            "width": null,
            "min_width": null,
            "border": null,
            "align_items": null,
            "bottom": null,
            "_model_module": "@jupyter-widgets/base",
            "top": null,
            "grid_column": null,
            "overflow_y": null,
            "overflow_x": null,
            "grid_auto_flow": null,
            "grid_area": null,
            "grid_template_columns": null,
            "flex": null,
            "_model_name": "LayoutModel",
            "justify_items": null,
            "grid_row": null,
            "max_height": null,
            "align_content": null,
            "visibility": null,
            "align_self": null,
            "height": null,
            "min_height": null,
            "padding": null,
            "grid_auto_rows": null,
            "grid_gap": null,
            "max_width": null,
            "order": null,
            "_view_module_version": "1.2.0",
            "grid_template_areas": null,
            "object_position": null,
            "object_fit": null,
            "grid_auto_columns": null,
            "margin": null,
            "display": null,
            "left": null
          }
        },
        "be9f6a7322c447748e6487687e911dfc": {
          "model_module": "@jupyter-widgets/controls",
          "model_name": "HBoxModel",
          "state": {
            "_view_name": "HBoxView",
            "_dom_classes": [],
            "_model_name": "HBoxModel",
            "_view_module": "@jupyter-widgets/controls",
            "_model_module_version": "1.5.0",
            "_view_count": null,
            "_view_module_version": "1.5.0",
            "box_style": "",
            "layout": "IPY_MODEL_abae4522e0934732b7f6f53a3c4b0fcf",
            "_model_module": "@jupyter-widgets/controls",
            "children": [
              "IPY_MODEL_7100c372e9294f1197e0ae1b17e5841a",
              "IPY_MODEL_b58cf7f0c3c448ffb826bb054001aae9"
            ]
          }
        },
        "abae4522e0934732b7f6f53a3c4b0fcf": {
          "model_module": "@jupyter-widgets/base",
          "model_name": "LayoutModel",
          "state": {
            "_view_name": "LayoutView",
            "grid_template_rows": null,
            "right": null,
            "justify_content": null,
            "_view_module": "@jupyter-widgets/base",
            "overflow": null,
            "_model_module_version": "1.2.0",
            "_view_count": null,
            "flex_flow": null,
            "width": null,
            "min_width": null,
            "border": null,
            "align_items": null,
            "bottom": null,
            "_model_module": "@jupyter-widgets/base",
            "top": null,
            "grid_column": null,
            "overflow_y": null,
            "overflow_x": null,
            "grid_auto_flow": null,
            "grid_area": null,
            "grid_template_columns": null,
            "flex": null,
            "_model_name": "LayoutModel",
            "justify_items": null,
            "grid_row": null,
            "max_height": null,
            "align_content": null,
            "visibility": null,
            "align_self": null,
            "height": null,
            "min_height": null,
            "padding": null,
            "grid_auto_rows": null,
            "grid_gap": null,
            "max_width": null,
            "order": null,
            "_view_module_version": "1.2.0",
            "grid_template_areas": null,
            "object_position": null,
            "object_fit": null,
            "grid_auto_columns": null,
            "margin": null,
            "display": null,
            "left": null
          }
        },
        "7100c372e9294f1197e0ae1b17e5841a": {
          "model_module": "@jupyter-widgets/controls",
          "model_name": "FloatProgressModel",
          "state": {
            "_view_name": "ProgressView",
            "style": "IPY_MODEL_bf279b9bd3a74da1bfc6e52e76ceae98",
            "_dom_classes": [],
            "description": "100%",
            "_model_name": "FloatProgressModel",
            "bar_style": "success",
            "max": 76,
            "_view_module": "@jupyter-widgets/controls",
            "_model_module_version": "1.5.0",
            "value": 76,
            "_view_count": null,
            "_view_module_version": "1.5.0",
            "orientation": "horizontal",
            "min": 0,
            "description_tooltip": null,
            "_model_module": "@jupyter-widgets/controls",
            "layout": "IPY_MODEL_dfe839ded9c14592a39560b4b0938b00"
          }
        },
        "b58cf7f0c3c448ffb826bb054001aae9": {
          "model_module": "@jupyter-widgets/controls",
          "model_name": "HTMLModel",
          "state": {
            "_view_name": "HTMLView",
            "style": "IPY_MODEL_0eedb48e2150484d80e4e1b2b8981afc",
            "_dom_classes": [],
            "description": "",
            "_model_name": "HTMLModel",
            "placeholder": "​",
            "_view_module": "@jupyter-widgets/controls",
            "_model_module_version": "1.5.0",
            "value": " Fitting SlidingEstimator : 76/76 [00:07&lt;00:00,    9.64it/s]",
            "_view_count": null,
            "_view_module_version": "1.5.0",
            "description_tooltip": null,
            "_model_module": "@jupyter-widgets/controls",
            "layout": "IPY_MODEL_ef25cc7839ee45c9be27d82171fadfa3"
          }
        },
        "bf279b9bd3a74da1bfc6e52e76ceae98": {
          "model_module": "@jupyter-widgets/controls",
          "model_name": "ProgressStyleModel",
          "state": {
            "_view_name": "StyleView",
            "_model_name": "ProgressStyleModel",
            "description_width": "initial",
            "_view_module": "@jupyter-widgets/base",
            "_model_module_version": "1.5.0",
            "_view_count": null,
            "_view_module_version": "1.2.0",
            "bar_color": null,
            "_model_module": "@jupyter-widgets/controls"
          }
        },
        "dfe839ded9c14592a39560b4b0938b00": {
          "model_module": "@jupyter-widgets/base",
          "model_name": "LayoutModel",
          "state": {
            "_view_name": "LayoutView",
            "grid_template_rows": null,
            "right": null,
            "justify_content": null,
            "_view_module": "@jupyter-widgets/base",
            "overflow": null,
            "_model_module_version": "1.2.0",
            "_view_count": null,
            "flex_flow": null,
            "width": null,
            "min_width": null,
            "border": null,
            "align_items": null,
            "bottom": null,
            "_model_module": "@jupyter-widgets/base",
            "top": null,
            "grid_column": null,
            "overflow_y": null,
            "overflow_x": null,
            "grid_auto_flow": null,
            "grid_area": null,
            "grid_template_columns": null,
            "flex": null,
            "_model_name": "LayoutModel",
            "justify_items": null,
            "grid_row": null,
            "max_height": null,
            "align_content": null,
            "visibility": null,
            "align_self": null,
            "height": null,
            "min_height": null,
            "padding": null,
            "grid_auto_rows": null,
            "grid_gap": null,
            "max_width": null,
            "order": null,
            "_view_module_version": "1.2.0",
            "grid_template_areas": null,
            "object_position": null,
            "object_fit": null,
            "grid_auto_columns": null,
            "margin": null,
            "display": null,
            "left": null
          }
        },
        "0eedb48e2150484d80e4e1b2b8981afc": {
          "model_module": "@jupyter-widgets/controls",
          "model_name": "DescriptionStyleModel",
          "state": {
            "_view_name": "StyleView",
            "_model_name": "DescriptionStyleModel",
            "description_width": "",
            "_view_module": "@jupyter-widgets/base",
            "_model_module_version": "1.5.0",
            "_view_count": null,
            "_view_module_version": "1.2.0",
            "_model_module": "@jupyter-widgets/controls"
          }
        },
        "ef25cc7839ee45c9be27d82171fadfa3": {
          "model_module": "@jupyter-widgets/base",
          "model_name": "LayoutModel",
          "state": {
            "_view_name": "LayoutView",
            "grid_template_rows": null,
            "right": null,
            "justify_content": null,
            "_view_module": "@jupyter-widgets/base",
            "overflow": null,
            "_model_module_version": "1.2.0",
            "_view_count": null,
            "flex_flow": null,
            "width": null,
            "min_width": null,
            "border": null,
            "align_items": null,
            "bottom": null,
            "_model_module": "@jupyter-widgets/base",
            "top": null,
            "grid_column": null,
            "overflow_y": null,
            "overflow_x": null,
            "grid_auto_flow": null,
            "grid_area": null,
            "grid_template_columns": null,
            "flex": null,
            "_model_name": "LayoutModel",
            "justify_items": null,
            "grid_row": null,
            "max_height": null,
            "align_content": null,
            "visibility": null,
            "align_self": null,
            "height": null,
            "min_height": null,
            "padding": null,
            "grid_auto_rows": null,
            "grid_gap": null,
            "max_width": null,
            "order": null,
            "_view_module_version": "1.2.0",
            "grid_template_areas": null,
            "object_position": null,
            "object_fit": null,
            "grid_auto_columns": null,
            "margin": null,
            "display": null,
            "left": null
          }
        },
        "5f22c717474f4f518770e3e20fed0072": {
          "model_module": "@jupyter-widgets/controls",
          "model_name": "HBoxModel",
          "state": {
            "_view_name": "HBoxView",
            "_dom_classes": [],
            "_model_name": "HBoxModel",
            "_view_module": "@jupyter-widgets/controls",
            "_model_module_version": "1.5.0",
            "_view_count": null,
            "_view_module_version": "1.5.0",
            "box_style": "",
            "layout": "IPY_MODEL_324c772530fd4a2e850d575883229eb1",
            "_model_module": "@jupyter-widgets/controls",
            "children": [
              "IPY_MODEL_d16942ef955c459e92b712cae98d974f",
              "IPY_MODEL_e44e973781624b14ba2d0035e68b88b1"
            ]
          }
        },
        "324c772530fd4a2e850d575883229eb1": {
          "model_module": "@jupyter-widgets/base",
          "model_name": "LayoutModel",
          "state": {
            "_view_name": "LayoutView",
            "grid_template_rows": null,
            "right": null,
            "justify_content": null,
            "_view_module": "@jupyter-widgets/base",
            "overflow": null,
            "_model_module_version": "1.2.0",
            "_view_count": null,
            "flex_flow": null,
            "width": null,
            "min_width": null,
            "border": null,
            "align_items": null,
            "bottom": null,
            "_model_module": "@jupyter-widgets/base",
            "top": null,
            "grid_column": null,
            "overflow_y": null,
            "overflow_x": null,
            "grid_auto_flow": null,
            "grid_area": null,
            "grid_template_columns": null,
            "flex": null,
            "_model_name": "LayoutModel",
            "justify_items": null,
            "grid_row": null,
            "max_height": null,
            "align_content": null,
            "visibility": null,
            "align_self": null,
            "height": null,
            "min_height": null,
            "padding": null,
            "grid_auto_rows": null,
            "grid_gap": null,
            "max_width": null,
            "order": null,
            "_view_module_version": "1.2.0",
            "grid_template_areas": null,
            "object_position": null,
            "object_fit": null,
            "grid_auto_columns": null,
            "margin": null,
            "display": null,
            "left": null
          }
        },
        "d16942ef955c459e92b712cae98d974f": {
          "model_module": "@jupyter-widgets/controls",
          "model_name": "FloatProgressModel",
          "state": {
            "_view_name": "ProgressView",
            "style": "IPY_MODEL_235430f5eb5e4b19ab2ecea46efb4bea",
            "_dom_classes": [],
            "description": "100%",
            "_model_name": "FloatProgressModel",
            "bar_style": "success",
            "max": 924932163,
            "_view_module": "@jupyter-widgets/controls",
            "_model_module_version": "1.5.0",
            "value": 924932163,
            "_view_count": null,
            "_view_module_version": "1.5.0",
            "orientation": "horizontal",
            "min": 0,
            "description_tooltip": null,
            "_model_module": "@jupyter-widgets/controls",
            "layout": "IPY_MODEL_5a3c1c81bbef4cf88a827712bb632d50"
          }
        },
        "e44e973781624b14ba2d0035e68b88b1": {
          "model_module": "@jupyter-widgets/controls",
          "model_name": "HTMLModel",
          "state": {
            "_view_name": "HTMLView",
            "style": "IPY_MODEL_05bcd4eda08b415fa1d99c3659b176d4",
            "_dom_classes": [],
            "description": "",
            "_model_name": "HTMLModel",
            "placeholder": "​",
            "_view_module": "@jupyter-widgets/controls",
            "_model_module_version": "1.5.0",
            "value": " Downloading : 882M/882M [00:27&lt;00:00,    33.7MB/s]",
            "_view_count": null,
            "_view_module_version": "1.5.0",
            "description_tooltip": null,
            "_model_module": "@jupyter-widgets/controls",
            "layout": "IPY_MODEL_c9a4acc4ee5d422185228d36bba05d51"
          }
        },
        "235430f5eb5e4b19ab2ecea46efb4bea": {
          "model_module": "@jupyter-widgets/controls",
          "model_name": "ProgressStyleModel",
          "state": {
            "_view_name": "StyleView",
            "_model_name": "ProgressStyleModel",
            "description_width": "initial",
            "_view_module": "@jupyter-widgets/base",
            "_model_module_version": "1.5.0",
            "_view_count": null,
            "_view_module_version": "1.2.0",
            "bar_color": null,
            "_model_module": "@jupyter-widgets/controls"
          }
        },
        "5a3c1c81bbef4cf88a827712bb632d50": {
          "model_module": "@jupyter-widgets/base",
          "model_name": "LayoutModel",
          "state": {
            "_view_name": "LayoutView",
            "grid_template_rows": null,
            "right": null,
            "justify_content": null,
            "_view_module": "@jupyter-widgets/base",
            "overflow": null,
            "_model_module_version": "1.2.0",
            "_view_count": null,
            "flex_flow": null,
            "width": null,
            "min_width": null,
            "border": null,
            "align_items": null,
            "bottom": null,
            "_model_module": "@jupyter-widgets/base",
            "top": null,
            "grid_column": null,
            "overflow_y": null,
            "overflow_x": null,
            "grid_auto_flow": null,
            "grid_area": null,
            "grid_template_columns": null,
            "flex": null,
            "_model_name": "LayoutModel",
            "justify_items": null,
            "grid_row": null,
            "max_height": null,
            "align_content": null,
            "visibility": null,
            "align_self": null,
            "height": null,
            "min_height": null,
            "padding": null,
            "grid_auto_rows": null,
            "grid_gap": null,
            "max_width": null,
            "order": null,
            "_view_module_version": "1.2.0",
            "grid_template_areas": null,
            "object_position": null,
            "object_fit": null,
            "grid_auto_columns": null,
            "margin": null,
            "display": null,
            "left": null
          }
        },
        "05bcd4eda08b415fa1d99c3659b176d4": {
          "model_module": "@jupyter-widgets/controls",
          "model_name": "DescriptionStyleModel",
          "state": {
            "_view_name": "StyleView",
            "_model_name": "DescriptionStyleModel",
            "description_width": "",
            "_view_module": "@jupyter-widgets/base",
            "_model_module_version": "1.5.0",
            "_view_count": null,
            "_view_module_version": "1.2.0",
            "_model_module": "@jupyter-widgets/controls"
          }
        },
        "c9a4acc4ee5d422185228d36bba05d51": {
          "model_module": "@jupyter-widgets/base",
          "model_name": "LayoutModel",
          "state": {
            "_view_name": "LayoutView",
            "grid_template_rows": null,
            "right": null,
            "justify_content": null,
            "_view_module": "@jupyter-widgets/base",
            "overflow": null,
            "_model_module_version": "1.2.0",
            "_view_count": null,
            "flex_flow": null,
            "width": null,
            "min_width": null,
            "border": null,
            "align_items": null,
            "bottom": null,
            "_model_module": "@jupyter-widgets/base",
            "top": null,
            "grid_column": null,
            "overflow_y": null,
            "overflow_x": null,
            "grid_auto_flow": null,
            "grid_area": null,
            "grid_template_columns": null,
            "flex": null,
            "_model_name": "LayoutModel",
            "justify_items": null,
            "grid_row": null,
            "max_height": null,
            "align_content": null,
            "visibility": null,
            "align_self": null,
            "height": null,
            "min_height": null,
            "padding": null,
            "grid_auto_rows": null,
            "grid_gap": null,
            "max_width": null,
            "order": null,
            "_view_module_version": "1.2.0",
            "grid_template_areas": null,
            "object_position": null,
            "object_fit": null,
            "grid_auto_columns": null,
            "margin": null,
            "display": null,
            "left": null
          }
        },
        "e1c6182d64f041a8b0daed19ba8b24f2": {
          "model_module": "@jupyter-widgets/controls",
          "model_name": "HBoxModel",
          "state": {
            "_view_name": "HBoxView",
            "_dom_classes": [],
            "_model_name": "HBoxModel",
            "_view_module": "@jupyter-widgets/controls",
            "_model_module_version": "1.5.0",
            "_view_count": null,
            "_view_module_version": "1.5.0",
            "box_style": "",
            "layout": "IPY_MODEL_5320cd300a9c4a5bb13e70adb622ad5f",
            "_model_module": "@jupyter-widgets/controls",
            "children": [
              "IPY_MODEL_fe31d7125b8a47d5ba5af36971b4e33c",
              "IPY_MODEL_c17793d14d914a5f949ea12324e756de"
            ]
          }
        },
        "5320cd300a9c4a5bb13e70adb622ad5f": {
          "model_module": "@jupyter-widgets/base",
          "model_name": "LayoutModel",
          "state": {
            "_view_name": "LayoutView",
            "grid_template_rows": null,
            "right": null,
            "justify_content": null,
            "_view_module": "@jupyter-widgets/base",
            "overflow": null,
            "_model_module_version": "1.2.0",
            "_view_count": null,
            "flex_flow": null,
            "width": null,
            "min_width": null,
            "border": null,
            "align_items": null,
            "bottom": null,
            "_model_module": "@jupyter-widgets/base",
            "top": null,
            "grid_column": null,
            "overflow_y": null,
            "overflow_x": null,
            "grid_auto_flow": null,
            "grid_area": null,
            "grid_template_columns": null,
            "flex": null,
            "_model_name": "LayoutModel",
            "justify_items": null,
            "grid_row": null,
            "max_height": null,
            "align_content": null,
            "visibility": null,
            "align_self": null,
            "height": null,
            "min_height": null,
            "padding": null,
            "grid_auto_rows": null,
            "grid_gap": null,
            "max_width": null,
            "order": null,
            "_view_module_version": "1.2.0",
            "grid_template_areas": null,
            "object_position": null,
            "object_fit": null,
            "grid_auto_columns": null,
            "margin": null,
            "display": null,
            "left": null
          }
        },
        "fe31d7125b8a47d5ba5af36971b4e33c": {
          "model_module": "@jupyter-widgets/controls",
          "model_name": "FloatProgressModel",
          "state": {
            "_view_name": "ProgressView",
            "style": "IPY_MODEL_2edb31649ae54669800baba5527fdd4d",
            "_dom_classes": [],
            "description": "100%",
            "_model_name": "FloatProgressModel",
            "bar_style": "success",
            "max": 385,
            "_view_module": "@jupyter-widgets/controls",
            "_model_module_version": "1.5.0",
            "value": 385,
            "_view_count": null,
            "_view_module_version": "1.5.0",
            "orientation": "horizontal",
            "min": 0,
            "description_tooltip": null,
            "_model_module": "@jupyter-widgets/controls",
            "layout": "IPY_MODEL_b709846e35e64b4a8a5289d3660821bc"
          }
        },
        "c17793d14d914a5f949ea12324e756de": {
          "model_module": "@jupyter-widgets/controls",
          "model_name": "HTMLModel",
          "state": {
            "_view_name": "HTMLView",
            "style": "IPY_MODEL_9a816014b4244399b82a4ed6b5bd62e0",
            "_dom_classes": [],
            "description": "",
            "_model_name": "HTMLModel",
            "placeholder": "​",
            "_view_module": "@jupyter-widgets/controls",
            "_model_module_version": "1.5.0",
            "value": " Fitting SlidingEstimator : 385/385 [00:05&lt;00:00,   68.20it/s]",
            "_view_count": null,
            "_view_module_version": "1.5.0",
            "description_tooltip": null,
            "_model_module": "@jupyter-widgets/controls",
            "layout": "IPY_MODEL_341fd8d340f5416e906afd85b3e9e1c1"
          }
        },
        "2edb31649ae54669800baba5527fdd4d": {
          "model_module": "@jupyter-widgets/controls",
          "model_name": "ProgressStyleModel",
          "state": {
            "_view_name": "StyleView",
            "_model_name": "ProgressStyleModel",
            "description_width": "initial",
            "_view_module": "@jupyter-widgets/base",
            "_model_module_version": "1.5.0",
            "_view_count": null,
            "_view_module_version": "1.2.0",
            "bar_color": null,
            "_model_module": "@jupyter-widgets/controls"
          }
        },
        "b709846e35e64b4a8a5289d3660821bc": {
          "model_module": "@jupyter-widgets/base",
          "model_name": "LayoutModel",
          "state": {
            "_view_name": "LayoutView",
            "grid_template_rows": null,
            "right": null,
            "justify_content": null,
            "_view_module": "@jupyter-widgets/base",
            "overflow": null,
            "_model_module_version": "1.2.0",
            "_view_count": null,
            "flex_flow": null,
            "width": null,
            "min_width": null,
            "border": null,
            "align_items": null,
            "bottom": null,
            "_model_module": "@jupyter-widgets/base",
            "top": null,
            "grid_column": null,
            "overflow_y": null,
            "overflow_x": null,
            "grid_auto_flow": null,
            "grid_area": null,
            "grid_template_columns": null,
            "flex": null,
            "_model_name": "LayoutModel",
            "justify_items": null,
            "grid_row": null,
            "max_height": null,
            "align_content": null,
            "visibility": null,
            "align_self": null,
            "height": null,
            "min_height": null,
            "padding": null,
            "grid_auto_rows": null,
            "grid_gap": null,
            "max_width": null,
            "order": null,
            "_view_module_version": "1.2.0",
            "grid_template_areas": null,
            "object_position": null,
            "object_fit": null,
            "grid_auto_columns": null,
            "margin": null,
            "display": null,
            "left": null
          }
        },
        "9a816014b4244399b82a4ed6b5bd62e0": {
          "model_module": "@jupyter-widgets/controls",
          "model_name": "DescriptionStyleModel",
          "state": {
            "_view_name": "StyleView",
            "_model_name": "DescriptionStyleModel",
            "description_width": "",
            "_view_module": "@jupyter-widgets/base",
            "_model_module_version": "1.5.0",
            "_view_count": null,
            "_view_module_version": "1.2.0",
            "_model_module": "@jupyter-widgets/controls"
          }
        },
        "341fd8d340f5416e906afd85b3e9e1c1": {
          "model_module": "@jupyter-widgets/base",
          "model_name": "LayoutModel",
          "state": {
            "_view_name": "LayoutView",
            "grid_template_rows": null,
            "right": null,
            "justify_content": null,
            "_view_module": "@jupyter-widgets/base",
            "overflow": null,
            "_model_module_version": "1.2.0",
            "_view_count": null,
            "flex_flow": null,
            "width": null,
            "min_width": null,
            "border": null,
            "align_items": null,
            "bottom": null,
            "_model_module": "@jupyter-widgets/base",
            "top": null,
            "grid_column": null,
            "overflow_y": null,
            "overflow_x": null,
            "grid_auto_flow": null,
            "grid_area": null,
            "grid_template_columns": null,
            "flex": null,
            "_model_name": "LayoutModel",
            "justify_items": null,
            "grid_row": null,
            "max_height": null,
            "align_content": null,
            "visibility": null,
            "align_self": null,
            "height": null,
            "min_height": null,
            "padding": null,
            "grid_auto_rows": null,
            "grid_gap": null,
            "max_width": null,
            "order": null,
            "_view_module_version": "1.2.0",
            "grid_template_areas": null,
            "object_position": null,
            "object_fit": null,
            "grid_auto_columns": null,
            "margin": null,
            "display": null,
            "left": null
          }
        },
        "88c9c40d07054327a87487abf197e259": {
          "model_module": "@jupyter-widgets/controls",
          "model_name": "HBoxModel",
          "state": {
            "_view_name": "HBoxView",
            "_dom_classes": [],
            "_model_name": "HBoxModel",
            "_view_module": "@jupyter-widgets/controls",
            "_model_module_version": "1.5.0",
            "_view_count": null,
            "_view_module_version": "1.5.0",
            "box_style": "",
            "layout": "IPY_MODEL_a2b194de2ab4442b8dde5c663e349427",
            "_model_module": "@jupyter-widgets/controls",
            "children": [
              "IPY_MODEL_6f5dfc60428744ab90edf4b01654f1c7",
              "IPY_MODEL_88b6ffc90f204091b59385d2834c8b1e"
            ]
          }
        },
        "a2b194de2ab4442b8dde5c663e349427": {
          "model_module": "@jupyter-widgets/base",
          "model_name": "LayoutModel",
          "state": {
            "_view_name": "LayoutView",
            "grid_template_rows": null,
            "right": null,
            "justify_content": null,
            "_view_module": "@jupyter-widgets/base",
            "overflow": null,
            "_model_module_version": "1.2.0",
            "_view_count": null,
            "flex_flow": null,
            "width": null,
            "min_width": null,
            "border": null,
            "align_items": null,
            "bottom": null,
            "_model_module": "@jupyter-widgets/base",
            "top": null,
            "grid_column": null,
            "overflow_y": null,
            "overflow_x": null,
            "grid_auto_flow": null,
            "grid_area": null,
            "grid_template_columns": null,
            "flex": null,
            "_model_name": "LayoutModel",
            "justify_items": null,
            "grid_row": null,
            "max_height": null,
            "align_content": null,
            "visibility": null,
            "align_self": null,
            "height": null,
            "min_height": null,
            "padding": null,
            "grid_auto_rows": null,
            "grid_gap": null,
            "max_width": null,
            "order": null,
            "_view_module_version": "1.2.0",
            "grid_template_areas": null,
            "object_position": null,
            "object_fit": null,
            "grid_auto_columns": null,
            "margin": null,
            "display": null,
            "left": null
          }
        },
        "6f5dfc60428744ab90edf4b01654f1c7": {
          "model_module": "@jupyter-widgets/controls",
          "model_name": "FloatProgressModel",
          "state": {
            "_view_name": "ProgressView",
            "style": "IPY_MODEL_b385a70b9abf4a78aae6a463ad6afb9d",
            "_dom_classes": [],
            "description": "100%",
            "_model_name": "FloatProgressModel",
            "bar_style": "success",
            "max": 385,
            "_view_module": "@jupyter-widgets/controls",
            "_model_module_version": "1.5.0",
            "value": 385,
            "_view_count": null,
            "_view_module_version": "1.5.0",
            "orientation": "horizontal",
            "min": 0,
            "description_tooltip": null,
            "_model_module": "@jupyter-widgets/controls",
            "layout": "IPY_MODEL_12179bd8b9f042029905c0be26d682c7"
          }
        },
        "88b6ffc90f204091b59385d2834c8b1e": {
          "model_module": "@jupyter-widgets/controls",
          "model_name": "HTMLModel",
          "state": {
            "_view_name": "HTMLView",
            "style": "IPY_MODEL_a208c862b898467898591014cf1986f8",
            "_dom_classes": [],
            "description": "",
            "_model_name": "HTMLModel",
            "placeholder": "​",
            "_view_module": "@jupyter-widgets/controls",
            "_model_module_version": "1.5.0",
            "value": " Fitting SlidingEstimator : 385/385 [00:05&lt;00:00,   68.11it/s]",
            "_view_count": null,
            "_view_module_version": "1.5.0",
            "description_tooltip": null,
            "_model_module": "@jupyter-widgets/controls",
            "layout": "IPY_MODEL_120649f564134de0a12d021aaf59aedc"
          }
        },
        "b385a70b9abf4a78aae6a463ad6afb9d": {
          "model_module": "@jupyter-widgets/controls",
          "model_name": "ProgressStyleModel",
          "state": {
            "_view_name": "StyleView",
            "_model_name": "ProgressStyleModel",
            "description_width": "initial",
            "_view_module": "@jupyter-widgets/base",
            "_model_module_version": "1.5.0",
            "_view_count": null,
            "_view_module_version": "1.2.0",
            "bar_color": null,
            "_model_module": "@jupyter-widgets/controls"
          }
        },
        "12179bd8b9f042029905c0be26d682c7": {
          "model_module": "@jupyter-widgets/base",
          "model_name": "LayoutModel",
          "state": {
            "_view_name": "LayoutView",
            "grid_template_rows": null,
            "right": null,
            "justify_content": null,
            "_view_module": "@jupyter-widgets/base",
            "overflow": null,
            "_model_module_version": "1.2.0",
            "_view_count": null,
            "flex_flow": null,
            "width": null,
            "min_width": null,
            "border": null,
            "align_items": null,
            "bottom": null,
            "_model_module": "@jupyter-widgets/base",
            "top": null,
            "grid_column": null,
            "overflow_y": null,
            "overflow_x": null,
            "grid_auto_flow": null,
            "grid_area": null,
            "grid_template_columns": null,
            "flex": null,
            "_model_name": "LayoutModel",
            "justify_items": null,
            "grid_row": null,
            "max_height": null,
            "align_content": null,
            "visibility": null,
            "align_self": null,
            "height": null,
            "min_height": null,
            "padding": null,
            "grid_auto_rows": null,
            "grid_gap": null,
            "max_width": null,
            "order": null,
            "_view_module_version": "1.2.0",
            "grid_template_areas": null,
            "object_position": null,
            "object_fit": null,
            "grid_auto_columns": null,
            "margin": null,
            "display": null,
            "left": null
          }
        },
        "a208c862b898467898591014cf1986f8": {
          "model_module": "@jupyter-widgets/controls",
          "model_name": "DescriptionStyleModel",
          "state": {
            "_view_name": "StyleView",
            "_model_name": "DescriptionStyleModel",
            "description_width": "",
            "_view_module": "@jupyter-widgets/base",
            "_model_module_version": "1.5.0",
            "_view_count": null,
            "_view_module_version": "1.2.0",
            "_model_module": "@jupyter-widgets/controls"
          }
        },
        "120649f564134de0a12d021aaf59aedc": {
          "model_module": "@jupyter-widgets/base",
          "model_name": "LayoutModel",
          "state": {
            "_view_name": "LayoutView",
            "grid_template_rows": null,
            "right": null,
            "justify_content": null,
            "_view_module": "@jupyter-widgets/base",
            "overflow": null,
            "_model_module_version": "1.2.0",
            "_view_count": null,
            "flex_flow": null,
            "width": null,
            "min_width": null,
            "border": null,
            "align_items": null,
            "bottom": null,
            "_model_module": "@jupyter-widgets/base",
            "top": null,
            "grid_column": null,
            "overflow_y": null,
            "overflow_x": null,
            "grid_auto_flow": null,
            "grid_area": null,
            "grid_template_columns": null,
            "flex": null,
            "_model_name": "LayoutModel",
            "justify_items": null,
            "grid_row": null,
            "max_height": null,
            "align_content": null,
            "visibility": null,
            "align_self": null,
            "height": null,
            "min_height": null,
            "padding": null,
            "grid_auto_rows": null,
            "grid_gap": null,
            "max_width": null,
            "order": null,
            "_view_module_version": "1.2.0",
            "grid_template_areas": null,
            "object_position": null,
            "object_fit": null,
            "grid_auto_columns": null,
            "margin": null,
            "display": null,
            "left": null
          }
        },
        "72fdee8cb3e944569217fc95cc37ff54": {
          "model_module": "@jupyter-widgets/controls",
          "model_name": "HBoxModel",
          "state": {
            "_view_name": "HBoxView",
            "_dom_classes": [],
            "_model_name": "HBoxModel",
            "_view_module": "@jupyter-widgets/controls",
            "_model_module_version": "1.5.0",
            "_view_count": null,
            "_view_module_version": "1.5.0",
            "box_style": "",
            "layout": "IPY_MODEL_54b65a0fae6e4800abf3a0afcb8041d6",
            "_model_module": "@jupyter-widgets/controls",
            "children": [
              "IPY_MODEL_07d18992a4124eb78561e984b400fe13",
              "IPY_MODEL_cd4e92e2439d438fbf107afa5d22afff"
            ]
          }
        },
        "54b65a0fae6e4800abf3a0afcb8041d6": {
          "model_module": "@jupyter-widgets/base",
          "model_name": "LayoutModel",
          "state": {
            "_view_name": "LayoutView",
            "grid_template_rows": null,
            "right": null,
            "justify_content": null,
            "_view_module": "@jupyter-widgets/base",
            "overflow": null,
            "_model_module_version": "1.2.0",
            "_view_count": null,
            "flex_flow": null,
            "width": null,
            "min_width": null,
            "border": null,
            "align_items": null,
            "bottom": null,
            "_model_module": "@jupyter-widgets/base",
            "top": null,
            "grid_column": null,
            "overflow_y": null,
            "overflow_x": null,
            "grid_auto_flow": null,
            "grid_area": null,
            "grid_template_columns": null,
            "flex": null,
            "_model_name": "LayoutModel",
            "justify_items": null,
            "grid_row": null,
            "max_height": null,
            "align_content": null,
            "visibility": null,
            "align_self": null,
            "height": null,
            "min_height": null,
            "padding": null,
            "grid_auto_rows": null,
            "grid_gap": null,
            "max_width": null,
            "order": null,
            "_view_module_version": "1.2.0",
            "grid_template_areas": null,
            "object_position": null,
            "object_fit": null,
            "grid_auto_columns": null,
            "margin": null,
            "display": null,
            "left": null
          }
        },
        "07d18992a4124eb78561e984b400fe13": {
          "model_module": "@jupyter-widgets/controls",
          "model_name": "FloatProgressModel",
          "state": {
            "_view_name": "ProgressView",
            "style": "IPY_MODEL_4d3bf389cf014c80bb51a4ad00cb22c9",
            "_dom_classes": [],
            "description": "100%",
            "_model_name": "FloatProgressModel",
            "bar_style": "success",
            "max": 385,
            "_view_module": "@jupyter-widgets/controls",
            "_model_module_version": "1.5.0",
            "value": 385,
            "_view_count": null,
            "_view_module_version": "1.5.0",
            "orientation": "horizontal",
            "min": 0,
            "description_tooltip": null,
            "_model_module": "@jupyter-widgets/controls",
            "layout": "IPY_MODEL_95c799169b8e429db66856e1fc58e3b5"
          }
        },
        "cd4e92e2439d438fbf107afa5d22afff": {
          "model_module": "@jupyter-widgets/controls",
          "model_name": "HTMLModel",
          "state": {
            "_view_name": "HTMLView",
            "style": "IPY_MODEL_f5ac9ad957c543a9b631536fcf30192a",
            "_dom_classes": [],
            "description": "",
            "_model_name": "HTMLModel",
            "placeholder": "​",
            "_view_module": "@jupyter-widgets/controls",
            "_model_module_version": "1.5.0",
            "value": " Fitting SlidingEstimator : 385/385 [00:05&lt;00:00,   68.18it/s]",
            "_view_count": null,
            "_view_module_version": "1.5.0",
            "description_tooltip": null,
            "_model_module": "@jupyter-widgets/controls",
            "layout": "IPY_MODEL_064acfcebf0a48fd9ef47777db90eb77"
          }
        },
        "4d3bf389cf014c80bb51a4ad00cb22c9": {
          "model_module": "@jupyter-widgets/controls",
          "model_name": "ProgressStyleModel",
          "state": {
            "_view_name": "StyleView",
            "_model_name": "ProgressStyleModel",
            "description_width": "initial",
            "_view_module": "@jupyter-widgets/base",
            "_model_module_version": "1.5.0",
            "_view_count": null,
            "_view_module_version": "1.2.0",
            "bar_color": null,
            "_model_module": "@jupyter-widgets/controls"
          }
        },
        "95c799169b8e429db66856e1fc58e3b5": {
          "model_module": "@jupyter-widgets/base",
          "model_name": "LayoutModel",
          "state": {
            "_view_name": "LayoutView",
            "grid_template_rows": null,
            "right": null,
            "justify_content": null,
            "_view_module": "@jupyter-widgets/base",
            "overflow": null,
            "_model_module_version": "1.2.0",
            "_view_count": null,
            "flex_flow": null,
            "width": null,
            "min_width": null,
            "border": null,
            "align_items": null,
            "bottom": null,
            "_model_module": "@jupyter-widgets/base",
            "top": null,
            "grid_column": null,
            "overflow_y": null,
            "overflow_x": null,
            "grid_auto_flow": null,
            "grid_area": null,
            "grid_template_columns": null,
            "flex": null,
            "_model_name": "LayoutModel",
            "justify_items": null,
            "grid_row": null,
            "max_height": null,
            "align_content": null,
            "visibility": null,
            "align_self": null,
            "height": null,
            "min_height": null,
            "padding": null,
            "grid_auto_rows": null,
            "grid_gap": null,
            "max_width": null,
            "order": null,
            "_view_module_version": "1.2.0",
            "grid_template_areas": null,
            "object_position": null,
            "object_fit": null,
            "grid_auto_columns": null,
            "margin": null,
            "display": null,
            "left": null
          }
        },
        "f5ac9ad957c543a9b631536fcf30192a": {
          "model_module": "@jupyter-widgets/controls",
          "model_name": "DescriptionStyleModel",
          "state": {
            "_view_name": "StyleView",
            "_model_name": "DescriptionStyleModel",
            "description_width": "",
            "_view_module": "@jupyter-widgets/base",
            "_model_module_version": "1.5.0",
            "_view_count": null,
            "_view_module_version": "1.2.0",
            "_model_module": "@jupyter-widgets/controls"
          }
        },
        "064acfcebf0a48fd9ef47777db90eb77": {
          "model_module": "@jupyter-widgets/base",
          "model_name": "LayoutModel",
          "state": {
            "_view_name": "LayoutView",
            "grid_template_rows": null,
            "right": null,
            "justify_content": null,
            "_view_module": "@jupyter-widgets/base",
            "overflow": null,
            "_model_module_version": "1.2.0",
            "_view_count": null,
            "flex_flow": null,
            "width": null,
            "min_width": null,
            "border": null,
            "align_items": null,
            "bottom": null,
            "_model_module": "@jupyter-widgets/base",
            "top": null,
            "grid_column": null,
            "overflow_y": null,
            "overflow_x": null,
            "grid_auto_flow": null,
            "grid_area": null,
            "grid_template_columns": null,
            "flex": null,
            "_model_name": "LayoutModel",
            "justify_items": null,
            "grid_row": null,
            "max_height": null,
            "align_content": null,
            "visibility": null,
            "align_self": null,
            "height": null,
            "min_height": null,
            "padding": null,
            "grid_auto_rows": null,
            "grid_gap": null,
            "max_width": null,
            "order": null,
            "_view_module_version": "1.2.0",
            "grid_template_areas": null,
            "object_position": null,
            "object_fit": null,
            "grid_auto_columns": null,
            "margin": null,
            "display": null,
            "left": null
          }
        },
        "60465cec886c4bd2b9b55ed02723ee65": {
          "model_module": "@jupyter-widgets/controls",
          "model_name": "HBoxModel",
          "state": {
            "_view_name": "HBoxView",
            "_dom_classes": [],
            "_model_name": "HBoxModel",
            "_view_module": "@jupyter-widgets/controls",
            "_model_module_version": "1.5.0",
            "_view_count": null,
            "_view_module_version": "1.5.0",
            "box_style": "",
            "layout": "IPY_MODEL_6c1fcc0d604640f4b593af382c66faf5",
            "_model_module": "@jupyter-widgets/controls",
            "children": [
              "IPY_MODEL_8cd09f616aa04ddc9fca4e52f13f26e6",
              "IPY_MODEL_7a39e948576b4a949067154bdbf29565"
            ]
          }
        },
        "6c1fcc0d604640f4b593af382c66faf5": {
          "model_module": "@jupyter-widgets/base",
          "model_name": "LayoutModel",
          "state": {
            "_view_name": "LayoutView",
            "grid_template_rows": null,
            "right": null,
            "justify_content": null,
            "_view_module": "@jupyter-widgets/base",
            "overflow": null,
            "_model_module_version": "1.2.0",
            "_view_count": null,
            "flex_flow": null,
            "width": null,
            "min_width": null,
            "border": null,
            "align_items": null,
            "bottom": null,
            "_model_module": "@jupyter-widgets/base",
            "top": null,
            "grid_column": null,
            "overflow_y": null,
            "overflow_x": null,
            "grid_auto_flow": null,
            "grid_area": null,
            "grid_template_columns": null,
            "flex": null,
            "_model_name": "LayoutModel",
            "justify_items": null,
            "grid_row": null,
            "max_height": null,
            "align_content": null,
            "visibility": null,
            "align_self": null,
            "height": null,
            "min_height": null,
            "padding": null,
            "grid_auto_rows": null,
            "grid_gap": null,
            "max_width": null,
            "order": null,
            "_view_module_version": "1.2.0",
            "grid_template_areas": null,
            "object_position": null,
            "object_fit": null,
            "grid_auto_columns": null,
            "margin": null,
            "display": null,
            "left": null
          }
        },
        "8cd09f616aa04ddc9fca4e52f13f26e6": {
          "model_module": "@jupyter-widgets/controls",
          "model_name": "FloatProgressModel",
          "state": {
            "_view_name": "ProgressView",
            "style": "IPY_MODEL_79758133bd50443590f5f12eb37fc3e4",
            "_dom_classes": [],
            "description": "100%",
            "_model_name": "FloatProgressModel",
            "bar_style": "success",
            "max": 385,
            "_view_module": "@jupyter-widgets/controls",
            "_model_module_version": "1.5.0",
            "value": 385,
            "_view_count": null,
            "_view_module_version": "1.5.0",
            "orientation": "horizontal",
            "min": 0,
            "description_tooltip": null,
            "_model_module": "@jupyter-widgets/controls",
            "layout": "IPY_MODEL_9356e59355924992b5e392cefdec0554"
          }
        },
        "7a39e948576b4a949067154bdbf29565": {
          "model_module": "@jupyter-widgets/controls",
          "model_name": "HTMLModel",
          "state": {
            "_view_name": "HTMLView",
            "style": "IPY_MODEL_3319b5e1acf04ad7b6f613eb0158230e",
            "_dom_classes": [],
            "description": "",
            "_model_name": "HTMLModel",
            "placeholder": "​",
            "_view_module": "@jupyter-widgets/controls",
            "_model_module_version": "1.5.0",
            "value": " Fitting SlidingEstimator : 385/385 [00:05&lt;00:00,   67.12it/s]",
            "_view_count": null,
            "_view_module_version": "1.5.0",
            "description_tooltip": null,
            "_model_module": "@jupyter-widgets/controls",
            "layout": "IPY_MODEL_84a97d9115704ab5a2978d0f1b734ed5"
          }
        },
        "79758133bd50443590f5f12eb37fc3e4": {
          "model_module": "@jupyter-widgets/controls",
          "model_name": "ProgressStyleModel",
          "state": {
            "_view_name": "StyleView",
            "_model_name": "ProgressStyleModel",
            "description_width": "initial",
            "_view_module": "@jupyter-widgets/base",
            "_model_module_version": "1.5.0",
            "_view_count": null,
            "_view_module_version": "1.2.0",
            "bar_color": null,
            "_model_module": "@jupyter-widgets/controls"
          }
        },
        "9356e59355924992b5e392cefdec0554": {
          "model_module": "@jupyter-widgets/base",
          "model_name": "LayoutModel",
          "state": {
            "_view_name": "LayoutView",
            "grid_template_rows": null,
            "right": null,
            "justify_content": null,
            "_view_module": "@jupyter-widgets/base",
            "overflow": null,
            "_model_module_version": "1.2.0",
            "_view_count": null,
            "flex_flow": null,
            "width": null,
            "min_width": null,
            "border": null,
            "align_items": null,
            "bottom": null,
            "_model_module": "@jupyter-widgets/base",
            "top": null,
            "grid_column": null,
            "overflow_y": null,
            "overflow_x": null,
            "grid_auto_flow": null,
            "grid_area": null,
            "grid_template_columns": null,
            "flex": null,
            "_model_name": "LayoutModel",
            "justify_items": null,
            "grid_row": null,
            "max_height": null,
            "align_content": null,
            "visibility": null,
            "align_self": null,
            "height": null,
            "min_height": null,
            "padding": null,
            "grid_auto_rows": null,
            "grid_gap": null,
            "max_width": null,
            "order": null,
            "_view_module_version": "1.2.0",
            "grid_template_areas": null,
            "object_position": null,
            "object_fit": null,
            "grid_auto_columns": null,
            "margin": null,
            "display": null,
            "left": null
          }
        },
        "3319b5e1acf04ad7b6f613eb0158230e": {
          "model_module": "@jupyter-widgets/controls",
          "model_name": "DescriptionStyleModel",
          "state": {
            "_view_name": "StyleView",
            "_model_name": "DescriptionStyleModel",
            "description_width": "",
            "_view_module": "@jupyter-widgets/base",
            "_model_module_version": "1.5.0",
            "_view_count": null,
            "_view_module_version": "1.2.0",
            "_model_module": "@jupyter-widgets/controls"
          }
        },
        "84a97d9115704ab5a2978d0f1b734ed5": {
          "model_module": "@jupyter-widgets/base",
          "model_name": "LayoutModel",
          "state": {
            "_view_name": "LayoutView",
            "grid_template_rows": null,
            "right": null,
            "justify_content": null,
            "_view_module": "@jupyter-widgets/base",
            "overflow": null,
            "_model_module_version": "1.2.0",
            "_view_count": null,
            "flex_flow": null,
            "width": null,
            "min_width": null,
            "border": null,
            "align_items": null,
            "bottom": null,
            "_model_module": "@jupyter-widgets/base",
            "top": null,
            "grid_column": null,
            "overflow_y": null,
            "overflow_x": null,
            "grid_auto_flow": null,
            "grid_area": null,
            "grid_template_columns": null,
            "flex": null,
            "_model_name": "LayoutModel",
            "justify_items": null,
            "grid_row": null,
            "max_height": null,
            "align_content": null,
            "visibility": null,
            "align_self": null,
            "height": null,
            "min_height": null,
            "padding": null,
            "grid_auto_rows": null,
            "grid_gap": null,
            "max_width": null,
            "order": null,
            "_view_module_version": "1.2.0",
            "grid_template_areas": null,
            "object_position": null,
            "object_fit": null,
            "grid_auto_columns": null,
            "margin": null,
            "display": null,
            "left": null
          }
        },
        "fa3d65cc3f384cad8d931c4f6074771d": {
          "model_module": "@jupyter-widgets/controls",
          "model_name": "HBoxModel",
          "state": {
            "_view_name": "HBoxView",
            "_dom_classes": [],
            "_model_name": "HBoxModel",
            "_view_module": "@jupyter-widgets/controls",
            "_model_module_version": "1.5.0",
            "_view_count": null,
            "_view_module_version": "1.5.0",
            "box_style": "",
            "layout": "IPY_MODEL_fe2cf736d1d14881a6a66fc242d44819",
            "_model_module": "@jupyter-widgets/controls",
            "children": [
              "IPY_MODEL_c904cf677e4748baa3822ca2fbb01998",
              "IPY_MODEL_4f04f6a2144e44aa8cffc36c47635753"
            ]
          }
        },
        "fe2cf736d1d14881a6a66fc242d44819": {
          "model_module": "@jupyter-widgets/base",
          "model_name": "LayoutModel",
          "state": {
            "_view_name": "LayoutView",
            "grid_template_rows": null,
            "right": null,
            "justify_content": null,
            "_view_module": "@jupyter-widgets/base",
            "overflow": null,
            "_model_module_version": "1.2.0",
            "_view_count": null,
            "flex_flow": null,
            "width": null,
            "min_width": null,
            "border": null,
            "align_items": null,
            "bottom": null,
            "_model_module": "@jupyter-widgets/base",
            "top": null,
            "grid_column": null,
            "overflow_y": null,
            "overflow_x": null,
            "grid_auto_flow": null,
            "grid_area": null,
            "grid_template_columns": null,
            "flex": null,
            "_model_name": "LayoutModel",
            "justify_items": null,
            "grid_row": null,
            "max_height": null,
            "align_content": null,
            "visibility": null,
            "align_self": null,
            "height": null,
            "min_height": null,
            "padding": null,
            "grid_auto_rows": null,
            "grid_gap": null,
            "max_width": null,
            "order": null,
            "_view_module_version": "1.2.0",
            "grid_template_areas": null,
            "object_position": null,
            "object_fit": null,
            "grid_auto_columns": null,
            "margin": null,
            "display": null,
            "left": null
          }
        },
        "c904cf677e4748baa3822ca2fbb01998": {
          "model_module": "@jupyter-widgets/controls",
          "model_name": "FloatProgressModel",
          "state": {
            "_view_name": "ProgressView",
            "style": "IPY_MODEL_407a03fe3a464488a965aeca8c7a3402",
            "_dom_classes": [],
            "description": "100%",
            "_model_name": "FloatProgressModel",
            "bar_style": "success",
            "max": 385,
            "_view_module": "@jupyter-widgets/controls",
            "_model_module_version": "1.5.0",
            "value": 385,
            "_view_count": null,
            "_view_module_version": "1.5.0",
            "orientation": "horizontal",
            "min": 0,
            "description_tooltip": null,
            "_model_module": "@jupyter-widgets/controls",
            "layout": "IPY_MODEL_c848cf05886847548b1971eb0aa4e248"
          }
        },
        "4f04f6a2144e44aa8cffc36c47635753": {
          "model_module": "@jupyter-widgets/controls",
          "model_name": "HTMLModel",
          "state": {
            "_view_name": "HTMLView",
            "style": "IPY_MODEL_8edea475213b48cab156319a335f62da",
            "_dom_classes": [],
            "description": "",
            "_model_name": "HTMLModel",
            "placeholder": "​",
            "_view_module": "@jupyter-widgets/controls",
            "_model_module_version": "1.5.0",
            "value": " Fitting SlidingEstimator : 385/385 [00:05&lt;00:00,   66.83it/s]",
            "_view_count": null,
            "_view_module_version": "1.5.0",
            "description_tooltip": null,
            "_model_module": "@jupyter-widgets/controls",
            "layout": "IPY_MODEL_8deacdab8cbb462a9fac5356beb3e8cc"
          }
        },
        "407a03fe3a464488a965aeca8c7a3402": {
          "model_module": "@jupyter-widgets/controls",
          "model_name": "ProgressStyleModel",
          "state": {
            "_view_name": "StyleView",
            "_model_name": "ProgressStyleModel",
            "description_width": "initial",
            "_view_module": "@jupyter-widgets/base",
            "_model_module_version": "1.5.0",
            "_view_count": null,
            "_view_module_version": "1.2.0",
            "bar_color": null,
            "_model_module": "@jupyter-widgets/controls"
          }
        },
        "c848cf05886847548b1971eb0aa4e248": {
          "model_module": "@jupyter-widgets/base",
          "model_name": "LayoutModel",
          "state": {
            "_view_name": "LayoutView",
            "grid_template_rows": null,
            "right": null,
            "justify_content": null,
            "_view_module": "@jupyter-widgets/base",
            "overflow": null,
            "_model_module_version": "1.2.0",
            "_view_count": null,
            "flex_flow": null,
            "width": null,
            "min_width": null,
            "border": null,
            "align_items": null,
            "bottom": null,
            "_model_module": "@jupyter-widgets/base",
            "top": null,
            "grid_column": null,
            "overflow_y": null,
            "overflow_x": null,
            "grid_auto_flow": null,
            "grid_area": null,
            "grid_template_columns": null,
            "flex": null,
            "_model_name": "LayoutModel",
            "justify_items": null,
            "grid_row": null,
            "max_height": null,
            "align_content": null,
            "visibility": null,
            "align_self": null,
            "height": null,
            "min_height": null,
            "padding": null,
            "grid_auto_rows": null,
            "grid_gap": null,
            "max_width": null,
            "order": null,
            "_view_module_version": "1.2.0",
            "grid_template_areas": null,
            "object_position": null,
            "object_fit": null,
            "grid_auto_columns": null,
            "margin": null,
            "display": null,
            "left": null
          }
        },
        "8edea475213b48cab156319a335f62da": {
          "model_module": "@jupyter-widgets/controls",
          "model_name": "DescriptionStyleModel",
          "state": {
            "_view_name": "StyleView",
            "_model_name": "DescriptionStyleModel",
            "description_width": "",
            "_view_module": "@jupyter-widgets/base",
            "_model_module_version": "1.5.0",
            "_view_count": null,
            "_view_module_version": "1.2.0",
            "_model_module": "@jupyter-widgets/controls"
          }
        },
        "8deacdab8cbb462a9fac5356beb3e8cc": {
          "model_module": "@jupyter-widgets/base",
          "model_name": "LayoutModel",
          "state": {
            "_view_name": "LayoutView",
            "grid_template_rows": null,
            "right": null,
            "justify_content": null,
            "_view_module": "@jupyter-widgets/base",
            "overflow": null,
            "_model_module_version": "1.2.0",
            "_view_count": null,
            "flex_flow": null,
            "width": null,
            "min_width": null,
            "border": null,
            "align_items": null,
            "bottom": null,
            "_model_module": "@jupyter-widgets/base",
            "top": null,
            "grid_column": null,
            "overflow_y": null,
            "overflow_x": null,
            "grid_auto_flow": null,
            "grid_area": null,
            "grid_template_columns": null,
            "flex": null,
            "_model_name": "LayoutModel",
            "justify_items": null,
            "grid_row": null,
            "max_height": null,
            "align_content": null,
            "visibility": null,
            "align_self": null,
            "height": null,
            "min_height": null,
            "padding": null,
            "grid_auto_rows": null,
            "grid_gap": null,
            "max_width": null,
            "order": null,
            "_view_module_version": "1.2.0",
            "grid_template_areas": null,
            "object_position": null,
            "object_fit": null,
            "grid_auto_columns": null,
            "margin": null,
            "display": null,
            "left": null
          }
        }
      }
    }
  },
  "cells": [
    {
      "cell_type": "markdown",
      "metadata": {
        "id": "view-in-github",
        "colab_type": "text"
      },
      "source": [
        "<a href=\"https://colab.research.google.com/github/soukhind2/PRNI_summer_school/blob/master/Copy_of_Temporal_Decoding.ipynb\" target=\"_parent\"><img src=\"https://colab.research.google.com/assets/colab-badge.svg\" alt=\"Open In Colab\"/></a>"
      ]
    },
    {
      "cell_type": "markdown",
      "metadata": {
        "id": "JLINugJtDUgg",
        "colab_type": "text"
      },
      "source": [
        "# Multivariate Statistics (Decoding / MVPA) on MEG/EEG Data"
      ]
    },
    {
      "cell_type": "markdown",
      "metadata": {
        "id": "GMC2tiixDUgh",
        "colab_type": "text"
      },
      "source": [
        "**Lecture:** Alexandre Gramfort\n",
        "\n",
        "**Tutorial:** Richard Höchenberger `<richard.hoechenberger@gmail.com>`\n",
        "\n",
        "\n"
      ]
    },
    {
      "cell_type": "markdown",
      "metadata": {
        "id": "9kWuO1qpDUgi",
        "colab_type": "text"
      },
      "source": [
        "## Objective\n",
        "\n",
        "This tutorial is concerned with the analysis of M/EEG data. It largely consists of two parts:\n",
        "\n",
        "- In the **first part,** you will learn how to **import raw data,** split it into **epochs,** and calculate **evoked responses.**\n",
        "- In the **second part,** we will **train a classifier** to distinguish the brain response patterns to two stimulus conditions, first on a **per-trial basis,** and then for **every time point.**"
      ]
    },
    {
      "cell_type": "markdown",
      "metadata": {
        "id": "aKajRwyaDUgj",
        "colab_type": "text"
      },
      "source": [
        "Install MNE-Python if it has not yet been installed."
      ]
    },
    {
      "cell_type": "code",
      "metadata": {
        "id": "PgXC40blDUgk",
        "colab_type": "code",
        "colab": {
          "base_uri": "https://localhost:8080/",
          "height": 138
        },
        "outputId": "d35532f4-1b45-4e61-d9c6-09b12473be9c"
      },
      "source": [
        "!pip install mne"
      ],
      "execution_count": 1,
      "outputs": [
        {
          "output_type": "stream",
          "text": [
            "Collecting mne\n",
            "\u001b[?25l  Downloading https://files.pythonhosted.org/packages/90/c6/7619cef2fe437038267f2a5e2752180dfa594daada8b10a8ab73d187c078/mne-0.20.8-py3-none-any.whl (6.6MB)\n",
            "\u001b[K     |████████████████████████████████| 6.6MB 2.7MB/s \n",
            "\u001b[?25hRequirement already satisfied: numpy>=1.11.3 in /usr/local/lib/python3.6/dist-packages (from mne) (1.18.5)\n",
            "Requirement already satisfied: scipy>=0.17.1 in /usr/local/lib/python3.6/dist-packages (from mne) (1.4.1)\n",
            "Installing collected packages: mne\n",
            "Successfully installed mne-0.20.8\n"
          ],
          "name": "stdout"
        }
      ]
    },
    {
      "cell_type": "markdown",
      "metadata": {
        "id": "s-NMhQyEDUgq",
        "colab_type": "text"
      },
      "source": [
        "First, load the mne package:"
      ]
    },
    {
      "cell_type": "code",
      "metadata": {
        "id": "PT5aAg83DUgq",
        "colab_type": "code",
        "colab": {}
      },
      "source": [
        "import mne"
      ],
      "execution_count": 2,
      "outputs": []
    },
    {
      "cell_type": "markdown",
      "metadata": {
        "id": "bTJt5TEBDUgv",
        "colab_type": "text"
      },
      "source": [
        "## Load the raw data."
      ]
    },
    {
      "cell_type": "markdown",
      "metadata": {
        "id": "kW-7ryQHDUgw",
        "colab_type": "text"
      },
      "source": [
        "Now we load the `sample` dataset. It will be downloaded automatically (approx. 2 GB)."
      ]
    },
    {
      "cell_type": "code",
      "metadata": {
        "tags": [],
        "id": "CLdWIF4rDUgw",
        "colab_type": "code",
        "colab": {
          "base_uri": "https://localhost:8080/",
          "height": 449,
          "referenced_widgets": [
            "16f070be46214dfc98399d9db14903dd",
            "cf6f83cf50bb41239966c948a7574d7b",
            "4c0692ba5b1e4b63b028a8bcee3dc87f",
            "83ff625490dd42cf9d21e837f89a1b2e",
            "c3cfbb082d2a47f6a6565f4789847524",
            "ad91612ca0764a4db239afa9f60a9f05",
            "5a757916790b4214a91623897dd76e52",
            "923588be201140cd8a7e1bab32400664"
          ]
        },
        "outputId": "58bd912b-6832-4d17-c1bf-2bf6138ab755"
      },
      "source": [
        "from pathlib import Path\n",
        "\n",
        "# data_path() returns a string – turn it into a Path!\n",
        "sample_dir = Path(mne.datasets.sample.data_path())\n",
        "\n",
        "# The raw data file we wish to load – an example experiment.\n",
        "raw_fname = sample_dir / 'MEG/sample/sample_audvis_filt-0-40_raw.fif'\n",
        "\n",
        "# Now, actually load the raw data.\n",
        "raw = mne.io.read_raw_fif(raw_fname, preload=True)\n",
        "print(raw)"
      ],
      "execution_count": 3,
      "outputs": [
        {
          "output_type": "stream",
          "text": [
            "Using default location ~/mne_data for sample...\n",
            "Creating ~/mne_data\n",
            "Downloading archive MNE-sample-data-processed.tar.gz to /root/mne_data\n",
            "Downloading https://files.osf.io/v1/resources/rxvq7/providers/osfstorage/59c0e26f9ad5a1025c4ab159?version=5&action=download&direct (1.54 GB)\n"
          ],
          "name": "stdout"
        },
        {
          "output_type": "display_data",
          "data": {
            "application/vnd.jupyter.widget-view+json": {
              "model_id": "16f070be46214dfc98399d9db14903dd",
              "version_minor": 0,
              "version_major": 2
            },
            "text/plain": [
              "HBox(children=(FloatProgress(value=0.0, description='Downloading', max=1652769680.0, style=ProgressStyle(descr…"
            ]
          },
          "metadata": {
            "tags": []
          }
        },
        {
          "output_type": "stream",
          "text": [
            "\n",
            "Verifying hash 12b75d1cb7df9dfb4ad73ed82f61094f.\n",
            "Decompressing the archive: /root/mne_data/MNE-sample-data-processed.tar.gz\n",
            "(please be patient, this can take some time)\n",
            "Successfully extracted to: ['/root/mne_data/MNE-sample-data']\n",
            "Attempting to create new mne-python configuration file:\n",
            "/root/.mne/mne-python.json\n",
            "Opening raw data file /root/mne_data/MNE-sample-data/MEG/sample/sample_audvis_filt-0-40_raw.fif...\n",
            "    Read a total of 4 projection items:\n",
            "        PCA-v1 (1 x 102)  idle\n",
            "        PCA-v2 (1 x 102)  idle\n",
            "        PCA-v3 (1 x 102)  idle\n",
            "        Average EEG reference (1 x 60)  idle\n",
            "    Range : 6450 ... 48149 =     42.956 ...   320.665 secs\n",
            "Ready.\n",
            "Current compensation grade : 0\n",
            "Reading 0 ... 41699  =      0.000 ...   277.709 secs...\n",
            "<Raw | sample_audvis_filt-0-40_raw.fif, 376 x 41700 (277.7 s), ~123.3 MB, data loaded>\n"
          ],
          "name": "stdout"
        }
      ]
    },
    {
      "cell_type": "markdown",
      "metadata": {
        "id": "GLVzR4rJDUgz",
        "colab_type": "text"
      },
      "source": [
        "## High-pass filter the data."
      ]
    },
    {
      "cell_type": "code",
      "metadata": {
        "tags": [],
        "id": "5MOMd-r7DUg0",
        "colab_type": "code",
        "colab": {
          "base_uri": "https://localhost:8080/",
          "height": 242
        },
        "outputId": "b67788a1-4bfd-4c6e-9f5a-8e4da92cdd43"
      },
      "source": [
        "raw.filter(l_freq=1, h_freq=None, verbose=True)"
      ],
      "execution_count": 4,
      "outputs": [
        {
          "output_type": "stream",
          "text": [
            "Filtering raw data in 1 contiguous segment\n",
            "Setting up high-pass filter at 1 Hz\n",
            "\n",
            "FIR filter parameters\n",
            "---------------------\n",
            "Designing a one-pass, zero-phase, non-causal highpass filter:\n",
            "- Windowed time-domain design (firwin) method\n",
            "- Hamming window with 0.0194 passband ripple and 53 dB stopband attenuation\n",
            "- Lower passband edge: 1.00\n",
            "- Lower transition bandwidth: 1.00 Hz (-6 dB cutoff frequency: 0.50 Hz)\n",
            "- Filter length: 497 samples (3.310 sec)\n",
            "\n"
          ],
          "name": "stdout"
        },
        {
          "output_type": "execute_result",
          "data": {
            "text/plain": [
              "<Raw | sample_audvis_filt-0-40_raw.fif, 376 x 41700 (277.7 s), ~123.3 MB, data loaded>"
            ]
          },
          "metadata": {
            "tags": []
          },
          "execution_count": 4
        }
      ]
    },
    {
      "cell_type": "markdown",
      "metadata": {
        "id": "WN3xq0_7DUg2",
        "colab_type": "text"
      },
      "source": [
        "## View some metadata & information on the data."
      ]
    },
    {
      "cell_type": "code",
      "metadata": {
        "tags": [],
        "id": "0CxnBWL3DUg3",
        "colab_type": "code",
        "colab": {
          "base_uri": "https://localhost:8080/",
          "height": 328
        },
        "outputId": "b6eec39a-4a56-4718-8d29-aa830ef4a40e"
      },
      "source": [
        "print(raw.info)"
      ],
      "execution_count": 5,
      "outputs": [
        {
          "output_type": "stream",
          "text": [
            "<Info | 15 non-empty values\n",
            " bads: 2 items (MEG 2443, EEG 053)\n",
            " ch_names: MEG 0113, MEG 0112, MEG 0111, MEG 0122, MEG 0123, MEG 0121, MEG ...\n",
            " chs: 204 GRAD, 102 MAG, 9 STIM, 60 EEG, 1 EOG\n",
            " custom_ref_applied: False\n",
            " dev_head_t: MEG device -> head transform\n",
            " dig: 146 items (3 Cardinal, 4 HPI, 61 EEG, 78 Extra)\n",
            " file_id: 4 items (dict)\n",
            " highpass: 1.0 Hz\n",
            " hpi_meas: 1 item (list)\n",
            " hpi_results: 1 item (list)\n",
            " lowpass: 40.0 Hz\n",
            " meas_date: 2002-12-03 19:01:10 UTC\n",
            " meas_id: 4 items (dict)\n",
            " nchan: 376\n",
            " projs: PCA-v1: off, PCA-v2: off, PCA-v3: off, Average EEG reference: off\n",
            " sfreq: 150.2 Hz\n",
            ">\n"
          ],
          "name": "stdout"
        }
      ]
    },
    {
      "cell_type": "markdown",
      "metadata": {
        "id": "JL96JqSuDUg5",
        "colab_type": "text"
      },
      "source": [
        "## Extract experimental events."
      ]
    },
    {
      "cell_type": "markdown",
      "metadata": {
        "id": "TBbosgAXDUg6",
        "colab_type": "text"
      },
      "source": [
        "First extract all experimental events. In this particular dataset, they are stored in the stimulus or trigger channel `STI 014`."
      ]
    },
    {
      "cell_type": "code",
      "metadata": {
        "tags": [],
        "id": "LtxiiA8VDUg7",
        "colab_type": "code",
        "colab": {
          "base_uri": "https://localhost:8080/",
          "height": 52
        },
        "outputId": "becae569-a4f0-4b18-83e2-daf4bc91dfc7"
      },
      "source": [
        "events = mne.find_events(raw, stim_channel='STI 014', verbose=True)"
      ],
      "execution_count": 6,
      "outputs": [
        {
          "output_type": "stream",
          "text": [
            "319 events found\n",
            "Event IDs: [ 1  2  3  4  5 32]\n"
          ],
          "name": "stdout"
        }
      ]
    },
    {
      "cell_type": "markdown",
      "metadata": {
        "id": "VaP1GnGkDUg9",
        "colab_type": "text"
      },
      "source": [
        "Look at the design in a graphical way. We're only interested in the `auditory left` and `auditory right` conditions, encoded through event IDs `1` and `2`, respectively."
      ]
    },
    {
      "cell_type": "code",
      "metadata": {
        "id": "2JxhFqn7DUg9",
        "colab_type": "code",
        "colab": {
          "base_uri": "https://localhost:8080/",
          "height": 417
        },
        "outputId": "f5c0d2a0-8e26-4390-ffc1-caf4f67e3dc4"
      },
      "source": [
        "event_id = { 'aud_l': 1,\n",
        "             'aud_r': 2 } \n",
        "\n",
        "fig = mne.viz.plot_events(events, sfreq=raw.info['sfreq'],\n",
        "                          first_samp=raw.first_samp, event_id=event_id)"
      ],
      "execution_count": 7,
      "outputs": [
        {
          "output_type": "stream",
          "text": [
            "<ipython-input-7-60a9f8514f7c>:5: RuntimeWarning: event 3 missing from event_id will be ignored\n",
            "  first_samp=raw.first_samp, event_id=event_id)\n",
            "<ipython-input-7-60a9f8514f7c>:5: RuntimeWarning: event 4 missing from event_id will be ignored\n",
            "  first_samp=raw.first_samp, event_id=event_id)\n",
            "<ipython-input-7-60a9f8514f7c>:5: RuntimeWarning: event 5 missing from event_id will be ignored\n",
            "  first_samp=raw.first_samp, event_id=event_id)\n",
            "<ipython-input-7-60a9f8514f7c>:5: RuntimeWarning: event 32 missing from event_id will be ignored\n",
            "  first_samp=raw.first_samp, event_id=event_id)\n"
          ],
          "name": "stderr"
        },
        {
          "output_type": "display_data",
          "data": {
            "image/png": "[encoded data removed]",
            "text/plain": [
              "<Figure size 432x288 with 1 Axes>"
            ]
          },
          "metadata": {
            "tags": [],
            "needs_background": "light"
          }
        }
      ]
    },
    {
      "cell_type": "markdown",
      "metadata": {
        "id": "zDHcprszDUhB",
        "colab_type": "text"
      },
      "source": [
        "## Epoch the data."
      ]
    },
    {
      "cell_type": "markdown",
      "metadata": {
        "id": "G_ziQ4aWDUhB",
        "colab_type": "text"
      },
      "source": [
        "Now that we know when the experimental events of interest happened, we are finally ready to slice the data into epochs!\n",
        "\n",
        "Note that, since we high-pass filtered the raw data, we do not need to perform baseline correction."
      ]
    },
    {
      "cell_type": "code",
      "metadata": {
        "tags": [],
        "id": "jqQF_EX-DUhB",
        "colab_type": "code",
        "colab": {
          "base_uri": "https://localhost:8080/",
          "height": 328
        },
        "outputId": "53de5c6b-7e26-41cc-c947-4f941811b5c5"
      },
      "source": [
        "tmin = -0.1  # Start of each epoch relative to the event marker (in seconds)\n",
        "tmax = 0.4   # End of each epoch\n",
        "baseline = None  # No baseline correction, data were high-pass filtered!\n",
        "\n",
        "# Define rejection parameters: epochs with unusually high amplitudes should be dropped\n",
        "# automatically.\n",
        "reject = dict(eeg=100e-6, eog=200e-6)  # Amplitude threshold in Volts.\n",
        "\n",
        "# Now actually create the epochs.\n",
        "epochs = mne.Epochs(raw, tmin=tmin, tmax=tmax,\n",
        "                    events=events, event_id=event_id,\n",
        "                    baseline=baseline, reject=reject,\n",
        "                    preload=True)  # Actually load the data into memory.\n",
        "\n",
        "print(epochs)"
      ],
      "execution_count": 8,
      "outputs": [
        {
          "output_type": "stream",
          "text": [
            "145 matching events found\n",
            "No baseline correction applied\n",
            "Not setting metadata\n",
            "Created an SSP operator (subspace dimension = 4)\n",
            "4 projection items activated\n",
            "Loading data for 145 events and 76 original time points ...\n",
            "    Rejecting  epoch based on EOG : ['EOG 061']\n",
            "    Rejecting  epoch based on EEG : ['EEG 001', 'EEG 002', 'EEG 003', 'EEG 004', 'EEG 007']\n",
            "    Rejecting  epoch based on EEG : ['EEG 001', 'EEG 002', 'EEG 003', 'EEG 007']\n",
            "    Rejecting  epoch based on EEG : ['EEG 003', 'EEG 007']\n",
            "    Rejecting  epoch based on EEG : ['EEG 003', 'EEG 007']\n",
            "    Rejecting  epoch based on EEG : ['EEG 001', 'EEG 002', 'EEG 003', 'EEG 007']\n",
            "    Rejecting  epoch based on EEG : ['EEG 007']\n",
            "    Rejecting  epoch based on EEG : ['EEG 001', 'EEG 002', 'EEG 003', 'EEG 007']\n",
            "8 bad epochs dropped\n",
            "<Epochs  |   137 events (all good), -0.0998976 - 0.39959 sec, baseline off, ~33.5 MB, data loaded,\n",
            " 'aud_l': 68\n",
            " 'aud_r': 69>\n"
          ],
          "name": "stdout"
        }
      ]
    },
    {
      "cell_type": "markdown",
      "metadata": {
        "id": "9TNU7Cc8DUhD",
        "colab_type": "text"
      },
      "source": [
        "## Calculate evoked responses (ERF & ERP)."
      ]
    },
    {
      "cell_type": "markdown",
      "metadata": {
        "id": "DLa09CJjDUhD",
        "colab_type": "text"
      },
      "source": [
        "Display the evoked responses and visualize the differences between left and right stimulation. We use \"spatial\" colors for the traces, which encode the sensor location (legend shown in the top-left corner of the figures)."
      ]
    },
    {
      "cell_type": "code",
      "metadata": {
        "id": "HBlKwQIwDUhE",
        "colab_type": "code",
        "colab": {
          "base_uri": "https://localhost:8080/",
          "height": 1000
        },
        "outputId": "318ecd0b-e305-41ca-ccf9-787706781bbf"
      },
      "source": [
        "evoked_left = epochs['aud_l'].average()\n",
        "evoked_right = epochs['aud_r'].average()\n",
        "\n",
        "# Constrast = Left - Right stimulation.\n",
        "evoked_contrast = mne.combine_evoked([evoked_left, evoked_right],\n",
        "                                     weights=[1, -1])\n",
        "\n",
        "# Plot the results. The only reason we're using show=False here is\n",
        "# because otherwise, Jupyter Notebook sometimes may produce multiple\n",
        "# figures per plotting command. Otherwise, this should not be\n",
        "# necessary.\n",
        "fig = evoked_left.plot(spatial_colors=True, show=False)\n",
        "fig.suptitle('Left')\n",
        "\n",
        "fig = evoked_right.plot(spatial_colors=True, show=False)\n",
        "fig.suptitle('Right')\n",
        "\n",
        "fig = evoked_contrast.plot(spatial_colors=True, show=False)\n",
        "fig.suptitle('Left – Right')\n"
      ],
      "execution_count": 9,
      "outputs": [
        {
          "output_type": "execute_result",
          "data": {
            "text/plain": [
              "Text(0.5, 0.98, 'Left – Right')"
            ]
          },
          "metadata": {
            "tags": []
          },
          "execution_count": 9
        },
        {
          "output_type": "display_data",
          "data": {
            "image/png": "[encoded data removed]",
            "text/plain": [
              "<Figure size 460.8x360 with 6 Axes>"
            ]
          },
          "metadata": {
            "tags": [],
            "needs_background": "light"
          }
        },
        {
          "output_type": "display_data",
          "data": {
            "image/png": "[encoded data removed]",
            "text/plain": [
              "<Figure size 460.8x360 with 6 Axes>"
            ]
          },
          "metadata": {
            "tags": [],
            "needs_background": "light"
          }
        },
        {
          "output_type": "display_data",
          "data": {
            "image/png": "[encoded data removed]",
            "text/plain": [
              "<Figure size 460.8x360 with 6 Axes>"
            ]
          },
          "metadata": {
            "tags": [],
            "needs_background": "light"
          }
        }
      ]
    },
    {
      "cell_type": "markdown",
      "metadata": {
        "id": "EHhMRSNfDUhF",
        "colab_type": "text"
      },
      "source": [
        "## Plot some topographies"
      ]
    },
    {
      "cell_type": "code",
      "metadata": {
        "id": "630bBdIxDUhG",
        "colab_type": "code",
        "colab": {
          "base_uri": "https://localhost:8080/",
          "height": 425
        },
        "outputId": "760ceff6-a098-4868-ca76-564dcb95c88e"
      },
      "source": [
        "vmin, vmax = -4, 4  # Colorbar range – set to None, None for automatic scaling.\n",
        "fig = evoked_left.plot_topomap(ch_type='eeg', contours=0, vmin=vmin, vmax=vmax,\n",
        "                               show=False)\n",
        "fig.suptitle('Left')\n",
        "\n",
        "fig = evoked_right.plot_topomap(ch_type='eeg', contours=0, vmin=vmin, vmax=vmax,\n",
        "                                show=False)\n",
        "fig.suptitle('Right')\n",
        "\n",
        "# For the contrast, we allow MNE to scale the colorbar automatically.\n",
        "fig = evoked_contrast.plot_topomap(ch_type='eeg', contours=0, show=False)\n",
        "fig.suptitle('Left – Right')"
      ],
      "execution_count": 10,
      "outputs": [
        {
          "output_type": "execute_result",
          "data": {
            "text/plain": [
              "Text(0.5, 0.98, 'Left – Right')"
            ]
          },
          "metadata": {
            "tags": []
          },
          "execution_count": 10
        },
        {
          "output_type": "display_data",
          "data": {
            "image/png": "[encoded data removed]",
            "text/plain": [
              "<Figure size 540x140.4 with 5 Axes>"
            ]
          },
          "metadata": {
            "tags": [],
            "needs_background": "light"
          }
        },
        {
          "output_type": "display_data",
          "data": {
            "image/png": "[encoded data removed]",
            "text/plain": [
              "<Figure size 540x140.4 with 5 Axes>"
            ]
          },
          "metadata": {
            "tags": [],
            "needs_background": "light"
          }
        },
        {
          "output_type": "display_data",
          "data": {
            "image/png": "[encoded data removed]",
            "text/plain": [
              "<Figure size 540x140.4 with 5 Axes>"
            ]
          },
          "metadata": {
            "tags": [],
            "needs_background": "light"
          }
        }
      ]
    },
    {
      "cell_type": "markdown",
      "metadata": {
        "id": "w36Cnu5UDUhI",
        "colab_type": "text"
      },
      "source": [
        "## Now let's see if we can classify single trials."
      ]
    },
    {
      "cell_type": "markdown",
      "metadata": {
        "id": "ET2oW89KDUhI",
        "colab_type": "text"
      },
      "source": [
        "### Equalize the number of epochs."
      ]
    },
    {
      "cell_type": "markdown",
      "metadata": {
        "id": "GPVMAHIoDUhI",
        "colab_type": "text"
      },
      "source": [
        "To keep chance level at 50% accuracy, we first equalize the number of epochs in each condition."
      ]
    },
    {
      "cell_type": "code",
      "metadata": {
        "tags": [],
        "id": "njaEU3JbDUhJ",
        "colab_type": "code",
        "colab": {
          "base_uri": "https://localhost:8080/",
          "height": 86
        },
        "outputId": "fb98f326-4104-4903-ef33-84cc0003f3bb"
      },
      "source": [
        "epochs.equalize_event_counts(event_id)\n",
        "print(epochs)"
      ],
      "execution_count": 11,
      "outputs": [
        {
          "output_type": "stream",
          "text": [
            "Dropped 1 epoch: 122\n",
            "<Epochs  |   136 events (all good), -0.0998976 - 0.39959 sec, baseline off, ~33.3 MB, data loaded,\n",
            " 'aud_l': 68\n",
            " 'aud_r': 68>\n"
          ],
          "name": "stdout"
        }
      ]
    },
    {
      "cell_type": "markdown",
      "metadata": {
        "id": "hStxLWYxDUhK",
        "colab_type": "text"
      },
      "source": [
        "### Create input `X` and response `y`."
      ]
    },
    {
      "cell_type": "markdown",
      "metadata": {
        "id": "HJMkW3BgDUhL",
        "colab_type": "text"
      },
      "source": [
        "A classifier takes as input a matrix `X` and returns a vector `y` (consisting of `0` and `1`). Here `X` will be the **data at one time point on all gradiometers** (hence the term multivariate). We want to train our model to discriminate between the  `auditory left` and the `auditory right` trials.\n",
        "\n",
        "We work with all sensors jointly and try to find a discriminative pattern between the two conditions to predict the experimental condition of individual trials.\n",
        "\n",
        "For classification we will use the `scikit-learn` package (http://scikit-learn.org/) and MNE-Python functions.\n",
        "\n",
        "Let's first create the response vector, `y`."
      ]
    },
    {
      "cell_type": "code",
      "metadata": {
        "tags": [],
        "id": "89b9haCADUhL",
        "colab_type": "code",
        "colab": {
          "base_uri": "https://localhost:8080/",
          "height": 121
        },
        "outputId": "58730e2f-64b0-4cc8-8609-da13ebf284b8"
      },
      "source": [
        "import numpy as np\n",
        "\n",
        "# Create an vector with length = no. of trials.\n",
        "y = np.empty(len(epochs.events), dtype=int)  \n",
        "\n",
        "# Which trials are LEFT, which are RIGHT?\n",
        "idx_auditory_left = epochs.events[:, 2] == event_id['aud_l']\n",
        "idx_auditory_right = epochs.events[:, 2] == event_id['aud_r']\n",
        "\n",
        "# Encode: LEFT = 0, RIGHT = 1.\n",
        "y[idx_auditory_left] = 0\n",
        "y[idx_auditory_right] = 1\n",
        "\n",
        "print(y)\n",
        "print(f'\\nSize of y: {y.size}')"
      ],
      "execution_count": 12,
      "outputs": [
        {
          "output_type": "stream",
          "text": [
            "[0 1 0 1 0 1 0 0 1 0 1 0 1 0 1 0 1 0 1 0 1 0 1 0 1 0 1 0 1 0 1 0 1 0 1 0 0\n",
            " 1 0 1 0 1 0 1 0 1 0 1 0 1 0 1 0 1 1 0 1 0 1 0 1 0 1 0 1 0 0 1 0 1 0 1 0 1\n",
            " 0 1 0 1 0 1 0 1 0 1 1 1 0 1 1 0 0 1 0 1 0 1 0 0 1 0 1 0 1 0 1 0 1 0 1 0 1\n",
            " 0 1 0 1 1 0 1 0 1 0 1 1 0 1 0 1 0 1 0 1 0 1 0 1 0]\n",
            "\n",
            "Size of y: 136\n"
          ],
          "name": "stdout"
        }
      ]
    },
    {
      "cell_type": "markdown",
      "metadata": {
        "id": "xHc55EzrDUhN",
        "colab_type": "text"
      },
      "source": [
        "Now, let's create the input matrix, `X`.\n",
        "\n",
        "We wish to focus only on the gradiometer channels here, so we use\n",
        "`pick_types(meg='grad')`. For magnetometer channels, we would need to\n",
        "pass `meg='mag'`; and for EEG channels: `meg=False, eeg=True`.\n",
        "We create a copy of the `epochs` because `pick_types()` operates in-place,\n",
        "but we would like to keep the original epochs object untouched.\n"
      ]
    },
    {
      "cell_type": "code",
      "metadata": {
        "tags": [],
        "id": "p9FyYOzWDUhO",
        "colab_type": "code",
        "colab": {
          "base_uri": "https://localhost:8080/",
          "height": 35
        },
        "outputId": "2a37cfe4-2886-4f80-f516-8c962c0b0353"
      },
      "source": [
        "epochs_grad = epochs.copy().pick_types(meg='grad')\n",
        "\n",
        "# Retrieve the data as a NumPy array.\n",
        "# The array has the shape: (n_trials, n_channels, n_timepoints)\n",
        "data = epochs_grad.get_data()\n",
        "print(data.shape)"
      ],
      "execution_count": 13,
      "outputs": [
        {
          "output_type": "stream",
          "text": [
            "(136, 203, 76)\n"
          ],
          "name": "stdout"
        }
      ]
    },
    {
      "cell_type": "markdown",
      "metadata": {
        "id": "EZQrNSlfDUhP",
        "colab_type": "text"
      },
      "source": [
        "We're almost there! We need to reshape the array such that for each trial, we have a vector `[channel_1_time_1, channel_1_time_2, ..., channel_m_time_n]`, i.e., we aim to reshape `X` to the dimension `(n_trials, n_channels * n_timepoints)`."
      ]
    },
    {
      "cell_type": "code",
      "metadata": {
        "tags": [],
        "id": "5KGdNduEDUhQ",
        "colab_type": "code",
        "colab": {
          "base_uri": "https://localhost:8080/",
          "height": 35
        },
        "outputId": "e2916f85-c7ad-4b09-d55e-767960d66e55"
      },
      "source": [
        "n_trials = data.shape[0]\n",
        "\n",
        "X = data.reshape(n_trials, -1)\n",
        "print(X.shape)"
      ],
      "execution_count": 14,
      "outputs": [
        {
          "output_type": "stream",
          "text": [
            "(136, 15428)\n"
          ],
          "name": "stdout"
        }
      ]
    },
    {
      "cell_type": "markdown",
      "metadata": {
        "id": "x3dinG8fDUhR",
        "colab_type": "text"
      },
      "source": [
        "### Create a classifier!"
      ]
    },
    {
      "cell_type": "markdown",
      "metadata": {
        "id": "FZuppB4nDUhR",
        "colab_type": "text"
      },
      "source": [
        "We will use plain `scikit-learn` machinery for the first round of classifications. This is to demonstrate that you can simply feed pre-processed data from MNE into `scikit-learn`."
      ]
    },
    {
      "cell_type": "code",
      "metadata": {
        "tags": [],
        "id": "wo2OeSqrDUhS",
        "colab_type": "code",
        "colab": {
          "base_uri": "https://localhost:8080/",
          "height": 52
        },
        "outputId": "6f426a76-13d6-4590-8546-5abbd086c902"
      },
      "source": [
        "from sklearn.model_selection import StratifiedKFold, cross_val_score\n",
        "from sklearn.linear_model import LogisticRegression\n",
        "from sklearn.preprocessing import StandardScaler\n",
        "from sklearn.pipeline import make_pipeline\n",
        "\n",
        "\n",
        "# The classifier pipeline: it is extremely important to scale the data\n",
        "# before running the actual classifier (logistic regression in our case).\n",
        "clf = make_pipeline(StandardScaler(),\n",
        "                    LogisticRegression())\n",
        "\n",
        "# Run cross-validation.\n",
        "# CV without shuffling – \"block cross-validation\" – is what we want here\n",
        "# (scikit-learn doesn't shuffle by default, which is good for us).\n",
        "n_splits = 5\n",
        "scoring = 'roc_auc'\n",
        "cv = StratifiedKFold(n_splits=n_splits)\n",
        "scores = cross_val_score(clf, X=X, y=y, cv=cv, scoring=scoring)\n",
        "\n",
        "# Mean and standard deviation of ROC AUC across cross-validation runs.\n",
        "roc_auc_mean = round(np.mean(scores), 3)\n",
        "roc_auc_std = round(np.std(scores), 3)\n",
        "\n",
        "print(f'CV scores: {scores}')\n",
        "print(f'Mean ROC AUC = {roc_auc_mean:.3f} (SD = {roc_auc_std:.3f})')"
      ],
      "execution_count": 15,
      "outputs": [
        {
          "output_type": "stream",
          "text": [
            "CV scores: [0.98469388 0.92857143 0.92857143 0.78021978 0.88461538]\n",
            "Mean ROC AUC = 0.901 (SD = 0.068)\n"
          ],
          "name": "stdout"
        }
      ]
    },
    {
      "cell_type": "markdown",
      "metadata": {
        "id": "A1PMZr3NDUhU",
        "colab_type": "text"
      },
      "source": [
        "### Visualize the cross-validation results.\n"
      ]
    },
    {
      "cell_type": "code",
      "metadata": {
        "id": "ynExxxaoDUhU",
        "colab_type": "code",
        "colab": {
          "base_uri": "https://localhost:8080/",
          "height": 312
        },
        "outputId": "7d1b826c-caf6-48a2-ac3e-7f4532527776"
      },
      "source": [
        "import matplotlib.pyplot as plt\n",
        "\n",
        "fig, ax = plt.subplots()\n",
        "ax.boxplot(scores,\n",
        "           showmeans=True, # Green triangle marks the mean.\n",
        "           whis=(0, 100),  # Whiskers span the entire range of the data.\n",
        "           labels=['Left vs Right'])\n",
        "ax.set_xlabel('Score')\n",
        "ax.set_ylabel('Frequency')\n",
        "ax.set_title('Cross-Validation Scores')\n"
      ],
      "execution_count": 16,
      "outputs": [
        {
          "output_type": "execute_result",
          "data": {
            "text/plain": [
              "Text(0.5, 1.0, 'Cross-Validation Scores')"
            ]
          },
          "metadata": {
            "tags": []
          },
          "execution_count": 16
        },
        {
          "output_type": "display_data",
          "data": {
            "image/png": "[encoded data removed]",
            "text/plain": [
              "<Figure size 432x288 with 1 Axes>"
            ]
          },
          "metadata": {
            "tags": [],
            "needs_background": "light"
          }
        }
      ]
    },
    {
      "cell_type": "markdown",
      "metadata": {
        "id": "nnSU2hnrDUhV",
        "colab_type": "text"
      },
      "source": [
        "## We can do this more simply using the `mne.decoding` module! Let's go. 🚀"
      ]
    },
    {
      "cell_type": "code",
      "metadata": {
        "tags": [],
        "id": "zeL3Rke_DUhW",
        "colab_type": "code",
        "colab": {
          "base_uri": "https://localhost:8080/",
          "height": 52
        },
        "outputId": "ab819048-64a7-4ddf-d2dd-07edf844e44b"
      },
      "source": [
        "from sklearn.pipeline import make_pipeline\n",
        "from mne.decoding import Scaler, Vectorizer, cross_val_multiscore\n",
        "\n",
        "# First, create X and y.\n",
        "epochs_grad = epochs.copy().pick_types(meg='grad')\n",
        "X = epochs_grad.get_data()\n",
        "y = epochs_grad.events[:, 2]\n",
        "\n",
        "# Classifier pipeline.\n",
        "clf = make_pipeline(\n",
        "    # An MNE scaler that correctly handles different channel types –\n",
        "    # isn't that great?!\n",
        "    Scaler(epochs_grad.info),\n",
        "    # Remember this annoying and error-prone NumPy array reshaping we had to do\n",
        "    # earlier? Not anymore, thanks to the MNE vectorizer!\n",
        "    Vectorizer(),\n",
        "    # And, finally, the actual classifier.\n",
        "    LogisticRegression())\n",
        "\n",
        "# Run cross-validation.\n",
        "# Note that we're using MNE's cross_val_multiscore() here, not scikit-learn's\n",
        "# cross_val_score() as above. We simply pass the number of desired CV splits,\n",
        "# and MNE will automatically do the rest for us.\n",
        "n_splits = 5\n",
        "scoring = 'roc_auc'\n",
        "scores = cross_val_multiscore(clf, X, y, cv=5, scoring='roc_auc')\n",
        "\n",
        "# Mean and standard deviation of ROC AUC across cross-validation runs.\n",
        "roc_auc_mean = round(np.mean(scores), 3)\n",
        "roc_auc_std = round(np.std(scores), 3)\n",
        "\n",
        "print(f'CV scores: {scores}')\n",
        "print(f'Mean ROC AUC = {roc_auc_mean:.3f} (SD = {roc_auc_std:.3f})')"
      ],
      "execution_count": 17,
      "outputs": [
        {
          "output_type": "stream",
          "text": [
            "CV scores: [0.98979592 0.92307692 0.97802198 0.8021978  0.92857143]\n",
            "Mean ROC AUC = 0.924 (SD = 0.066)\n"
          ],
          "name": "stdout"
        }
      ]
    },
    {
      "cell_type": "code",
      "metadata": {
        "id": "ztaurvx-DUhY",
        "colab_type": "code",
        "colab": {}
      },
      "source": [
        ""
      ],
      "execution_count": null,
      "outputs": []
    },
    {
      "cell_type": "markdown",
      "metadata": {
        "id": "v1feZq2SDUhZ",
        "colab_type": "text"
      },
      "source": [
        "## Decoding over time: Comparisons at every single time point."
      ]
    },
    {
      "cell_type": "markdown",
      "metadata": {
        "id": "lgq36jtpDUhZ",
        "colab_type": "text"
      },
      "source": [
        "In the previous examples, we have trained a classifier to discriminate between experimental conditions by using the spatio-temporal patterns of **entire trials**. Consequently, the classifier was (hopefully!) able to predict which activation patterns belonged to which condition. \n",
        "\n",
        "However, an interesting neuroscientific is: **Exactly *when* do the brain signals for two conditions differ?**\n",
        "\n",
        "We can try to answer this question by fitting a classifier **at every single time point.** If the classifier can successfully discriminate between the two conditions, we can conclude that the spatial activation patterns measured by the MEG or EEG sensors differed **at this very time point**."
      ]
    },
    {
      "cell_type": "code",
      "metadata": {
        "tags": [],
        "id": "Dn-Lhu37DUha",
        "colab_type": "code",
        "colab": {
          "base_uri": "https://localhost:8080/",
          "height": 298,
          "referenced_widgets": [
            "125fd723736549d9bee943563c207a29",
            "268db1adde4a4233a7145712218e1149",
            "c62d3591cf5f4cc7943fd9c6f3f475ae",
            "c44feb4404174d9cbe1ab3628e987cec",
            "3e75b7e3c46546e08bc4d14669bff0da",
            "8370e600733d43ec99f3a693ac2efbb5",
            "2988aef8079341318915567a8808f35b",
            "793477a0d9754125a29981e1d4f528ad",
            "d3823759bb9d4323b583c752d2832e80",
            "42ac1a98487047f4bafb9ab41ef38b98",
            "13bf752a073743b6afdf97f7dc645e0e",
            "54202fe6c98247438f5d6c24dd6bf529",
            "5e704504e179458f83094d1763b4309b",
            "aa31ec3cc90e4170951e6a0a7287fef8",
            "532462f01a744fbfb3cefedc3e61109f",
            "7c0b26be461c48cbb2b649489f410949",
            "72888cc1b79344c68db92bc8f15ae9d3",
            "79199942a84441aab396f0d4f0764992",
            "b463db77d1034959bbaaeda0f7ce2f40",
            "ebd2c83b0f3a4c4dbbe78786700758d9",
            "df17b27e231b482c9bea4c3cf40ec501",
            "1c451f9130884adb9ee2d94a3f0e418c",
            "3d4cae8aab7c49abbc35be27fe05fe66",
            "3e09e53efe8048f8a93416bd5daf259f",
            "c5463bd3e9b5401ea897ea1620d86047",
            "2c4714ff48d5413bab3e146cc716cf3e",
            "e54d39fc212f4cd197ad2e71e5747e68",
            "91dfba4cf6144aba973907a678883f06",
            "06e35c8808354b269dbae07cfdef744b",
            "38cb8e29b21a47e08cc1a9cf2ed7a848",
            "d7b61fa339ce460d96f6ff6b5ba4d621",
            "03edf163fbcb4d9182cb6259f797a4c4",
            "be9f6a7322c447748e6487687e911dfc",
            "abae4522e0934732b7f6f53a3c4b0fcf",
            "7100c372e9294f1197e0ae1b17e5841a",
            "b58cf7f0c3c448ffb826bb054001aae9",
            "bf279b9bd3a74da1bfc6e52e76ceae98",
            "dfe839ded9c14592a39560b4b0938b00",
            "0eedb48e2150484d80e4e1b2b8981afc",
            "ef25cc7839ee45c9be27d82171fadfa3"
          ]
        },
        "outputId": "adbad16f-a458-4569-9002-22b3ae0ee638"
      },
      "source": [
        "from sklearn.preprocessing import StandardScaler\n",
        "from mne.decoding import SlidingEstimator\n",
        "\n",
        "# First, create X and y.\n",
        "epochs_grad = epochs.copy().pick_types(meg='grad')\n",
        "X = epochs_grad.get_data()\n",
        "y = epochs_grad.events[:, 2]\n",
        "\n",
        "# Classifier pipeline. No need for vectorization as in the previous example.\n",
        "clf = make_pipeline(StandardScaler(),\n",
        "                    LogisticRegression())\n",
        "\n",
        "# The \"sliding estimator\" will train the classifier at each time point.\n",
        "scoring = 'roc_auc'\n",
        "time_decoder = SlidingEstimator(clf, scoring=scoring, n_jobs=1, verbose=True)\n",
        "\n",
        "# Run cross-validation.\n",
        "n_splits = 5\n",
        "scores = cross_val_multiscore(time_decoder, X, y, cv=5, n_jobs=1)\n",
        "\n",
        "# Mean scores across cross-validation splits, for each time point.\n",
        "mean_scores = np.mean(scores, axis=0)\n",
        "\n",
        "# Mean score across all time points.\n",
        "mean_across_all_times = round(np.mean(scores), 3)\n",
        "print(f'\\n=> Mean CV score across all time points: {mean_across_all_times:.3f}')"
      ],
      "execution_count": 18,
      "outputs": [
        {
          "output_type": "display_data",
          "data": {
            "application/vnd.jupyter.widget-view+json": {
              "model_id": "125fd723736549d9bee943563c207a29",
              "version_minor": 0,
              "version_major": 2
            },
            "text/plain": [
              "HBox(children=(FloatProgress(value=0.0, description='Fitting SlidingEstimator', max=76.0, style=ProgressStyle(…"
            ]
          },
          "metadata": {
            "tags": []
          }
        },
        {
          "output_type": "stream",
          "text": [
            "\n"
          ],
          "name": "stdout"
        },
        {
          "output_type": "display_data",
          "data": {
            "application/vnd.jupyter.widget-view+json": {
              "model_id": "d3823759bb9d4323b583c752d2832e80",
              "version_minor": 0,
              "version_major": 2
            },
            "text/plain": [
              "HBox(children=(FloatProgress(value=0.0, description='Fitting SlidingEstimator', max=76.0, style=ProgressStyle(…"
            ]
          },
          "metadata": {
            "tags": []
          }
        },
        {
          "output_type": "stream",
          "text": [
            "\n"
          ],
          "name": "stdout"
        },
        {
          "output_type": "display_data",
          "data": {
            "application/vnd.jupyter.widget-view+json": {
              "model_id": "72888cc1b79344c68db92bc8f15ae9d3",
              "version_minor": 0,
              "version_major": 2
            },
            "text/plain": [
              "HBox(children=(FloatProgress(value=0.0, description='Fitting SlidingEstimator', max=76.0, style=ProgressStyle(…"
            ]
          },
          "metadata": {
            "tags": []
          }
        },
        {
          "output_type": "stream",
          "text": [
            "\n"
          ],
          "name": "stdout"
        },
        {
          "output_type": "display_data",
          "data": {
            "application/vnd.jupyter.widget-view+json": {
              "model_id": "c5463bd3e9b5401ea897ea1620d86047",
              "version_minor": 0,
              "version_major": 2
            },
            "text/plain": [
              "HBox(children=(FloatProgress(value=0.0, description='Fitting SlidingEstimator', max=76.0, style=ProgressStyle(…"
            ]
          },
          "metadata": {
            "tags": []
          }
        },
        {
          "output_type": "stream",
          "text": [
            "\n"
          ],
          "name": "stdout"
        },
        {
          "output_type": "display_data",
          "data": {
            "application/vnd.jupyter.widget-view+json": {
              "model_id": "be9f6a7322c447748e6487687e911dfc",
              "version_minor": 0,
              "version_major": 2
            },
            "text/plain": [
              "HBox(children=(FloatProgress(value=0.0, description='Fitting SlidingEstimator', max=76.0, style=ProgressStyle(…"
            ]
          },
          "metadata": {
            "tags": []
          }
        },
        {
          "output_type": "stream",
          "text": [
            "\n",
            "\n",
            "=> Mean CV score across all time points: 0.600\n"
          ],
          "name": "stdout"
        }
      ]
    },
    {
      "cell_type": "markdown",
      "metadata": {
        "id": "N3fM6QZeDUhb",
        "colab_type": "text"
      },
      "source": [
        "### Plot the classification results!"
      ]
    },
    {
      "cell_type": "code",
      "metadata": {
        "id": "CbV-N21TDUhb",
        "colab_type": "code",
        "colab": {
          "base_uri": "https://localhost:8080/",
          "height": 325
        },
        "outputId": "4a6d96a8-7abc-40d2-bb54-f468a3cb6bc6"
      },
      "source": [
        "fig, ax = plt.subplots()\n",
        "\n",
        "ax.plot(epochs.times, mean_scores, label='score')\n",
        "ax.axhline(0.5, color='k', linestyle='--', label='chance')  # AUC = 0.5\n",
        "ax.axvline(0, color='k', linestyle='-')  # Mark time point zero.\n",
        "\n",
        "ax.set_xlabel('Time (s)')\n",
        "ax.set_ylabel('Mean ROC AUC')\n",
        "ax.legend()\n",
        "ax.set_title('Left vs Right')\n",
        "fig.suptitle('Sensor Space Decoding')"
      ],
      "execution_count": 19,
      "outputs": [
        {
          "output_type": "execute_result",
          "data": {
            "text/plain": [
              "Text(0.5, 0.98, 'Sensor Space Decoding')"
            ]
          },
          "metadata": {
            "tags": []
          },
          "execution_count": 19
        },
        {
          "output_type": "display_data",
          "data": {
            "image/png": "[encoded data removed]",
            "text/plain": [
              "<Figure size 432x288 with 1 Axes>"
            ]
          },
          "metadata": {
            "tags": [],
            "needs_background": "light"
          }
        }
      ]
    },
    {
      "cell_type": "markdown",
      "metadata": {
        "id": "NcesBjYgDUhc",
        "colab_type": "text"
      },
      "source": [
        "---------------\n",
        "\n",
        "## Exercise I\n",
        "\n",
        "- In the above example, we only used gradiometer (`grad`) channels. The sample data, however, also contains magnetometer (`mag`) and EEG (`eeg`) channels. Which sensor types produce the best classification scores?\n",
        "\n",
        "- How does classification performance change if you alter the preprocessing parameters (filter cutoff frequencies, rejection parameters during epoching)?\n",
        "\n"
      ]
    },
    {
      "cell_type": "markdown",
      "metadata": {
        "id": "8rPgHDO4DUhc",
        "colab_type": "text"
      },
      "source": [
        "## Exercise II \n",
        "\n",
        "The SPM `face` dataset shipping with MNE-Python contains MEG recordings from one participant who was presented with faces and scrambled faces in randomized order.\n",
        "\n",
        "- Do a decoding over time on the SPM `face` dataset to see if you can classify `face` vs. `scrambled face`.\n",
        "\n",
        "Hints:\n",
        "\n",
        "- Access the `face` dataset via:\n",
        "\n",
        "    ```\n",
        "    sample_dir = Path(mne.datasets.spm_face.data_path())  # Downloads data.\n",
        "    # Use str() here to work around a bug in MNE.\n",
        "    raw_fname = str(sample_dir / 'MEG/spm/SPM_CTF_MEG_example_faces1_3D.ds')\n",
        "    raw = mne.io.read_raw_ctf(raw_fname, preload=True)\n",
        "    ```\n",
        "\n",
        "- The event IDs are:\n",
        "\n",
        "    ```\n",
        "    event_ids = {'faces': 1, 'scrambled': 2}\n",
        "    ```\n",
        "\n",
        "- The trigger channel is `UPPT001`.\n",
        "\n",
        "- Consider creating slightly longer epochs than for the auditory task.\n",
        "\n",
        "- Consider setting an upper frequency limit for the filter which is well below the line noise frequency, e.g. `filter(l_freq=..., h_freq=40)`.\n",
        "\n",
        "See this online example for additional hints: https://mne.tools/dev/auto_examples/datasets/spm_faces_dataset.html\n",
        "\n"
      ]
    },
    {
      "cell_type": "markdown",
      "metadata": {
        "id": "OZT0w4nxDUhd",
        "colab_type": "text"
      },
      "source": [
        "### Example Solution"
      ]
    },
    {
      "cell_type": "code",
      "metadata": {
        "tags": [],
        "id": "tYHQfFrkDUhd",
        "colab_type": "code",
        "colab": {
          "base_uri": "https://localhost:8080/",
          "height": 1000,
          "referenced_widgets": [
            "5f22c717474f4f518770e3e20fed0072",
            "324c772530fd4a2e850d575883229eb1",
            "d16942ef955c459e92b712cae98d974f",
            "e44e973781624b14ba2d0035e68b88b1",
            "235430f5eb5e4b19ab2ecea46efb4bea",
            "5a3c1c81bbef4cf88a827712bb632d50",
            "05bcd4eda08b415fa1d99c3659b176d4",
            "c9a4acc4ee5d422185228d36bba05d51",
            "e1c6182d64f041a8b0daed19ba8b24f2",
            "5320cd300a9c4a5bb13e70adb622ad5f",
            "fe31d7125b8a47d5ba5af36971b4e33c",
            "c17793d14d914a5f949ea12324e756de",
            "2edb31649ae54669800baba5527fdd4d",
            "b709846e35e64b4a8a5289d3660821bc",
            "9a816014b4244399b82a4ed6b5bd62e0",
            "341fd8d340f5416e906afd85b3e9e1c1",
            "88c9c40d07054327a87487abf197e259",
            "a2b194de2ab4442b8dde5c663e349427",
            "6f5dfc60428744ab90edf4b01654f1c7",
            "88b6ffc90f204091b59385d2834c8b1e",
            "b385a70b9abf4a78aae6a463ad6afb9d",
            "12179bd8b9f042029905c0be26d682c7",
            "a208c862b898467898591014cf1986f8",
            "120649f564134de0a12d021aaf59aedc",
            "72fdee8cb3e944569217fc95cc37ff54",
            "54b65a0fae6e4800abf3a0afcb8041d6",
            "07d18992a4124eb78561e984b400fe13",
            "cd4e92e2439d438fbf107afa5d22afff",
            "4d3bf389cf014c80bb51a4ad00cb22c9",
            "95c799169b8e429db66856e1fc58e3b5",
            "f5ac9ad957c543a9b631536fcf30192a",
            "064acfcebf0a48fd9ef47777db90eb77",
            "60465cec886c4bd2b9b55ed02723ee65",
            "6c1fcc0d604640f4b593af382c66faf5",
            "8cd09f616aa04ddc9fca4e52f13f26e6",
            "7a39e948576b4a949067154bdbf29565",
            "79758133bd50443590f5f12eb37fc3e4",
            "9356e59355924992b5e392cefdec0554",
            "3319b5e1acf04ad7b6f613eb0158230e",
            "84a97d9115704ab5a2978d0f1b734ed5",
            "fa3d65cc3f384cad8d931c4f6074771d",
            "fe2cf736d1d14881a6a66fc242d44819",
            "c904cf677e4748baa3822ca2fbb01998",
            "4f04f6a2144e44aa8cffc36c47635753",
            "407a03fe3a464488a965aeca8c7a3402",
            "c848cf05886847548b1971eb0aa4e248",
            "8edea475213b48cab156319a335f62da",
            "8deacdab8cbb462a9fac5356beb3e8cc"
          ]
        },
        "outputId": "23572fbd-c915-4b2c-fb0b-42aa0996b359"
      },
      "source": [
        "from pathlib import Path\n",
        "\n",
        "from sklearn.pipeline import make_pipeline\n",
        "from sklearn.linear_model import LogisticRegression\n",
        "from sklearn.preprocessing import StandardScaler\n",
        "\n",
        "import matplotlib.pyplot as plt\n",
        "import numpy as np\n",
        "\n",
        "import mne\n",
        "from mne.decoding import SlidingEstimator, cross_val_multiscore\n",
        "\n",
        "\n",
        "# Load raw data.\n",
        "data_path = Path(mne.datasets.spm_face.data_path())\n",
        "raw_fname = str(data_path / 'MEG/spm/SPM_CTF_MEG_example_faces1_3D.ds')\n",
        "raw = mne.io.read_raw_ctf(raw_fname, preload=True)\n",
        "\n",
        "# High-pass filter the data.\n",
        "raw.filter(l_freq=1, h_freq=40, verbose=True)\n",
        "\n",
        "# Find events.\n",
        "events = mne.find_events(raw, stim_channel='UPPT001', verbose=True)\n",
        "\n",
        "# Create epochs.\n",
        "event_id = {'faces': 1,\n",
        "            'scrambled': 2}\n",
        "tmin = -0.2  # Start of each epoch relative to the event marker (in seconds)\n",
        "tmax = 0.6   # End of each epoch\n",
        "baseline = None  # No baseline correction, data were high-pass filtered!\n",
        "epochs = mne.Epochs(raw, tmin=tmin, tmax=tmax,\n",
        "                    events=events, event_id=event_id,\n",
        "                    baseline=baseline,\n",
        "                    preload=True)  # Actually load the data into memory.\n",
        "print(epochs)\n",
        "\n",
        "# We don't need to equalize the number of trials, as we have the same number\n",
        "# for each condition.\n",
        "\n",
        "# Create X and y.\n",
        "epochs_grad = epochs.copy().pick_types(meg='grad')\n",
        "X = epochs_grad.get_data()\n",
        "y = epochs_grad.events[:, 2]\n",
        "\n",
        "# Classifier pipeline.\n",
        "clf = make_pipeline(StandardScaler(),\n",
        "                    LogisticRegression())\n",
        "\n",
        "# The \"sliding estimator\" will train the classifier at each time point.\n",
        "scoring = 'roc_auc'\n",
        "time_decoder = SlidingEstimator(clf, scoring=scoring, n_jobs=1, verbose=True)\n",
        "\n",
        "# Run cross-validation.\n",
        "n_splits = 5\n",
        "scores = cross_val_multiscore(time_decoder, X, y, cv=5, n_jobs=1)\n",
        "\n",
        "# Mean scores across cross-validation splits, for each time point.\n",
        "mean_scores = np.mean(scores, axis=0)\n",
        "\n",
        "# Mean score across all time points.\n",
        "mean_across_all_times = round(np.mean(scores), 3)\n",
        "print(f'\\n=> Mean CV score across all time points: {mean_across_all_times:.3f}')\n",
        "\n",
        "# Plot scores.\n",
        "fig, ax = plt.subplots()\n",
        "\n",
        "ax.plot(epochs.times, mean_scores, label='score')\n",
        "ax.axhline(0.5, color='k', linestyle='--', label='chance')  # AUC = 0.5\n",
        "ax.axvline(0, color='k', linestyle='-')  # Mark time point zero.\n",
        "\n",
        "ax.set_xlabel('Time (s)')\n",
        "ax.set_ylabel('Mean ROC AUC')\n",
        "ax.legend()\n",
        "ax.set_title('Faces vs Scrambled Faces')\n",
        "fig.suptitle('Sensor Space Decoding')"
      ],
      "execution_count": 20,
      "outputs": [
        {
          "output_type": "stream",
          "text": [
            "Using default location ~/mne_data for spm...\n",
            "Downloading archive MNE-spm-face.tar.gz to /root/mne_data\n",
            "Downloading https://files.osf.io/v1/resources/rxvq7/providers/osfstorage/59c0e343b83f6902538c4553?version=2&action=download&direct (882.1 MB)\n"
          ],
          "name": "stdout"
        },
        {
          "output_type": "display_data",
          "data": {
            "application/vnd.jupyter.widget-view+json": {
              "model_id": "5f22c717474f4f518770e3e20fed0072",
              "version_minor": 0,
              "version_major": 2
            },
            "text/plain": [
              "HBox(children=(FloatProgress(value=0.0, description='Downloading', max=924932163.0, style=ProgressStyle(descri…"
            ]
          },
          "metadata": {
            "tags": []
          }
        },
        {
          "output_type": "stream",
          "text": [
            "\n",
            "Verifying hash 9f43f67150e3b694b523a21eb929ea75.\n",
            "Decompressing the archive: /root/mne_data/MNE-spm-face.tar.gz\n",
            "(please be patient, this can take some time)\n",
            "Successfully extracted to: ['/root/mne_data/MNE-spm-face']\n",
            "ds directory : /root/mne_data/MNE-spm-face/MEG/spm/SPM_CTF_MEG_example_faces1_3D.ds\n",
            "    res4 data read.\n",
            "    hc data read.\n",
            "    Separate EEG position data file not present.\n",
            "    Quaternion matching (desired vs. transformed):\n",
            "      -0.90   72.01    0.00 mm <->   -0.90   72.01   -0.00 mm (orig :  -43.09   61.46 -252.17 mm) diff =    0.000 mm\n",
            "       0.90  -72.01    0.00 mm <->    0.90  -72.01   -0.00 mm (orig :   53.49  -45.24 -258.02 mm) diff =    0.000 mm\n",
            "      98.30    0.00    0.00 mm <->   98.30   -0.00    0.00 mm (orig :   78.60   72.16 -241.87 mm) diff =    0.000 mm\n",
            "    Coordinate transformations established.\n",
            "    Polhemus data for 3 HPI coils added\n",
            "    Device coordinate locations for 3 HPI coils added\n",
            "    Measurement info composed.\n",
            "Finding samples for /root/mne_data/MNE-spm-face/MEG/spm/SPM_CTF_MEG_example_faces1_3D.ds/SPM_CTF_MEG_example_faces1_3D.meg4: \n",
            "    System clock channel is available, checking which samples are valid.\n",
            "    1 x 324474 = 324474 samples from 340 chs\n",
            "Current compensation grade : 3\n",
            "Reading 0 ... 324473  =      0.000 ...   675.985 secs...\n",
            "Filtering raw data in 1 contiguous segment\n",
            "Setting up band-pass filter from 1 - 40 Hz\n",
            "\n",
            "FIR filter parameters\n",
            "---------------------\n",
            "Designing a one-pass, zero-phase, non-causal bandpass filter:\n",
            "- Windowed time-domain design (firwin) method\n",
            "- Hamming window with 0.0194 passband ripple and 53 dB stopband attenuation\n",
            "- Lower passband edge: 1.00\n",
            "- Lower transition bandwidth: 1.00 Hz (-6 dB cutoff frequency: 0.50 Hz)\n",
            "- Upper passband edge: 40.00 Hz\n",
            "- Upper transition bandwidth: 10.00 Hz (-6 dB cutoff frequency: 45.00 Hz)\n",
            "- Filter length: 1585 samples (3.302 sec)\n",
            "\n",
            "172 events found\n",
            "Event IDs: [1 2 3]\n",
            "168 matching events found\n",
            "No baseline correction applied\n",
            "Not setting metadata\n",
            "0 projection items activated\n",
            "Loading data for 168 events and 385 original time points ...\n",
            "0 bad epochs dropped\n",
            "<Epochs  |   168 events (all good), -0.2 - 0.6 sec, baseline off, ~168.7 MB, data loaded,\n",
            " 'faces': 84\n",
            " 'scrambled': 84>\n"
          ],
          "name": "stdout"
        },
        {
          "output_type": "display_data",
          "data": {
            "application/vnd.jupyter.widget-view+json": {
              "model_id": "e1c6182d64f041a8b0daed19ba8b24f2",
              "version_minor": 0,
              "version_major": 2
            },
            "text/plain": [
              "HBox(children=(FloatProgress(value=0.0, description='Fitting SlidingEstimator', max=385.0, style=ProgressStyle…"
            ]
          },
          "metadata": {
            "tags": []
          }
        },
        {
          "output_type": "stream",
          "text": [
            "\n"
          ],
          "name": "stdout"
        },
        {
          "output_type": "display_data",
          "data": {
            "application/vnd.jupyter.widget-view+json": {
              "model_id": "88c9c40d07054327a87487abf197e259",
              "version_minor": 0,
              "version_major": 2
            },
            "text/plain": [
              "HBox(children=(FloatProgress(value=0.0, description='Fitting SlidingEstimator', max=385.0, style=ProgressStyle…"
            ]
          },
          "metadata": {
            "tags": []
          }
        },
        {
          "output_type": "stream",
          "text": [
            "\n"
          ],
          "name": "stdout"
        },
        {
          "output_type": "display_data",
          "data": {
            "application/vnd.jupyter.widget-view+json": {
              "model_id": "72fdee8cb3e944569217fc95cc37ff54",
              "version_minor": 0,
              "version_major": 2
            },
            "text/plain": [
              "HBox(children=(FloatProgress(value=0.0, description='Fitting SlidingEstimator', max=385.0, style=ProgressStyle…"
            ]
          },
          "metadata": {
            "tags": []
          }
        },
        {
          "output_type": "stream",
          "text": [
            "\n"
          ],
          "name": "stdout"
        },
        {
          "output_type": "display_data",
          "data": {
            "application/vnd.jupyter.widget-view+json": {
              "model_id": "60465cec886c4bd2b9b55ed02723ee65",
              "version_minor": 0,
              "version_major": 2
            },
            "text/plain": [
              "HBox(children=(FloatProgress(value=0.0, description='Fitting SlidingEstimator', max=385.0, style=ProgressStyle…"
            ]
          },
          "metadata": {
            "tags": []
          }
        },
        {
          "output_type": "stream",
          "text": [
            "\n"
          ],
          "name": "stdout"
        },
        {
          "output_type": "display_data",
          "data": {
            "application/vnd.jupyter.widget-view+json": {
              "model_id": "fa3d65cc3f384cad8d931c4f6074771d",
              "version_minor": 0,
              "version_major": 2
            },
            "text/plain": [
              "HBox(children=(FloatProgress(value=0.0, description='Fitting SlidingEstimator', max=385.0, style=ProgressStyle…"
            ]
          },
          "metadata": {
            "tags": []
          }
        },
        {
          "output_type": "stream",
          "text": [
            "\n",
            "\n",
            "=> Mean CV score across all time points: 0.499\n"
          ],
          "name": "stdout"
        },
        {
          "output_type": "execute_result",
          "data": {
            "text/plain": [
              "Text(0.5, 0.98, 'Sensor Space Decoding')"
            ]
          },
          "metadata": {
            "tags": []
          },
          "execution_count": 20
        },
        {
          "output_type": "display_data",
          "data": {
            "image/png": "[encoded data removed]",
            "text/plain": [
              "<Figure size 432x288 with 1 Axes>"
            ]
          },
          "metadata": {
            "tags": [],
            "needs_background": "light"
          }
        }
      ]
    },
    {
      "cell_type": "markdown",
      "metadata": {
        "id": "dZG_O2adDUhe",
        "colab_type": "text"
      },
      "source": [
        "## Bonus Task\n",
        "\n",
        "Temporal generalization or \"generalization over time\" (GAT) is an extension of the \"decoding over time\" approach we used above. It evaluates **whether the model estimated at a particular time instant accurately predicts any other time instant.**\n",
        "\n",
        "Perform a GAT analysis as explained in the [MNE documentation on decoding](https://mne.tools/stable/auto_tutorials/machine-learning/plot_sensors_decoding.html#temporal-generalization).\n"
      ]
    },
    {
      "cell_type": "markdown",
      "metadata": {
        "id": "tOqs8WLmDUhf",
        "colab_type": "text"
      },
      "source": [
        "-------\n",
        "\n",
        "*For more information on decoding, see: https://mne.tools/stable/auto_tutorials/machine-learning/plot_sensors_decoding.html and this book chapter: Jean-Rémi King, Laura Gwilliams, Chris Holdgraf, Jona Sassenhagen, Alexandre Barachant, Denis Engemann, Eric Larson, Alexandre Gramfort. Encoding and Decoding Neuronal Dynamics: Methodological Framework to Uncover the Algorithms of Cognition. 2018. https://hal.archives-ouvertes.fr/hal-01848442/*"
      ]
    }
  ]
}