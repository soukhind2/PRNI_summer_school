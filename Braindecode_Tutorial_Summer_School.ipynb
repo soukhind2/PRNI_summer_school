{
  "nbformat": 4,
  "nbformat_minor": 0,
  "metadata": {
    "accelerator": "GPU",
    "colab": {
      "name": "Braindecode_Tutorial_Summer_School.ipynb",
      "provenance": [],
      "collapsed_sections": [],
      "include_colab_link": true
    },
    "kernelspec": {
      "display_name": "Python 3",
      "language": "python",
      "name": "python3"
    },
    "language_info": {
      "codemirror_mode": {
        "name": "ipython",
        "version": 3
      },
      "file_extension": ".py",
      "mimetype": "text/x-python",
      "name": "python",
      "nbconvert_exporter": "python",
      "pygments_lexer": "ipython3",
      "version": "3.7.5"
    }
  },
  "cells": [
    {
      "cell_type": "markdown",
      "metadata": {
        "id": "view-in-github",
        "colab_type": "text"
      },
      "source": [
        "<a href=\"https://colab.research.google.com/github/soukhind2/PRNI_summer_school/blob/master/Braindecode_Tutorial_Summer_School.ipynb\" target=\"_parent\"><img src=\"https://colab.research.google.com/assets/colab-badge.svg\" alt=\"Open In Colab\"/></a>"
      ]
    },
    {
      "cell_type": "code",
      "metadata": {
        "id": "6cpFJHF0CGYS",
        "colab_type": "code",
        "colab": {}
      },
      "source": [
        "! pip install --upgrade --no-cache https://github.com/braindecode/braindecode/archive/master.zip\n",
        "! git clone https://github.com/NeuroTechX/moabb.git\n",
        "! pip install -r moabb/requirements.txt\n",
        "! pip install moabb/\n",
        "! rm -r moabb/"
      ],
      "execution_count": null,
      "outputs": []
    },
    {
      "cell_type": "code",
      "metadata": {
        "id": "Qr0jAFSi6FoL",
        "colab_type": "code",
        "colab": {
          "base_uri": "https://localhost:8080/",
          "height": 34
        },
        "outputId": "09307bed-4a66-467f-fc4f-8c3ad88e7bfc"
      },
      "source": [
        "1"
      ],
      "execution_count": null,
      "outputs": [
        {
          "output_type": "execute_result",
          "data": {
            "text/plain": [
              "1"
            ]
          },
          "metadata": {
            "tags": []
          },
          "execution_count": 8
        }
      ]
    },
    {
      "cell_type": "markdown",
      "metadata": {
        "colab_type": "text",
        "id": "aG5M-vdEtOWN"
      },
      "source": [
        "# Braindecode Tutorial"
      ]
    },
    {
      "cell_type": "markdown",
      "metadata": {
        "colab_type": "text",
        "id": "J2rk9mU9yNQJ"
      },
      "source": [
        "Main documentation at https://braindecode.org"
      ]
    },
    {
      "cell_type": "markdown",
      "metadata": {
        "colab_type": "text",
        "id": "9Dv4Yd7dtOWS"
      },
      "source": [
        "## Loading and preprocessing the dataset"
      ]
    },
    {
      "cell_type": "markdown",
      "metadata": {
        "colab_type": "text",
        "id": "VZ7Y6B7ctOWa"
      },
      "source": [
        "### Downloading"
      ]
    },
    {
      "cell_type": "markdown",
      "metadata": {
        "colab_type": "text",
        "id": "ki3KN-MRtOWd"
      },
      "source": [
        "First, we load the data. In this tutorial, we first download the BCI Competition IV 2a data using [MOABB](https://github.com/NeuroTechX/moabb).\n",
        "\n",
        "\n",
        "    "
      ]
    },
    {
      "cell_type": "code",
      "metadata": {
        "colab_type": "code",
        "id": "NDkpht8DtOWh",
        "colab": {
          "base_uri": "https://localhost:8080/",
          "height": 89
        },
        "outputId": "54247671-4695-47dd-ca67-b2c2f621f87a"
      },
      "source": [
        "from braindecode.datasets.moabb import MOABBDataset\n",
        "import mne\n",
        "mne.set_log_level('error')\n",
        "\n",
        "subject_id = 3 # a nice subject! :)\n",
        "MOABBDataset(dataset_name=\"BNCI2014001\", subject_ids=[subject_id])"
      ],
      "execution_count": null,
      "outputs": [
        {
          "output_type": "stream",
          "text": [
            "/usr/local/lib/python3.6/dist-packages/moabb/datasets/download.py:53: RuntimeWarning: Setting non-standard config type: \"MNE_DATASETS_BNCI_PATH\"\n",
            "  set_config(key, osp.join(osp.expanduser(\"~\"), \"mne_data\"))\n"
          ],
          "name": "stderr"
        },
        {
          "output_type": "execute_result",
          "data": {
            "text/plain": [
              "<braindecode.datasets.moabb.MOABBDataset at 0x7f01b5127198>"
            ]
          },
          "metadata": {
            "tags": []
          },
          "execution_count": 9
        }
      ]
    },
    {
      "cell_type": "markdown",
      "metadata": {
        "id": "eFuKofFZCGYq",
        "colab_type": "text"
      },
      "source": [
        "### Parsing through MNE into Braindecode"
      ]
    },
    {
      "cell_type": "markdown",
      "metadata": {
        "id": "kmrSvUCkCGYr",
        "colab_type": "text"
      },
      "source": [
        "We could use the returned MOABBDataset directly in braindecode. However, to show you how to get your own data into braindecode, we will explicitly parse the downloaded data into [MNE](https://mne.tools/) objects and then create a Braindecode dataset from them."
      ]
    },
    {
      "cell_type": "code",
      "metadata": {
        "id": "MJxP7MGGCGYr",
        "colab_type": "code",
        "colab": {}
      },
      "source": [
        "from mne.io import RawArray\n",
        "from mne import create_info\n",
        "from mne.channels import make_standard_montage\n",
        "def create_mne_object(run):\n",
        "    # First pack the signal into an mne RawArray, we need:\n",
        "    # 1) signal itself\n",
        "    # 2) channel names\n",
        "    # 3) channel types\n",
        "    # 4) sampling frequency\n",
        "\n",
        "    eeg_data_in_microvolt = run.X\n",
        "    # These are channel names and types as used in BCI Competition IV dataset 2a\n",
        "    ch_names = [\n",
        "        'Fz', 'FC3', 'FC1', 'FCz', 'FC2', 'FC4', 'C5', 'C3', 'C1', 'Cz', 'C2',\n",
        "        'C4', 'C6', 'CP3', 'CP1', 'CPz', 'CP2', 'CP4', 'P1', 'Pz', 'P2', 'POz',\n",
        "        'EOG1', 'EOG2', 'EOG3'\n",
        "    ]\n",
        "    ch_types = ['eeg'] * 22 + ['eog'] * 3\n",
        "    sfreq = run.fs\n",
        "    \n",
        "    # MNE expects volt\n",
        "    eeg_data_in_volt = eeg_data_in_microvolt * 1e-6\n",
        "    # Create information objet for raw array\n",
        "    info = create_info(ch_names=ch_names, ch_types=ch_types, sfreq=sfreq)\n",
        "    # mne expects channels x timesteps for data,\n",
        "    # eeg_data is timesteps x channels, so we transpose it\n",
        "    raw = RawArray(data=eeg_data_in_volt.T, info=info, verbose=False)\n",
        "    \n",
        "    # Second, we can add the trials if our data has trials\n",
        "    # We need:\n",
        "    # 1) onsets of each trial\n",
        "    # 2) duration of each trial\n",
        "    # 3) string-label for each trial\n",
        "    \n",
        "    # trial onsets and durations for this dataset\n",
        "    # trials started 2 seconds after cue\n",
        "    # and ended 6 seconds after cue\n",
        "    onset_after_cue = 2\n",
        "    onsets = ((run.trial-1) / sfreq) + onset_after_cue\n",
        "    # 4 second trials\n",
        "    durations = np.full(onsets.shape, 4)\n",
        "    # Label information for this dataset\n",
        "    event_desc = {1: 'left_hand', 2: 'right_hand', 3: 'feet', 4: 'tongue'}\n",
        "    descriptions = [event_desc[y] for y in run.y]\n",
        "    annots = mne.Annotations(onsets, durations, descriptions)\n",
        "    raw.set_annotations(annots)\n",
        "    \n",
        "    # Optionally we can create the appropriate montage, so data can later be\n",
        "    # visualized\n",
        "    montage = make_standard_montage('standard_1005')\n",
        "    raw.set_montage(montage)\n",
        "    return raw"
      ],
      "execution_count": null,
      "outputs": []
    },
    {
      "cell_type": "code",
      "metadata": {
        "id": "YbFKRInJCGYw",
        "colab_type": "code",
        "colab": {}
      },
      "source": [
        "import os.path\n",
        "import numpy as np\n",
        "from scipy.io import loadmat\n",
        "from braindecode.datasets.base import BaseDataset\n",
        "from braindecode.datasets.base import BaseConcatDataset\n",
        "\n",
        "data_folder = os.path.join(mne.get_config('MNE_DATASETS_BNCI_PATH'), 'MNE-bnci-data/database/data-sets/001-2014/')\n",
        "braindecode_datasets = []\n",
        "for train_or_eval in (\"T\", \"E\"):\n",
        "    # make an mne \n",
        "    filename = os.path.join(data_folder,f'A{subject_id:02d}{train_or_eval}.mat')\n",
        "    data = loadmat(filename, struct_as_record=False, squeeze_me=True)\n",
        "    run_array = data['data']\n",
        "    # skip baselins runs without trials \n",
        "    runs_with_trials = [r for r in run_array if len(r.trial) > 0]\n",
        "    for i_run, run in enumerate(runs_with_trials):\n",
        "        raw = create_mne_object(run)\n",
        "        # now we have an mne object and put it into a braindecode dataset\n",
        "        base_set = BaseDataset(raw, description=dict(\n",
        "            subject=subject_id, session=f'session_{train_or_eval}',\n",
        "                                         run=f'run_{i_run}'))\n",
        "        braindecode_datasets.append(base_set)\n",
        "dataset = BaseConcatDataset(braindecode_datasets)"
      ],
      "execution_count": null,
      "outputs": []
    },
    {
      "cell_type": "code",
      "metadata": {
        "colab_type": "code",
        "id": "ek_mLVTAGrpE",
        "colab": {
          "base_uri": "https://localhost:8080/",
          "height": 425
        },
        "outputId": "3d13d890-ef0f-4750-c8e1-70bc56c76843"
      },
      "source": [
        "dataset.description"
      ],
      "execution_count": null,
      "outputs": [
        {
          "output_type": "execute_result",
          "data": {
            "text/html": [
              "<div>\n",
              "<style scoped>\n",
              "    .dataframe tbody tr th:only-of-type {\n",
              "        vertical-align: middle;\n",
              "    }\n",
              "\n",
              "    .dataframe tbody tr th {\n",
              "        vertical-align: top;\n",
              "    }\n",
              "\n",
              "    .dataframe thead th {\n",
              "        text-align: right;\n",
              "    }\n",
              "</style>\n",
              "<table border=\"1\" class=\"dataframe\">\n",
              "  <thead>\n",
              "    <tr style=\"text-align: right;\">\n",
              "      <th></th>\n",
              "      <th>subject</th>\n",
              "      <th>session</th>\n",
              "      <th>run</th>\n",
              "    </tr>\n",
              "  </thead>\n",
              "  <tbody>\n",
              "    <tr>\n",
              "      <th>0</th>\n",
              "      <td>3</td>\n",
              "      <td>session_T</td>\n",
              "      <td>run_0</td>\n",
              "    </tr>\n",
              "    <tr>\n",
              "      <th>1</th>\n",
              "      <td>3</td>\n",
              "      <td>session_T</td>\n",
              "      <td>run_1</td>\n",
              "    </tr>\n",
              "    <tr>\n",
              "      <th>2</th>\n",
              "      <td>3</td>\n",
              "      <td>session_T</td>\n",
              "      <td>run_2</td>\n",
              "    </tr>\n",
              "    <tr>\n",
              "      <th>3</th>\n",
              "      <td>3</td>\n",
              "      <td>session_T</td>\n",
              "      <td>run_3</td>\n",
              "    </tr>\n",
              "    <tr>\n",
              "      <th>4</th>\n",
              "      <td>3</td>\n",
              "      <td>session_T</td>\n",
              "      <td>run_4</td>\n",
              "    </tr>\n",
              "    <tr>\n",
              "      <th>5</th>\n",
              "      <td>3</td>\n",
              "      <td>session_T</td>\n",
              "      <td>run_5</td>\n",
              "    </tr>\n",
              "    <tr>\n",
              "      <th>6</th>\n",
              "      <td>3</td>\n",
              "      <td>session_E</td>\n",
              "      <td>run_0</td>\n",
              "    </tr>\n",
              "    <tr>\n",
              "      <th>7</th>\n",
              "      <td>3</td>\n",
              "      <td>session_E</td>\n",
              "      <td>run_1</td>\n",
              "    </tr>\n",
              "    <tr>\n",
              "      <th>8</th>\n",
              "      <td>3</td>\n",
              "      <td>session_E</td>\n",
              "      <td>run_2</td>\n",
              "    </tr>\n",
              "    <tr>\n",
              "      <th>9</th>\n",
              "      <td>3</td>\n",
              "      <td>session_E</td>\n",
              "      <td>run_3</td>\n",
              "    </tr>\n",
              "    <tr>\n",
              "      <th>10</th>\n",
              "      <td>3</td>\n",
              "      <td>session_E</td>\n",
              "      <td>run_4</td>\n",
              "    </tr>\n",
              "    <tr>\n",
              "      <th>11</th>\n",
              "      <td>3</td>\n",
              "      <td>session_E</td>\n",
              "      <td>run_5</td>\n",
              "    </tr>\n",
              "  </tbody>\n",
              "</table>\n",
              "</div>"
            ],
            "text/plain": [
              "    subject    session    run\n",
              "0         3  session_T  run_0\n",
              "1         3  session_T  run_1\n",
              "2         3  session_T  run_2\n",
              "3         3  session_T  run_3\n",
              "4         3  session_T  run_4\n",
              "5         3  session_T  run_5\n",
              "6         3  session_E  run_0\n",
              "7         3  session_E  run_1\n",
              "8         3  session_E  run_2\n",
              "9         3  session_E  run_3\n",
              "10        3  session_E  run_4\n",
              "11        3  session_E  run_5"
            ]
          },
          "metadata": {
            "tags": []
          },
          "execution_count": 15
        }
      ]
    },
    {
      "cell_type": "markdown",
      "metadata": {
        "colab_type": "text",
        "id": "URkMMzc6tOW1"
      },
      "source": [
        "### Preprocessing"
      ]
    },
    {
      "cell_type": "markdown",
      "metadata": {
        "colab_type": "text",
        "id": "xnXMrxEttOW3"
      },
      "source": [
        "Now we apply preprocessing like bandpass filtering to our dataset.\n",
        "You can either apply functions provided by [mne.Raw](https://mne.tools/stable/generated/mne.io.Raw.html) or apply your own functions, either to the MNE object or the underlying numpy array.\n",
        "\n",
        "> **Note:** These prepocessings are now directly applied to the loaded data, and not on-the-fly applied as transformations in PyTorch-libraries like [torchvision](https://pytorch.org/docs/stable/torchvision/index.html).\n"
      ]
    },
    {
      "cell_type": "code",
      "metadata": {
        "colab_type": "code",
        "id": "YmHnPWmLtOW5",
        "colab": {}
      },
      "source": [
        "from braindecode.datautil.preprocess import exponential_moving_standardize\n",
        "from braindecode.datautil.preprocess import MNEPreproc, NumpyPreproc, preprocess\n",
        "\n",
        "low_cut_hz = 4.  # low cut frequency for filtering\n",
        "high_cut_hz = 38.  # high cut frequency for filtering\n",
        "# Parameters for exponential moving standardization\n",
        "factor_new = 1e-3\n",
        "init_block_size = 1000\n",
        "\n",
        "preprocessors = [\n",
        "    # keep only EEG sensors\n",
        "    MNEPreproc(fn='pick_types', eeg=True, meg=False, stim=False),\n",
        "    # convert from volt to microvolt, directly modifying the numpy array\n",
        "    NumpyPreproc(fn=lambda x: x * 1e6),\n",
        "    # bandpass filter\n",
        "    MNEPreproc(fn='filter', l_freq=low_cut_hz, h_freq=high_cut_hz),\n",
        "    # exponential moving standardization\n",
        "    NumpyPreproc(fn=exponential_moving_standardize, factor_new=factor_new,\n",
        "        init_block_size=init_block_size)\n",
        "]\n",
        "\n",
        "# Preprocess the data\n",
        "preprocess(dataset, preprocessors)"
      ],
      "execution_count": null,
      "outputs": []
    },
    {
      "cell_type": "markdown",
      "metadata": {
        "colab_type": "text",
        "id": "yKtUAboCtOXF"
      },
      "source": [
        "### Cut Compute Windows"
      ]
    },
    {
      "cell_type": "markdown",
      "metadata": {
        "colab_type": "text",
        "id": "3Rb6lnXPtOXG"
      },
      "source": [
        "Now we cut out compute windows, the inputs for the deep networks during training. In the case of trialwise decoding, we just have to decide if we want to cut out some part before and/or after the trial. For this dataset, in our work, it often was beneficial to also cut out 500 ms before the trial."
      ]
    },
    {
      "cell_type": "code",
      "metadata": {
        "colab_type": "code",
        "id": "YsmLJrSZtOXI",
        "colab": {}
      },
      "source": [
        "import numpy as np\n",
        "from braindecode.datautil.windowers import create_windows_from_events\n",
        "\n",
        "trial_start_offset_seconds = -0.5\n",
        "# Extract sampling frequency, check that they are same in all datasets\n",
        "sfreq = dataset.datasets[0].raw.info['sfreq']\n",
        "assert all([ds.raw.info['sfreq'] == sfreq for ds in dataset.datasets])\n",
        "# Calculate the trial start offset in samples.\n",
        "trial_start_offset_samples = int(trial_start_offset_seconds * sfreq)\n",
        "\n",
        "# Create windows using braindecode function for this. It needs parameters to define how\n",
        "# trials should be used.\n",
        "windows_dataset = create_windows_from_events(\n",
        "    dataset,\n",
        "    trial_start_offset_samples=trial_start_offset_samples,\n",
        "    trial_stop_offset_samples=0,\n",
        "    preload=True,\n",
        ")"
      ],
      "execution_count": null,
      "outputs": []
    },
    {
      "cell_type": "markdown",
      "metadata": {
        "colab_type": "text",
        "id": "rN8QIL2qtOXT"
      },
      "source": [
        "### Split dataset into train and valid"
      ]
    },
    {
      "cell_type": "markdown",
      "metadata": {
        "id": "ttMo7oYrCGZF",
        "colab_type": "text"
      },
      "source": [
        "We can easily split the dataset using additional info stored in the description attribute, in this case `session` column. We select `session_T` for training and `session_E` for final evaluation later."
      ]
    },
    {
      "cell_type": "code",
      "metadata": {
        "id": "mQEmfeFjCGZH",
        "colab_type": "code",
        "colab": {}
      },
      "source": [
        "splitted = windows_dataset.split('session')\n",
        "full_train_set = splitted['session_T']\n",
        "evaluation_set = splitted['session_E']"
      ],
      "execution_count": null,
      "outputs": []
    },
    {
      "cell_type": "markdown",
      "metadata": {
        "id": "wGWHMnPRCGZK",
        "colab_type": "text"
      },
      "source": [
        "Now we split the training part further into training and validation set by run."
      ]
    },
    {
      "cell_type": "code",
      "metadata": {
        "id": "iFHAC_0OCGZL",
        "colab_type": "code",
        "colab": {}
      },
      "source": [
        "# split by run, first 4 runs training, last 2 for validation\n",
        "splitted_train = full_train_set.split([[0,1,2,3], [4,5]])"
      ],
      "execution_count": null,
      "outputs": []
    },
    {
      "cell_type": "code",
      "metadata": {
        "id": "s9nTM4kzCGZP",
        "colab_type": "code",
        "colab": {
          "base_uri": "https://localhost:8080/",
          "height": 52
        },
        "outputId": "81dc939c-9a1a-4a5a-ab60-db0df5ce3252"
      },
      "source": [
        "splitted_train"
      ],
      "execution_count": null,
      "outputs": [
        {
          "output_type": "execute_result",
          "data": {
            "text/plain": [
              "{'0': <braindecode.datasets.base.BaseConcatDataset at 0x7f01542178d0>,\n",
              " '1': <braindecode.datasets.base.BaseConcatDataset at 0x7f0154217128>}"
            ]
          },
          "metadata": {
            "tags": []
          },
          "execution_count": 20
        }
      ]
    },
    {
      "cell_type": "code",
      "metadata": {
        "id": "wSXOsWS0CGZU",
        "colab_type": "code",
        "colab": {}
      },
      "source": [
        "train_set = splitted_train['0']\n",
        "valid_set = splitted_train['1']"
      ],
      "execution_count": null,
      "outputs": []
    },
    {
      "cell_type": "code",
      "metadata": {
        "id": "k0mbMkiCCGZX",
        "colab_type": "code",
        "colab": {
          "base_uri": "https://localhost:8080/",
          "height": 174
        },
        "outputId": "629baf5d-f912-4a29-c43d-7fe3cc50d229"
      },
      "source": [
        "train_set.description"
      ],
      "execution_count": null,
      "outputs": [
        {
          "output_type": "execute_result",
          "data": {
            "text/html": [
              "<div>\n",
              "<style scoped>\n",
              "    .dataframe tbody tr th:only-of-type {\n",
              "        vertical-align: middle;\n",
              "    }\n",
              "\n",
              "    .dataframe tbody tr th {\n",
              "        vertical-align: top;\n",
              "    }\n",
              "\n",
              "    .dataframe thead th {\n",
              "        text-align: right;\n",
              "    }\n",
              "</style>\n",
              "<table border=\"1\" class=\"dataframe\">\n",
              "  <thead>\n",
              "    <tr style=\"text-align: right;\">\n",
              "      <th></th>\n",
              "      <th>subject</th>\n",
              "      <th>session</th>\n",
              "      <th>run</th>\n",
              "    </tr>\n",
              "  </thead>\n",
              "  <tbody>\n",
              "    <tr>\n",
              "      <th>0</th>\n",
              "      <td>3</td>\n",
              "      <td>session_T</td>\n",
              "      <td>run_0</td>\n",
              "    </tr>\n",
              "    <tr>\n",
              "      <th>1</th>\n",
              "      <td>3</td>\n",
              "      <td>session_T</td>\n",
              "      <td>run_1</td>\n",
              "    </tr>\n",
              "    <tr>\n",
              "      <th>2</th>\n",
              "      <td>3</td>\n",
              "      <td>session_T</td>\n",
              "      <td>run_2</td>\n",
              "    </tr>\n",
              "    <tr>\n",
              "      <th>3</th>\n",
              "      <td>3</td>\n",
              "      <td>session_T</td>\n",
              "      <td>run_3</td>\n",
              "    </tr>\n",
              "  </tbody>\n",
              "</table>\n",
              "</div>"
            ],
            "text/plain": [
              "   subject    session    run\n",
              "0        3  session_T  run_0\n",
              "1        3  session_T  run_1\n",
              "2        3  session_T  run_2\n",
              "3        3  session_T  run_3"
            ]
          },
          "metadata": {
            "tags": []
          },
          "execution_count": 22
        }
      ]
    },
    {
      "cell_type": "code",
      "metadata": {
        "id": "vX9G-CDOCGZb",
        "colab_type": "code",
        "colab": {
          "base_uri": "https://localhost:8080/",
          "height": 112
        },
        "outputId": "76fe1649-5ac5-49d5-ec6b-59b15688c34f"
      },
      "source": [
        "valid_set.description"
      ],
      "execution_count": null,
      "outputs": [
        {
          "output_type": "execute_result",
          "data": {
            "text/html": [
              "<div>\n",
              "<style scoped>\n",
              "    .dataframe tbody tr th:only-of-type {\n",
              "        vertical-align: middle;\n",
              "    }\n",
              "\n",
              "    .dataframe tbody tr th {\n",
              "        vertical-align: top;\n",
              "    }\n",
              "\n",
              "    .dataframe thead th {\n",
              "        text-align: right;\n",
              "    }\n",
              "</style>\n",
              "<table border=\"1\" class=\"dataframe\">\n",
              "  <thead>\n",
              "    <tr style=\"text-align: right;\">\n",
              "      <th></th>\n",
              "      <th>subject</th>\n",
              "      <th>session</th>\n",
              "      <th>run</th>\n",
              "    </tr>\n",
              "  </thead>\n",
              "  <tbody>\n",
              "    <tr>\n",
              "      <th>0</th>\n",
              "      <td>3</td>\n",
              "      <td>session_T</td>\n",
              "      <td>run_4</td>\n",
              "    </tr>\n",
              "    <tr>\n",
              "      <th>1</th>\n",
              "      <td>3</td>\n",
              "      <td>session_T</td>\n",
              "      <td>run_5</td>\n",
              "    </tr>\n",
              "  </tbody>\n",
              "</table>\n",
              "</div>"
            ],
            "text/plain": [
              "   subject    session    run\n",
              "0        3  session_T  run_4\n",
              "1        3  session_T  run_5"
            ]
          },
          "metadata": {
            "tags": []
          },
          "execution_count": 23
        }
      ]
    },
    {
      "cell_type": "markdown",
      "metadata": {
        "id": "mhKY_HKnCGZg",
        "colab_type": "text"
      },
      "source": [
        "Inside an element of the windows dataset, we find:\n",
        "1. X - the signal of the window as channels x times\n",
        "2. y - the label of the trial the window was cut out from\n",
        "3. i - indexing information\n",
        "  1. i_window_in_trial - Which window within the trial this window is (in this case, as window size is same as trial size, always 0=the first window)\n",
        "  2. i_start_sample - Which sample in the recording this window starts at\n",
        "  3. i_stop_sample - Which sample in the recording this window stops at"
      ]
    },
    {
      "cell_type": "code",
      "metadata": {
        "id": "UnRSktcdCGZg",
        "colab_type": "code",
        "colab": {}
      },
      "source": [
        "X, y, (i_window_in_trial, i_start_sample, i_stop_sample) =  train_set[0]"
      ],
      "execution_count": null,
      "outputs": []
    },
    {
      "cell_type": "markdown",
      "metadata": {
        "id": "HU5LpGpYCGZk",
        "colab_type": "text"
      },
      "source": [
        "### Plot window"
      ]
    },
    {
      "cell_type": "markdown",
      "metadata": {
        "id": "0iv103H9CGZk",
        "colab_type": "text"
      },
      "source": [
        "Let's have a look inside to see what the window looks like."
      ]
    },
    {
      "cell_type": "code",
      "metadata": {
        "id": "Vvto6rtdCGZl",
        "colab_type": "code",
        "colab": {
          "base_uri": "https://localhost:8080/",
          "height": 376
        },
        "outputId": "4fd82878-6dd8-44e0-d7b4-5474da0d84a3"
      },
      "source": [
        "import matplotlib.pyplot as plt\n",
        "plt.figure(figsize=(8,2))\n",
        "plt.style.use('seaborn')\n",
        "plt.plot(X[0])\n",
        "plt.title(f\"{train_set.datasets[0].windows.ch_names[0]}\", fontsize=15)\n",
        "plt.xlabel(\"Timesteps\")\n",
        "plt.figure(figsize=(8,2))\n",
        "plt.style.use('seaborn')\n",
        "plt.plot(X[10])\n",
        "plt.title(f\"{train_set.datasets[0].windows.ch_names[10]}\", fontsize=15)\n",
        "plt.xlabel(\"Timesteps\")"
      ],
      "execution_count": null,
      "outputs": [
        {
          "output_type": "execute_result",
          "data": {
            "text/plain": [
              "Text(0.5, 0, 'Timesteps')"
            ]
          },
          "metadata": {
            "tags": []
          },
          "execution_count": 26
        },
        {
          "output_type": "display_data",
          "data": {
            "image/png": "[encoded data removed]",
            "text/plain": [
              "<Figure size 576x144 with 1 Axes>"
            ]
          },
          "metadata": {
            "tags": [],
            "needs_background": "light"
          }
        },
        {
          "output_type": "display_data",
          "data": {
            "image/png": "[encoded data removed]",
            "text/plain": [
              "<Figure size 576x144 with 1 Axes>"
            ]
          },
          "metadata": {
            "tags": []
          }
        }
      ]
    },
    {
      "cell_type": "markdown",
      "metadata": {
        "id": "j0HWX_v3CGZp",
        "colab_type": "text"
      },
      "source": [
        "### Exercise: Largest standard deviation window\n",
        "\n",
        "\n",
        "Try to find the validation window with the largest standard deviation and plot the sensors as above. To iterate through the windows you can use:\n",
        "\n",
        "```for X,y,i in valid_set```"
      ]
    },
    {
      "cell_type": "code",
      "metadata": {
        "id": "Qiz7FVANIYfL",
        "colab_type": "code",
        "colab": {
          "base_uri": "https://localhost:8080/",
          "height": 34
        },
        "outputId": "17c8e8d9-3b03-474a-e937-0df1e062c9a8"
      },
      "source": [
        "np.argmax([np.std(X) for X,y,i in valid_set])"
      ],
      "execution_count": null,
      "outputs": [
        {
          "output_type": "execute_result",
          "data": {
            "text/plain": [
              "16"
            ]
          },
          "metadata": {
            "tags": []
          },
          "execution_count": 27
        }
      ]
    },
    {
      "cell_type": "code",
      "metadata": {
        "id": "zEXdVozqJ_Q7",
        "colab_type": "code",
        "colab": {
          "base_uri": "https://localhost:8080/",
          "height": 376
        },
        "outputId": "0364b541-0b63-49f0-cf45-18f1e43146d5"
      },
      "source": [
        "import matplotlib.pyplot as plt\n",
        "X,_,_ = valid_set[16]\n",
        "plt.figure(figsize=(8,2))\n",
        "plt.style.use('seaborn')\n",
        "plt.plot(X[0])\n",
        "plt.title(f\"{valid_set.datasets[0].windows.ch_names[0]}\", fontsize=15)\n",
        "plt.xlabel(\"Timesteps\")\n",
        "plt.figure(figsize=(8,2))\n",
        "plt.style.use('seaborn')\n",
        "plt.plot(X[10])\n",
        "plt.title(f\"{valid_set.datasets[0].windows.ch_names[10]}\", fontsize=15)\n",
        "plt.xlabel(\"Timesteps\")"
      ],
      "execution_count": null,
      "outputs": [
        {
          "output_type": "execute_result",
          "data": {
            "text/plain": [
              "Text(0.5, 0, 'Timesteps')"
            ]
          },
          "metadata": {
            "tags": []
          },
          "execution_count": 28
        },
        {
          "output_type": "display_data",
          "data": {
            "image/png": "[encoded data removed]",
            "text/plain": [
              "<Figure size 576x144 with 1 Axes>"
            ]
          },
          "metadata": {
            "tags": []
          }
        },
        {
          "output_type": "display_data",
          "data": {
            "image/png": "[encoded data removed]",
            "text/plain": [
              "<Figure size 576x144 with 1 Axes>"
            ]
          },
          "metadata": {
            "tags": []
          }
        }
      ]
    },
    {
      "cell_type": "markdown",
      "metadata": {
        "colab_type": "text",
        "id": "DwVAcjv_tOXi"
      },
      "source": [
        "## Create model"
      ]
    },
    {
      "cell_type": "markdown",
      "metadata": {
        "colab_type": "text",
        "id": "UCnRAV9BtOXk"
      },
      "source": [
        "Now we create the deep learning model! Braindecode comes with some predefined convolutional neural network architectures for\n",
        "raw time-domain EEG. Here, we use the shallow ConvNet model from\n",
        "[Deep learning with convolutional neural networks for EEG decoding and visualization](https://arxiv.org/abs/1703.05051).\n",
        "These models are pure [PyTorch](https://pytorch.org) deep learning models, therefore to use your own model, it just has to be a normal PyTorch [nn.Module](https://pytorch.org/docs/stable/nn.html#torch.nn.Module)."
      ]
    },
    {
      "cell_type": "code",
      "metadata": {
        "colab_type": "code",
        "id": "cnczDeYEtOXn",
        "colab": {}
      },
      "source": [
        "import torch\n",
        "from braindecode.util import set_random_seeds\n",
        "from braindecode.models import ShallowFBCSPNet\n",
        "from braindecode.models import Deep4Net\n",
        "\n",
        "cuda = torch.cuda.is_available()  # check if GPU is available, if True chooses to use it\n",
        "device = 'cuda' if cuda else 'cpu'\n",
        "if cuda:\n",
        "    torch.backends.cudnn.benchmark = True\n",
        "seed = 20200220  # random seed to make results reproducible\n",
        "# Set random seed to be able to reproduce results\n",
        "set_random_seeds(seed=seed, cuda=cuda)\n",
        "\n",
        "n_classes=4\n",
        "# Extract number of chans and time steps from dataset\n",
        "n_chans = train_set[0][0].shape[0]\n",
        "input_window_samples = train_set[0][0].shape[1]\n",
        "\n",
        "model = ShallowFBCSPNet(\n",
        "    n_chans,\n",
        "    n_classes,\n",
        "    input_window_samples=input_window_samples,\n",
        "    final_conv_length='auto',\n",
        ")\n",
        "\n",
        "# Send model to GPU\n",
        "if cuda:\n",
        "    model.cuda()\n",
        "    "
      ],
      "execution_count": null,
      "outputs": []
    },
    {
      "cell_type": "markdown",
      "metadata": {
        "colab_type": "text",
        "id": "WYiTkzHvtOXx"
      },
      "source": [
        "## Training"
      ]
    },
    {
      "cell_type": "markdown",
      "metadata": {
        "colab_type": "text",
        "id": "kZ6lYsfAtOXz"
      },
      "source": [
        "Now we train the network! EEGClassifier is a Braindecode object responsible for managing the training of neural networks. It inherits from skorch.NeuralNetClassifier, so the training logic is the same as in [Skorch](https://skorch.readthedocs.io/en/stable/)."
      ]
    },
    {
      "cell_type": "markdown",
      "metadata": {
        "colab_type": "text",
        "id": "d6NL67DttOX0"
      },
      "source": [
        "> **Note**: In this tutorial, we use some default parameters that we have found to work well for\n",
        "motor decoding, however we strongly encourage you to perform your own hyperparameter\n",
        "optimization using cross validation on your training data."
      ]
    },
    {
      "cell_type": "code",
      "metadata": {
        "colab_type": "code",
        "id": "7sF-ACXVtOX1",
        "colab": {
          "base_uri": "https://localhost:8080/",
          "height": 1000
        },
        "outputId": "0cdd17cc-36cf-42da-9f23-24c56d757fdf"
      },
      "source": [
        "from skorch.callbacks import LRScheduler\n",
        "from skorch.helper import predefined_split\n",
        "\n",
        "from braindecode import EEGClassifier\n",
        "\n",
        "# These values we found good for shallow network:\n",
        "lr = 0.0625 * 0.01\n",
        "weight_decay = 0\n",
        "\n",
        "# For deep4 they should be:\n",
        "#lr = 1 * 0.01\n",
        "#weight_decay = 0.5 * 0.001\n",
        "\n",
        "batch_size = 64\n",
        "n_epochs = 40\n",
        "\n",
        "clf = EEGClassifier(\n",
        "    model,\n",
        "    criterion=torch.nn.NLLLoss,\n",
        "    optimizer=torch.optim.AdamW,\n",
        "    train_split=predefined_split(valid_set),  # using valid_set for validation\n",
        "    optimizer__lr=lr,\n",
        "    optimizer__weight_decay=weight_decay,\n",
        "    batch_size=batch_size,\n",
        "    callbacks=[\n",
        "        \"accuracy\", (\"lr_scheduler\", LRScheduler('CosineAnnealingLR', T_max=n_epochs - 1)),\n",
        "    ],\n",
        "    device=device,\n",
        ")\n",
        "# Model training for a specified number of epochs. `y` is None as it is already supplied\n",
        "# in the dataset.\n",
        "clf.fit(train_set, y=None, epochs=n_epochs)"
      ],
      "execution_count": null,
      "outputs": [
        {
          "output_type": "stream",
          "text": [
            "  epoch    train_accuracy    train_loss    valid_accuracy    valid_loss      lr     dur\n",
            "-------  ----------------  ------------  ----------------  ------------  ------  ------\n",
            "      1            \u001b[36m0.2604\u001b[0m        \u001b[32m1.6262\u001b[0m            \u001b[35m0.2396\u001b[0m        \u001b[31m4.5032\u001b[0m  0.0006  0.3594\n"
          ],
          "name": "stdout"
        },
        {
          "output_type": "stream",
          "text": [
            "/usr/local/lib/python3.6/dist-packages/torch/optim/lr_scheduler.py:143: UserWarning: The epoch parameter in `scheduler.step()` was not necessary and is being deprecated where possible. Please use `scheduler.step()` to step the scheduler. During the deprecation, if epoch is different from None, the closed form is used instead of the new chainable form, where available. Please open an issue if you are unable to replicate your use case: https://github.com/pytorch/pytorch/issues/new/choose.\n",
            "  warnings.warn(EPOCH_DEPRECATION_WARNING, UserWarning)\n"
          ],
          "name": "stderr"
        },
        {
          "output_type": "stream",
          "text": [
            "      2            \u001b[36m0.2708\u001b[0m        \u001b[32m1.2591\u001b[0m            0.2396        6.2038  0.0006  0.2963\n",
            "      3            \u001b[36m0.2969\u001b[0m        \u001b[32m1.0516\u001b[0m            0.2292        6.5238  0.0006  0.2878\n",
            "      4            0.2656        \u001b[32m0.9382\u001b[0m            \u001b[35m0.2500\u001b[0m        6.3689  0.0006  0.2881\n",
            "      5            \u001b[36m0.3021\u001b[0m        \u001b[32m0.8714\u001b[0m            0.2500        5.6267  0.0006  0.2849\n",
            "      6            \u001b[36m0.3281\u001b[0m        \u001b[32m0.7395\u001b[0m            0.2396        4.9830  0.0006  0.2819\n",
            "      7            \u001b[36m0.4010\u001b[0m        \u001b[32m0.6829\u001b[0m            0.2292        \u001b[31m4.2310\u001b[0m  0.0006  0.2908\n",
            "      8            \u001b[36m0.4062\u001b[0m        \u001b[32m0.6522\u001b[0m            0.2292        \u001b[31m3.6789\u001b[0m  0.0006  0.2890\n",
            "      9            \u001b[36m0.4271\u001b[0m        \u001b[32m0.5981\u001b[0m            0.2292        \u001b[31m3.1736\u001b[0m  0.0006  0.2845\n",
            "     10            \u001b[36m0.4635\u001b[0m        \u001b[32m0.5755\u001b[0m            0.2500        \u001b[31m2.7151\u001b[0m  0.0005  0.2910\n",
            "     11            \u001b[36m0.5260\u001b[0m        \u001b[32m0.5014\u001b[0m            \u001b[35m0.2708\u001b[0m        \u001b[31m2.3285\u001b[0m  0.0005  0.2884\n",
            "     12            \u001b[36m0.6302\u001b[0m        \u001b[32m0.4591\u001b[0m            \u001b[35m0.3229\u001b[0m        \u001b[31m1.9568\u001b[0m  0.0005  0.2820\n",
            "     13            \u001b[36m0.7344\u001b[0m        0.4808            \u001b[35m0.3542\u001b[0m        \u001b[31m1.7444\u001b[0m  0.0005  0.2906\n",
            "     14            \u001b[36m0.8021\u001b[0m        \u001b[32m0.3974\u001b[0m            \u001b[35m0.4375\u001b[0m        \u001b[31m1.5120\u001b[0m  0.0005  0.2822\n",
            "     15            \u001b[36m0.8698\u001b[0m        \u001b[32m0.3904\u001b[0m            \u001b[35m0.4583\u001b[0m        \u001b[31m1.3486\u001b[0m  0.0004  0.2857\n",
            "     16            \u001b[36m0.9375\u001b[0m        0.4028            0.4583        \u001b[31m1.2357\u001b[0m  0.0004  0.2885\n",
            "     17            \u001b[36m0.9635\u001b[0m        \u001b[32m0.3017\u001b[0m            \u001b[35m0.5208\u001b[0m        \u001b[31m1.1684\u001b[0m  0.0004  0.2869\n",
            "     18            \u001b[36m0.9688\u001b[0m        0.3261            0.5208        \u001b[31m1.1179\u001b[0m  0.0004  0.2817\n",
            "     19            \u001b[36m0.9844\u001b[0m        \u001b[32m0.2718\u001b[0m            \u001b[35m0.5729\u001b[0m        \u001b[31m1.0690\u001b[0m  0.0004  0.2823\n",
            "     20            0.9844        \u001b[32m0.2581\u001b[0m            \u001b[35m0.6042\u001b[0m        \u001b[31m1.0392\u001b[0m  0.0003  0.2868\n",
            "     21            \u001b[36m0.9948\u001b[0m        \u001b[32m0.2228\u001b[0m            0.5729        \u001b[31m1.0320\u001b[0m  0.0003  0.2902\n",
            "     22            0.9948        0.2263            0.5833        1.0376  0.0003  0.2870\n",
            "     23            0.9948        0.2246            0.6042        1.0331  0.0002  0.2844\n",
            "     24            0.9948        \u001b[32m0.2115\u001b[0m            0.5833        1.0373  0.0002  0.2873\n",
            "     25            \u001b[36m1.0000\u001b[0m        0.2342            0.5833        1.0399  0.0002  0.2844\n",
            "     26            1.0000        0.2151            0.5833        1.0389  0.0002  0.2895\n",
            "     27            1.0000        \u001b[32m0.1910\u001b[0m            0.5833        1.0392  0.0002  0.2844\n",
            "     28            1.0000        \u001b[32m0.1808\u001b[0m            0.5938        1.0378  0.0001  0.2906\n",
            "     29            1.0000        0.2037            0.5833        1.0322  0.0001  0.2840\n",
            "     30            1.0000        0.1915            0.5833        \u001b[31m1.0274\u001b[0m  0.0001  0.2854\n",
            "     31            1.0000        0.1890            0.5729        \u001b[31m1.0197\u001b[0m  0.0001  0.2855\n",
            "     32            1.0000        0.1835            0.5729        \u001b[31m1.0157\u001b[0m  0.0001  0.2893\n",
            "     33            1.0000        0.2108            0.5729        \u001b[31m1.0127\u001b[0m  0.0000  0.2882\n",
            "     34            1.0000        \u001b[32m0.1708\u001b[0m            0.5833        \u001b[31m1.0107\u001b[0m  0.0000  0.2880\n",
            "     35            1.0000        \u001b[32m0.1530\u001b[0m            0.5938        \u001b[31m1.0103\u001b[0m  0.0000  0.2813\n",
            "     36            1.0000        0.1863            0.5938        \u001b[31m1.0095\u001b[0m  0.0000  0.2878\n",
            "     37            1.0000        0.1761            0.5938        \u001b[31m1.0093\u001b[0m  0.0000  0.2884\n",
            "     38            1.0000        0.1915            0.5938        \u001b[31m1.0093\u001b[0m  0.0000  0.2865\n",
            "     39            1.0000        \u001b[32m0.1467\u001b[0m            0.5938        \u001b[31m1.0092\u001b[0m  0.0000  0.2850\n",
            "     40            1.0000        0.1592            0.5938        \u001b[31m1.0087\u001b[0m  0.0000  0.2872\n"
          ],
          "name": "stdout"
        },
        {
          "output_type": "execute_result",
          "data": {
            "text/plain": [
              "<class 'braindecode.classifier.EEGClassifier'>[initialized](\n",
              "  module_=ShallowFBCSPNet(\n",
              "    (ensuredims): Ensure4d()\n",
              "    (dimshuffle): Expression(expression=transpose_time_to_spat) \n",
              "    (conv_time): Conv2d(1, 40, kernel_size=(25, 1), stride=(1, 1))\n",
              "    (conv_spat): Conv2d(40, 40, kernel_size=(1, 22), stride=(1, 1), bias=False)\n",
              "    (bnorm): BatchNorm2d(40, eps=1e-05, momentum=0.1, affine=True, track_running_stats=True)\n",
              "    (conv_nonlin_exp): Expression(expression=square) \n",
              "    (pool): AvgPool2d(kernel_size=(75, 1), stride=(15, 1), padding=0)\n",
              "    (pool_nonlin_exp): Expression(expression=safe_log) \n",
              "    (drop): Dropout(p=0.5, inplace=False)\n",
              "    (conv_classifier): Conv2d(40, 4, kernel_size=(69, 1), stride=(1, 1))\n",
              "    (softmax): LogSoftmax(dim=1)\n",
              "    (squeeze): Expression(expression=squeeze_final_output) \n",
              "  ),\n",
              ")"
            ]
          },
          "metadata": {
            "tags": []
          },
          "execution_count": 38
        }
      ]
    },
    {
      "cell_type": "markdown",
      "metadata": {
        "id": "TsZ1CG7oCGZ1",
        "colab_type": "text"
      },
      "source": [
        "We can recompute the mean accuracy on the validation set just to make sure:\n"
      ]
    },
    {
      "cell_type": "code",
      "metadata": {
        "id": "7BUt4UaxCGZ1",
        "colab_type": "code",
        "colab": {
          "base_uri": "https://localhost:8080/",
          "height": 34
        },
        "outputId": "8277eed1-33b8-419f-af75-194d4a2e160e"
      },
      "source": [
        "np.mean(clf.predict(valid_set) == [y for X,y,i in valid_set])"
      ],
      "execution_count": null,
      "outputs": [
        {
          "output_type": "execute_result",
          "data": {
            "text/plain": [
              "0.59375"
            ]
          },
          "metadata": {
            "tags": []
          },
          "execution_count": 39
        }
      ]
    },
    {
      "cell_type": "markdown",
      "metadata": {
        "id": "6fDBOnGFCGZ5",
        "colab_type": "text"
      },
      "source": [
        "### Exercise: Compute per-class accuracies"
      ]
    },
    {
      "cell_type": "code",
      "metadata": {
        "id": "WJgSvwZkCGZ6",
        "colab_type": "code",
        "colab": {
          "base_uri": "https://localhost:8080/",
          "height": 86
        },
        "outputId": "de0c1b2a-b100-4e21-8d8c-d837deb0dbc2"
      },
      "source": [
        "preds = clf.predict(valid_set)\n",
        "for i_class in range(4):\n",
        "    trial_mask = np.array([y == i_class for X,y,i in valid_set])\n",
        "    acc = np.mean(preds[trial_mask] == i_class)\n",
        "    print(acc)"
      ],
      "execution_count": null,
      "outputs": [
        {
          "output_type": "stream",
          "text": [
            "0.4583333333333333\n",
            "0.5416666666666666\n",
            "0.8333333333333334\n",
            "0.5416666666666666\n"
          ],
          "name": "stdout"
        }
      ]
    },
    {
      "cell_type": "markdown",
      "metadata": {
        "id": "Evoz77VUCGZ8",
        "colab_type": "text"
      },
      "source": [
        "### Exercise: Use Deep4Net\n",
        "Try to use the Deep4Net instead of the ShallowFBCSPNet. \n",
        "`from braindecode.models import Deep4Net`\n",
        "\n",
        "You can also try to change any hyperparameters:\n",
        "\n",
        "```\n",
        "Deep4Net(\n",
        "    in_chans,\n",
        "    n_classes,\n",
        "    input_window_samples,\n",
        "    final_conv_length,\n",
        "    n_filters_time=25,\n",
        "    n_filters_spat=25,\n",
        "    filter_time_length=10,\n",
        "    pool_time_length=3,\n",
        "    pool_time_stride=3,\n",
        "    n_filters_2=50,\n",
        "    filter_length_2=10,\n",
        "    n_filters_3=100,\n",
        "    filter_length_3=10,\n",
        "    n_filters_4=200,\n",
        "    filter_length_4=10,\n",
        "    first_nonlin=<function elu at 0x7f608d347cb0>,\n",
        "    first_pool_mode='max',\n",
        "    first_pool_nonlin=<function identity at 0x7f60d36ffa70>,\n",
        "    later_nonlin=<function elu at 0x7f608d347cb0>,\n",
        "    later_pool_mode='max',\n",
        "    later_pool_nonlin=<function identity at 0x7f60d36ffa70>,\n",
        "    drop_prob=0.5,\n",
        "    double_time_convs=False,\n",
        "    split_first_layer=True,\n",
        "    batch_norm=True,\n",
        "    batch_norm_alpha=0.1,\n",
        "    stride_before_pool=False,\n",
        ")\n",
        "```"
      ]
    },
    {
      "cell_type": "code",
      "metadata": {
        "id": "6GFRTHXtCGZ-",
        "colab_type": "code",
        "colab": {}
      },
      "source": [
        ""
      ],
      "execution_count": null,
      "outputs": []
    },
    {
      "cell_type": "markdown",
      "metadata": {
        "colab_type": "text",
        "id": "f0RB8R2gtOYA"
      },
      "source": [
        "## Plot Results"
      ]
    },
    {
      "cell_type": "markdown",
      "metadata": {
        "colab_type": "text",
        "id": "1Uax9K6ZtOYB"
      },
      "source": [
        "Now we use the history stored by Skorch throughout training to plot accuracy and loss curves."
      ]
    },
    {
      "cell_type": "code",
      "metadata": {
        "colab_type": "code",
        "id": "TLEB7jiwtOYD",
        "colab": {
          "base_uri": "https://localhost:8080/",
          "height": 227
        },
        "outputId": "d911ae2a-7e5e-4b57-9453-2d0a6f6a2d84"
      },
      "source": [
        "import matplotlib.pyplot as plt\n",
        "from matplotlib.lines import Line2D\n",
        "import pandas as pd\n",
        "# Extract loss and accuracy values for plotting from history object\n",
        "results_columns = ['train_loss', 'valid_loss', 'train_accuracy', 'valid_accuracy']\n",
        "df = pd.DataFrame(clf.history[:, results_columns], columns=results_columns,\n",
        "                  index=clf.history[:, 'epoch'])\n",
        "\n",
        "# get percent of misclass for better visual comparison to loss\n",
        "df = df.assign(train_misclass=100 - 100 * df.train_accuracy,\n",
        "               valid_misclass=100 - 100 * df.valid_accuracy)\n",
        "\n",
        "plt.style.use('seaborn')\n",
        "fig, ax1 = plt.subplots(figsize=(8, 3))\n",
        "df.loc[:, ['train_loss', 'valid_loss']].plot(\n",
        "    ax=ax1, style=['-', ':'], marker='o', color='tab:blue', legend=False, fontsize=14)\n",
        "\n",
        "ax1.tick_params(axis='y', labelcolor='tab:blue', labelsize=14)\n",
        "ax1.set_ylabel(\"Loss\", color='tab:blue', fontsize=14)\n",
        "\n",
        "ax2 = ax1.twinx()  # instantiate a second axes that shares the same x-axis\n",
        "\n",
        "df.loc[:, ['train_misclass', 'valid_misclass']].plot(\n",
        "    ax=ax2, style=['-', ':'], marker='o', color='tab:red', legend=False)\n",
        "ax2.tick_params(axis='y', labelcolor='tab:red', labelsize=14)\n",
        "ax2.set_ylabel(\"Misclassification Rate [%]\", color='tab:red', fontsize=14)\n",
        "ax2.set_ylim(ax2.get_ylim()[0], 85)  # make some room for legend\n",
        "ax1.set_xlabel(\"Epoch\", fontsize=14)\n",
        "\n",
        "# where some data has already been plotted to ax\n",
        "handles = []\n",
        "handles.append(Line2D([0], [0], color='black', linewidth=1, linestyle='-', label='Train'))\n",
        "handles.append(Line2D([0], [0], color='black', linewidth=1, linestyle=':', label='Valid'))\n",
        "plt.legend(handles, [h.get_label() for h in handles], fontsize=14)\n",
        "plt.tight_layout()"
      ],
      "execution_count": null,
      "outputs": [
        {
          "output_type": "display_data",
          "data": {
            "image/png": "[encoded data removed]",
            "text/plain": [
              "<Figure size 576x216 with 2 Axes>"
            ]
          },
          "metadata": {
            "tags": []
          }
        }
      ]
    },
    {
      "cell_type": "markdown",
      "metadata": {
        "colab_type": "text",
        "id": "AxOUHXRStOYM"
      },
      "source": [
        "## Visualization with Amplitude Gradients"
      ]
    },
    {
      "cell_type": "markdown",
      "metadata": {
        "colab_type": "text",
        "id": "hsY46WcwtOYP"
      },
      "source": [
        "We now can try to understand the network a little bit better by computing gradients of the network class predictions on the per-frequency amplitudes of the input."
      ]
    },
    {
      "cell_type": "code",
      "metadata": {
        "colab_type": "code",
        "id": "HQIndQWitOYS",
        "colab": {
          "base_uri": "https://localhost:8080/",
          "height": 236
        },
        "outputId": "a242fe3b-87ef-4466-dba3-99ad8f404a96"
      },
      "source": [
        "from braindecode.visualization.gradients import compute_amplitude_gradients\n",
        "\n",
        "amp_grads_per_filter = compute_amplitude_gradients(model, train_set, batch_size=64)\n",
        "\n",
        "plt.figure(figsize=(12,3))\n",
        "plt.plot(np.fft.rfftfreq(train_set[0][0].shape[1], 1/250.0), np.mean(np.abs(amp_grads_per_filter), axis=(0, 1,2)));\n",
        "plt.xlabel('Frequency [Hz]')\n",
        "plt.ylabel('Mean Absolute Gradient');"
      ],
      "execution_count": null,
      "outputs": [
        {
          "output_type": "display_data",
          "data": {
            "image/png": "[encoded data removed]",
            "text/plain": [
              "<Figure size 864x216 with 1 Axes>"
            ]
          },
          "metadata": {
            "tags": []
          }
        }
      ]
    },
    {
      "cell_type": "markdown",
      "metadata": {
        "colab_type": "text",
        "id": "z7SHxkI5tOYc"
      },
      "source": [
        "We can investigate the alpha band a bit more deeply."
      ]
    },
    {
      "cell_type": "code",
      "metadata": {
        "colab_type": "code",
        "id": "xFrU2RqYtOYe",
        "colab": {
          "base_uri": "https://localhost:8080/",
          "height": 205
        },
        "outputId": "5b8a1dea-b57c-4cdc-a08f-85df4fb217b5"
      },
      "source": [
        "sfreq = train_set.datasets[0].windows.info['sfreq']\n",
        "freqs = np.fft.rfftfreq(train_set[0][0].shape[1], d=1.0/sfreq)\n",
        "start_freq = 7\n",
        "stop_freq = 14\n",
        "i_start = np.searchsorted(freqs,start_freq)\n",
        "i_stop = np.searchsorted(freqs, stop_freq) + 1\n",
        "\n",
        "\n",
        "freq_corr = np.mean(np.mean(amp_grads_per_filter, axis=1)[:,:,i_start:i_stop], axis=2)\n",
        "\n",
        "import matplotlib.pyplot as plt\n",
        "from matplotlib import cm\n",
        "%matplotlib inline\n",
        "max_abs_val = np.max(np.abs(freq_corr))\n",
        "\n",
        "class_to_id = windows_dataset.datasets[0].windows.event_id\n",
        "\n",
        "fig, axes = plt.subplots(1, len(class_to_id), figsize=(14,4))\n",
        "for class_name, i_class in class_to_id.items():\n",
        "    ax = axes[i_class]\n",
        "    mne.viz.plot_topomap(freq_corr[i_class], train_set.datasets[0].windows.info,\n",
        "             vmin=-max_abs_val, vmax=max_abs_val, contours=0,\n",
        "            cmap=cm.coolwarm, show=False, extrapolate='local',\n",
        "                        axes=ax);\n",
        "    ax.set_title(class_name.replace('_', ' '))"
      ],
      "execution_count": null,
      "outputs": [
        {
          "output_type": "display_data",
          "data": {
            "image/png": "[encoded data removed]",
            "text/plain": [
              "<Figure size 1008x288 with 4 Axes>"
            ]
          },
          "metadata": {
            "tags": []
          }
        }
      ]
    },
    {
      "cell_type": "markdown",
      "metadata": {
        "id": "1svt_vSlCGaO",
        "colab_type": "text"
      },
      "source": [
        "### Exercise: Visualize Another Frequency Range"
      ]
    },
    {
      "cell_type": "code",
      "metadata": {
        "id": "zNEoUlKSCGaO",
        "colab_type": "code",
        "colab": {}
      },
      "source": [
        ""
      ],
      "execution_count": null,
      "outputs": []
    },
    {
      "cell_type": "markdown",
      "metadata": {
        "colab_type": "text",
        "id": "_hGNH7gqtOYo"
      },
      "source": [
        "## Cropped Decoding"
      ]
    },
    {
      "cell_type": "markdown",
      "metadata": {
        "colab_type": "text",
        "id": "Ldgq451HtOYt"
      },
      "source": [
        "Now, we do more data-efficient cropped decoding!"
      ]
    },
    {
      "cell_type": "markdown",
      "metadata": {
        "colab_type": "text",
        "id": "ejqWTEL_tOYu"
      },
      "source": [
        "In Braindecode, there are two supported configurations created for training models: trialwise decoding and cropped\n",
        "decoding. We will explain this visually by comparing trialwise to cropped decoding.\n",
        "\n",
        "![](https://braindecode.org/_images/trialwise_explanation.png)\n",
        "![](https://braindecode.org/_images/cropped_explanation.png)\n",
        "\n",
        "\n",
        "On the left, you see trialwise decoding:\n",
        "\n",
        "1. A complete trial is pushed through the network.\n",
        "2. The network produces a prediction.\n",
        "3. The prediction is compared to the target (label) for that trial to compute the loss.\n",
        "\n",
        "On the right, you see cropped decoding:\n",
        "\n",
        "1. Instead of a complete trial, crops are pushed through the network.\n",
        "2. For computational efficiency, multiple neighbouring crops are pushed through the network simultaneously (these\n",
        "   neighbouring crops are called compute windows)\n",
        "3. Therefore, the network produces multiple predictions (one per crop in the window)\n",
        "4. The individual crop predictions are averaged before computing the loss function"
      ]
    },
    {
      "cell_type": "markdown",
      "metadata": {
        "colab_type": "text",
        "id": "Rxdv3V-0tOYu"
      },
      "source": [
        "## Create model and compute windowing parameters"
      ]
    },
    {
      "cell_type": "markdown",
      "metadata": {
        "colab_type": "text",
        "id": "daA_L0AvtOYw"
      },
      "source": [
        "We will use the deep4 model this time!"
      ]
    },
    {
      "cell_type": "markdown",
      "metadata": {
        "colab_type": "text",
        "id": "06H2xx3JtOYx"
      },
      "source": [
        "In contrast to trialwise computing, we first have to create the model before we can cut the dataset into windows. This is because we need to know the receptive field of the network to know how large the window stride should be."
      ]
    },
    {
      "cell_type": "markdown",
      "metadata": {
        "colab_type": "text",
        "id": "v1UQ_wqytOYz"
      },
      "source": [
        "We first choose the compute/input window size\n",
        "that will be fed to the network during training\n",
        "This has to be larger than the networks receptive field size\n",
        "and can otherwise be chosen for computational efficiency (see explanations in the beginning of this tutorial). Here we choose 1000 samples, which are 4 seconds."
      ]
    },
    {
      "cell_type": "code",
      "metadata": {
        "colab_type": "code",
        "id": "Rdvn57hetOY1",
        "colab": {}
      },
      "source": [
        "input_window_samples = 1000"
      ],
      "execution_count": null,
      "outputs": []
    },
    {
      "cell_type": "markdown",
      "metadata": {
        "colab_type": "text",
        "id": "6HupeOFRtOY-"
      },
      "source": [
        "Now we create the model. To enable it to be used in cropped decoding efficiently, we manually set the length of the final convolution layer to some length that makes the receptive field of the ConvNet smaller than `input_window_samples` (see `final_conv_length=30` in the model definition)."
      ]
    },
    {
      "cell_type": "code",
      "metadata": {
        "colab_type": "code",
        "id": "v4cHGz1FtOZA",
        "colab": {}
      },
      "source": [
        "import torch\n",
        "from braindecode.util import set_random_seeds\n",
        "from braindecode.models import Deep4Net\n",
        "\n",
        "\n",
        "cuda = torch.cuda.is_available()  # check if GPU is available, if True chooses to use it\n",
        "device = 'cuda' if cuda else 'cpu'\n",
        "if cuda:\n",
        "    torch.backends.cudnn.benchmark = True\n",
        "seed = 20200220  # random seed to make results reproducible\n",
        "# Set random seed to be able to reproduce results\n",
        "set_random_seeds(seed=seed, cuda=cuda)\n",
        "\n",
        "n_classes=4\n",
        "# Extract number of chans from dataset\n",
        "n_chans = dataset[0][0].shape[0]\n",
        "\n",
        "model = Deep4Net(\n",
        "    n_chans,\n",
        "    n_classes,\n",
        "    input_window_samples=input_window_samples,\n",
        "    final_conv_length=2,\n",
        ")\n",
        "\n",
        "# Send model to GPU\n",
        "if cuda:\n",
        "    model.cuda()\n",
        "    "
      ],
      "execution_count": null,
      "outputs": []
    },
    {
      "cell_type": "markdown",
      "metadata": {
        "colab_type": "text",
        "id": "rxRUr2d9tOZJ"
      },
      "source": [
        "And now we transform model with strides to a model that outputs dense prediction, so we can use it to obtain properly predictions for all crops."
      ]
    },
    {
      "cell_type": "code",
      "metadata": {
        "colab_type": "code",
        "id": "hfZHj0KFtOZK",
        "colab": {}
      },
      "source": [
        "from braindecode.models.util import to_dense_prediction_model, get_output_shape\n",
        "to_dense_prediction_model(model)"
      ],
      "execution_count": null,
      "outputs": []
    },
    {
      "cell_type": "markdown",
      "metadata": {
        "colab_type": "text",
        "id": "8RTB6USXtOZS"
      },
      "source": [
        "To know the models' receptive field, we calculate the shape of model output for a dummy input."
      ]
    },
    {
      "cell_type": "code",
      "metadata": {
        "colab_type": "code",
        "id": "F7_hh4EdtOZT",
        "colab": {}
      },
      "source": [
        "n_preds_per_input = get_output_shape(model, n_chans, input_window_samples)[2]"
      ],
      "execution_count": null,
      "outputs": []
    },
    {
      "cell_type": "markdown",
      "metadata": {
        "colab_type": "text",
        "id": "taG2nOiwtOZZ"
      },
      "source": [
        "## Cut the data into windows"
      ]
    },
    {
      "cell_type": "markdown",
      "metadata": {
        "colab_type": "text",
        "id": "XmIH-AAVtOZb"
      },
      "source": [
        "Now we have to supply an explicit window size and window stride to the `create_windows_from_events` function."
      ]
    },
    {
      "cell_type": "code",
      "metadata": {
        "colab_type": "code",
        "id": "HuWf6X0qtOZb",
        "colab": {}
      },
      "source": [
        "import numpy as np\n",
        "from braindecode.datautil.windowers import create_windows_from_events\n",
        "\n",
        "trial_start_offset_seconds = -0.5\n",
        "# Extract sampling frequency, check that they are same in all datasets\n",
        "sfreq = dataset.datasets[0].raw.info['sfreq']\n",
        "assert all([ds.raw.info['sfreq'] == sfreq for ds in dataset.datasets])\n",
        "\n",
        "# Calculate the trial start offset in samples.\n",
        "trial_start_offset_samples = int(trial_start_offset_seconds * sfreq)\n",
        "\n",
        "# Create windows using braindecode function for this. It needs parameters to define how\n",
        "# trials should be used.\n",
        "windows_dataset = create_windows_from_events(\n",
        "    dataset,\n",
        "    trial_start_offset_samples=trial_start_offset_samples,\n",
        "    trial_stop_offset_samples=0,\n",
        "    window_size_samples=input_window_samples,\n",
        "    window_stride_samples=n_preds_per_input,\n",
        "    drop_last_window=False,\n",
        "    preload=True,\n",
        ")"
      ],
      "execution_count": null,
      "outputs": []
    },
    {
      "cell_type": "markdown",
      "metadata": {
        "colab_type": "text",
        "id": "EGGWdfYrtOZj"
      },
      "source": [
        "## Split the dataset\n",
        "\n",
        "This code is the same as in trialwise decoding."
      ]
    },
    {
      "cell_type": "code",
      "metadata": {
        "colab_type": "code",
        "id": "Me83sPcUtOZk",
        "colab": {}
      },
      "source": [
        "splitted = windows_dataset.split('session')\n",
        "full_train_set = splitted['session_T']\n",
        "evaluation_set = splitted['session_E']\n",
        "splitted_train = full_train_set.split([[0,1,2,3], [4,5]])\n",
        "train_set = splitted_train['0']\n",
        "valid_set = splitted_train['1']"
      ],
      "execution_count": null,
      "outputs": []
    },
    {
      "cell_type": "markdown",
      "metadata": {
        "colab_type": "text",
        "id": "_y02Me8ZtOZp"
      },
      "source": [
        "## Training"
      ]
    },
    {
      "cell_type": "markdown",
      "metadata": {
        "colab_type": "text",
        "id": "SOlA6zAGtOZq"
      },
      "source": [
        "In difference to trialwise decoding, we now should supply `cropped=True` to the EEGClassifier, and `CroppedLoss` as the criterion, as well as `criterion__loss_function` as the loss function applied to the meaned predictions."
      ]
    },
    {
      "cell_type": "markdown",
      "metadata": {
        "colab_type": "text",
        "id": "C8yURxC4tOZr"
      },
      "source": [
        "> **Note**: In this tutorial, we use some default parameters that we have found to work well for\n",
        "motor decoding, however we strongly encourage you to perform your own hyperparameter\n",
        "optimization using cross validation on your training data."
      ]
    },
    {
      "cell_type": "code",
      "metadata": {
        "colab_type": "code",
        "id": "xBsI0slKtOZt",
        "colab": {
          "base_uri": "https://localhost:8080/",
          "height": 1000
        },
        "outputId": "89c5b90f-d9f1-4cf6-b1f8-7877b98003bc"
      },
      "source": [
        "from skorch.callbacks import LRScheduler\n",
        "from skorch.helper import predefined_split\n",
        "\n",
        "from braindecode import EEGClassifier\n",
        "from braindecode.training.losses import CroppedLoss\n",
        "\n",
        "# These values we found good for shallow network:\n",
        "\n",
        "# For deep4 they should be:\n",
        "lr = 1 * 0.01\n",
        "weight_decay = 0.5 * 0.001\n",
        "\n",
        "batch_size = 64\n",
        "n_epochs = 40\n",
        "\n",
        "clf = EEGClassifier(\n",
        "    model,\n",
        "    cropped=True,\n",
        "    criterion=CroppedLoss,\n",
        "    criterion__loss_function=torch.nn.functional.nll_loss,\n",
        "    optimizer=torch.optim.AdamW,\n",
        "    train_split=predefined_split(valid_set),\n",
        "    optimizer__lr=lr,\n",
        "    optimizer__weight_decay=weight_decay,\n",
        "    iterator_train__shuffle=True,\n",
        "    batch_size=batch_size,\n",
        "    callbacks=[\n",
        "        \"accuracy\", (\"lr_scheduler\", LRScheduler('CosineAnnealingLR', T_max=n_epochs - 1)),\n",
        "    ],\n",
        "    device=device,\n",
        ")\n",
        "# Model training for a specified number of epochs. `y` is None as it is already supplied\n",
        "# in the dataset.\n",
        "clf.fit(train_set, y=None, epochs=n_epochs)"
      ],
      "execution_count": null,
      "outputs": [
        {
          "output_type": "stream",
          "text": [
            "  epoch    train_accuracy    train_loss    valid_accuracy    valid_loss      lr     dur\n",
            "-------  ----------------  ------------  ----------------  ------------  ------  ------\n",
            "      1            \u001b[36m0.2500\u001b[0m        \u001b[32m3.8334\u001b[0m            \u001b[35m0.2500\u001b[0m      \u001b[31m110.3205\u001b[0m  0.0100  2.6241\n"
          ],
          "name": "stdout"
        },
        {
          "output_type": "stream",
          "text": [
            "/usr/local/lib/python3.6/dist-packages/torch/optim/lr_scheduler.py:143: UserWarning: The epoch parameter in `scheduler.step()` was not necessary and is being deprecated where possible. Please use `scheduler.step()` to step the scheduler. During the deprecation, if epoch is different from None, the closed form is used instead of the new chainable form, where available. Please open an issue if you are unable to replicate your use case: https://github.com/pytorch/pytorch/issues/new/choose.\n",
            "  warnings.warn(EPOCH_DEPRECATION_WARNING, UserWarning)\n"
          ],
          "name": "stderr"
        },
        {
          "output_type": "stream",
          "text": [
            "      2            \u001b[36m0.2604\u001b[0m        \u001b[32m1.6733\u001b[0m            0.2500       \u001b[31m12.6151\u001b[0m  0.0100  0.9508\n",
            "      3            0.2031        \u001b[32m1.3768\u001b[0m            0.1562        \u001b[31m5.3764\u001b[0m  0.0099  0.9538\n",
            "      4            \u001b[36m0.2812\u001b[0m        \u001b[32m1.2520\u001b[0m            0.2500        \u001b[31m4.2427\u001b[0m  0.0099  0.9607\n",
            "      5            \u001b[36m0.3333\u001b[0m        \u001b[32m1.1984\u001b[0m            \u001b[35m0.3125\u001b[0m        \u001b[31m1.7937\u001b[0m  0.0097  0.9591\n",
            "      6            \u001b[36m0.5417\u001b[0m        \u001b[32m1.1738\u001b[0m            \u001b[35m0.5521\u001b[0m        \u001b[31m1.3863\u001b[0m  0.0096  0.9521\n",
            "      7            \u001b[36m0.6146\u001b[0m        \u001b[32m1.1432\u001b[0m            0.5417        \u001b[31m1.2506\u001b[0m  0.0094  0.9550\n",
            "      8            0.5156        \u001b[32m1.0699\u001b[0m            0.4583        1.2808  0.0092  0.9617\n",
            "      9            \u001b[36m0.6198\u001b[0m        \u001b[32m1.0659\u001b[0m            0.5312        1.2586  0.0090  0.9531\n",
            "     10            0.5573        \u001b[32m1.0595\u001b[0m            0.3750        1.3888  0.0087  0.9584\n",
            "     11            0.5677        \u001b[32m0.9945\u001b[0m            0.4271        1.3653  0.0085  0.9518\n",
            "     12            0.5573        \u001b[32m0.9889\u001b[0m            0.3854        1.3951  0.0082  0.9561\n",
            "     13            0.5521        \u001b[32m0.9518\u001b[0m            0.4271        1.3900  0.0078  0.9599\n",
            "     14            0.5677        \u001b[32m0.9145\u001b[0m            0.4167        1.4788  0.0075  0.9586\n",
            "     15            0.5000        0.9442            0.4271        1.4972  0.0071  0.9564\n",
            "     16            0.5938        0.9550            0.5104        1.5007  0.0068  0.9621\n",
            "     17            0.5938        \u001b[32m0.8753\u001b[0m            0.4792        1.3442  0.0064  0.9580\n",
            "     18            \u001b[36m0.6771\u001b[0m        \u001b[32m0.8458\u001b[0m            0.5208        1.2788  0.0060  0.9598\n",
            "     19            0.6198        \u001b[32m0.8264\u001b[0m            0.5000        1.2963  0.0056  0.9562\n",
            "     20            0.6719        \u001b[32m0.7837\u001b[0m            0.5208        \u001b[31m1.2200\u001b[0m  0.0052  0.9634\n",
            "     21            0.6615        \u001b[32m0.7588\u001b[0m            0.5208        1.2914  0.0048  0.9600\n",
            "     22            \u001b[36m0.7083\u001b[0m        0.7606            0.5521        \u001b[31m1.1961\u001b[0m  0.0044  0.9593\n",
            "     23            \u001b[36m0.7292\u001b[0m        \u001b[32m0.7365\u001b[0m            0.5417        \u001b[31m1.1897\u001b[0m  0.0040  0.9569\n",
            "     24            0.7083        0.7410            0.5312        1.2416  0.0036  0.9580\n",
            "     25            \u001b[36m0.7344\u001b[0m        0.7426            \u001b[35m0.5938\u001b[0m        \u001b[31m1.1675\u001b[0m  0.0032  0.9585\n",
            "     26            0.7188        \u001b[32m0.7080\u001b[0m            0.5312        1.2011  0.0029  0.9620\n",
            "     27            \u001b[36m0.7656\u001b[0m        0.7219            \u001b[35m0.6250\u001b[0m        \u001b[31m1.1494\u001b[0m  0.0025  0.9586\n",
            "     28            0.7500        \u001b[32m0.6970\u001b[0m            0.6250        \u001b[31m1.1459\u001b[0m  0.0022  0.9620\n",
            "     29            \u001b[36m0.7917\u001b[0m        \u001b[32m0.6902\u001b[0m            0.6042        \u001b[31m1.0935\u001b[0m  0.0018  0.9602\n",
            "     30            0.7083        0.6971            0.5729        1.1545  0.0015  0.9653\n",
            "     31            0.7708        \u001b[32m0.6888\u001b[0m            0.6146        1.1395  0.0013  0.9577\n",
            "     32            0.7760        \u001b[32m0.6806\u001b[0m            0.5833        1.1219  0.0010  0.9585\n",
            "     33            0.7396        \u001b[32m0.6701\u001b[0m            0.5938        1.1181  0.0008  0.9542\n",
            "     34            0.7708        0.6854            0.6250        1.1153  0.0006  0.9530\n",
            "     35            0.7812        0.6738            \u001b[35m0.6458\u001b[0m        1.1085  0.0004  0.9572\n",
            "     36            0.7760        0.6739            0.6458        1.1031  0.0003  0.9594\n",
            "     37            0.7917        \u001b[32m0.6574\u001b[0m            0.6354        1.0963  0.0001  0.9615\n",
            "     38            0.7865        0.6595            0.6250        1.0958  0.0001  0.9542\n",
            "     39            0.7865        \u001b[32m0.6531\u001b[0m            0.6250        1.0979  0.0000  0.9577\n",
            "     40            0.7865        0.6564            0.6250        1.0954  0.0000  0.9631\n"
          ],
          "name": "stdout"
        },
        {
          "output_type": "execute_result",
          "data": {
            "text/plain": [
              "<class 'braindecode.classifier.EEGClassifier'>[initialized](\n",
              "  module_=Deep4Net(\n",
              "    (ensuredims): Ensure4d()\n",
              "    (dimshuffle): Expression(expression=transpose_time_to_spat) \n",
              "    (conv_time): Conv2d(1, 25, kernel_size=(10, 1), stride=(1, 1))\n",
              "    (conv_spat): Conv2d(25, 25, kernel_size=(1, 22), stride=(1, 1), bias=False)\n",
              "    (bnorm): BatchNorm2d(25, eps=1e-05, momentum=0.1, affine=True, track_running_stats=True)\n",
              "    (conv_nonlin): Expression(expression=elu) \n",
              "    (pool): MaxPool2d(kernel_size=(3, 1), stride=(1, 1), padding=0, dilation=(1, 1), ceil_mode=False)\n",
              "    (pool_nonlin): Expression(expression=identity) \n",
              "    (drop_2): Dropout(p=0.5, inplace=False)\n",
              "    (conv_2): Conv2d(25, 50, kernel_size=(10, 1), stride=(1, 1), dilation=(3, 1), bias=False)\n",
              "    (bnorm_2): BatchNorm2d(50, eps=1e-05, momentum=0.1, affine=True, track_running_stats=True)\n",
              "    (nonlin_2): Expression(expression=elu) \n",
              "    (pool_2): MaxPool2d(kernel_size=(3, 1), stride=(1, 1), padding=0, dilation=(3, 1), ceil_mode=False)\n",
              "    (pool_nonlin_2): Expression(expression=identity) \n",
              "    (drop_3): Dropout(p=0.5, inplace=False)\n",
              "    (conv_3): Conv2d(50, 100, kernel_size=(10, 1), stride=(1, 1), dilation=(9, 1), bias=False)\n",
              "    (bnorm_3): BatchNorm2d(100, eps=1e-05, momentum=0.1, affine=True, track_running_stats=True)\n",
              "    (nonlin_3): Expression(expression=elu) \n",
              "    (pool_3): MaxPool2d(kernel_size=(3, 1), stride=(1, 1), padding=0, dilation=(9, 1), ceil_mode=False)\n",
              "    (pool_nonlin_3): Expression(expression=identity) \n",
              "    (drop_4): Dropout(p=0.5, inplace=False)\n",
              "    (conv_4): Conv2d(100, 200, kernel_size=(10, 1), stride=(1, 1), dilation=(27, 1), bias=False)\n",
              "    (bnorm_4): BatchNorm2d(200, eps=1e-05, momentum=0.1, affine=True, track_running_stats=True)\n",
              "    (nonlin_4): Expression(expression=elu) \n",
              "    (pool_4): MaxPool2d(kernel_size=(3, 1), stride=(1, 1), padding=0, dilation=(27, 1), ceil_mode=False)\n",
              "    (pool_nonlin_4): Expression(expression=identity) \n",
              "    (conv_classifier): Conv2d(200, 4, kernel_size=(2, 1), stride=(1, 1), dilation=(81, 1))\n",
              "    (softmax): LogSoftmax(dim=1)\n",
              "    (squeeze): Expression(expression=squeeze_final_output) \n",
              "  ),\n",
              ")"
            ]
          },
          "metadata": {
            "tags": []
          },
          "execution_count": 50
        }
      ]
    },
    {
      "cell_type": "markdown",
      "metadata": {
        "id": "OZYkUL8rCGax",
        "colab_type": "text"
      },
      "source": [
        "### Look at per-window accuracies"
      ]
    },
    {
      "cell_type": "code",
      "metadata": {
        "id": "kvzR7v2GCGax",
        "colab_type": "code",
        "colab": {
          "base_uri": "https://localhost:8080/",
          "height": 359
        },
        "outputId": "21b2571b-cbf3-4273-e168-010d6216421d"
      },
      "source": [
        "from braindecode.training.scoring import trial_preds_from_window_preds\n",
        "\n",
        "predicted_windows = clf.predict_with_window_inds_and_ys(valid_set)\n",
        "trial_preds = trial_preds_from_window_preds(\n",
        "    predicted_windows['preds'],\n",
        "    predicted_windows['i_window_in_trials'],\n",
        "    predicted_windows['i_window_stops'])\n",
        "trial_preds = np.array(trial_preds)\n",
        "window_0_per_trial_mask = np.diff(\n",
        "    predicted_windows['i_window_in_trials'], prepend=[np.inf]) != 1\n",
        "\n",
        "trial_ys = predicted_windows['window_ys'][window_0_per_trial_mask]\n",
        "\n",
        "overall_accuracy = np.mean(np.mean(trial_preds, axis=2).argmax(axis=1) == trial_ys)\n",
        "\n",
        "acc_per_step = np.mean(trial_preds.argmax(axis=1) == trial_ys[:, None], axis=0)\n",
        "\n",
        "receptive_field_size = input_window_samples - n_preds_per_input + 1\n",
        "\n",
        "plt.plot(acc_per_step * 100, label='Window Accuracy')\n",
        "ax = plt.gca()\n",
        "xticks = plt.gca().get_xticks()\n",
        "\n",
        "starts = -500 + xticks * 1000/sfreq\n",
        "stops = starts + receptive_field_size * 1000/sfreq\n",
        "labels = [f\"[{start}–{stop}]\" for start,stop in zip(starts, stops)]\n",
        "ax.set_xticklabels(labels, rotation=90)\n",
        "plt.axhline(y=overall_accuracy*100, color='black', label='Trial Accuracy')\n",
        "plt.ylabel(\"Accuracy [%]\")\n",
        "plt.xlabel(\"Time [ms]\");\n",
        "plt.legend(fontsize=14)"
      ],
      "execution_count": null,
      "outputs": [
        {
          "output_type": "execute_result",
          "data": {
            "text/plain": [
              "<matplotlib.legend.Legend at 0x7f013a550c88>"
            ]
          },
          "metadata": {
            "tags": []
          },
          "execution_count": 51
        },
        {
          "output_type": "display_data",
          "data": {
            "image/png": "[encoded data removed]",
            "text/plain": [
              "<Figure size 432x288 with 1 Axes>"
            ]
          },
          "metadata": {
            "tags": [],
            "needs_background": "light"
          }
        }
      ]
    },
    {
      "cell_type": "markdown",
      "metadata": {
        "id": "CrGRoHHVCGa0",
        "colab_type": "text"
      },
      "source": [
        "### Exercise: Accuracies using the first half and the second half of the predictions"
      ]
    },
    {
      "cell_type": "code",
      "metadata": {
        "id": "K9GfgdzGCGa0",
        "colab_type": "code",
        "colab": {}
      },
      "source": [
        ""
      ],
      "execution_count": null,
      "outputs": []
    },
    {
      "cell_type": "markdown",
      "metadata": {
        "id": "bxXVDhnUCGa2",
        "colab_type": "text"
      },
      "source": [
        "## Visualization with Amplitude Gradients"
      ]
    },
    {
      "cell_type": "code",
      "metadata": {
        "colab_type": "code",
        "id": "sUwVs9rStOZ1",
        "colab": {}
      },
      "source": [
        "from braindecode.visualization.gradients import compute_amplitude_gradients\n",
        "\n",
        "amp_grads_per_filter = compute_amplitude_gradients(model, train_set, batch_size=64)"
      ],
      "execution_count": null,
      "outputs": []
    },
    {
      "cell_type": "code",
      "metadata": {
        "colab_type": "code",
        "id": "vS8ix2JstOZ6",
        "colab": {
          "base_uri": "https://localhost:8080/",
          "height": 236
        },
        "outputId": "e6c0d78f-b0e8-4738-dd36-cc8a1f88e453"
      },
      "source": [
        "plt.figure(figsize=(12,3))\n",
        "plt.plot(np.fft.rfftfreq(train_set[0][0].shape[1], 1/250.0), np.mean(np.abs(amp_grads_per_filter), axis=(0, 1,2)));\n",
        "plt.xlabel('Frequency [Hz]')\n",
        "plt.ylabel('Mean Absolute Gradient');"
      ],
      "execution_count": null,
      "outputs": [
        {
          "output_type": "display_data",
          "data": {
            "image/png": "[encoded data removed]",
            "text/plain": [
              "<Figure size 864x216 with 1 Axes>"
            ]
          },
          "metadata": {
            "tags": [],
            "needs_background": "light"
          }
        }
      ]
    },
    {
      "cell_type": "code",
      "metadata": {
        "colab_type": "code",
        "id": "yDkaqLzwtOaA",
        "colab": {
          "base_uri": "https://localhost:8080/",
          "height": 205
        },
        "outputId": "0aa78515-1d4d-4717-fea4-eff64b60e5d8"
      },
      "source": [
        "sfreq = train_set.datasets[0].windows.info['sfreq']\n",
        "freqs = np.fft.rfftfreq(train_set[0][0].shape[1], d=1.0/sfreq)\n",
        "start_freq = 7\n",
        "stop_freq = 14\n",
        "i_start = np.searchsorted(freqs,start_freq)\n",
        "i_stop = np.searchsorted(freqs, stop_freq) + 1\n",
        "\n",
        "\n",
        "freq_corr = np.mean(np.mean(amp_grads_per_filter, axis=1)[:,:,i_start:i_stop], axis=2)\n",
        "\n",
        "import matplotlib.pyplot as plt\n",
        "from matplotlib import cm\n",
        "%matplotlib inline\n",
        "max_abs_val = np.max(np.abs(freq_corr))\n",
        "\n",
        "class_to_id = windows_dataset.datasets[0].windows.event_id\n",
        "\n",
        "fig, axes = plt.subplots(1, len(class_to_id), figsize=(14,4))\n",
        "for class_name, i_class in class_to_id.items():\n",
        "    ax = axes[i_class]\n",
        "    mne.viz.plot_topomap(freq_corr[i_class], train_set.datasets[0].windows.info,\n",
        "             vmin=-max_abs_val, vmax=max_abs_val, contours=0,\n",
        "            cmap=cm.coolwarm, show=False, extrapolate='local',\n",
        "                        axes=ax);\n",
        "    ax.set_title(class_name.replace('_', ' '))"
      ],
      "execution_count": null,
      "outputs": [
        {
          "output_type": "display_data",
          "data": {
            "image/png": "[encoded data removed]",
            "text/plain": [
              "<Figure size 1008x288 with 4 Axes>"
            ]
          },
          "metadata": {
            "tags": []
          }
        }
      ]
    },
    {
      "cell_type": "markdown",
      "metadata": {
        "colab_type": "text",
        "id": "qyohIEvjtOaH"
      },
      "source": [
        "## Use a new model"
      ]
    },
    {
      "cell_type": "code",
      "metadata": {
        "id": "wzqA5YpKCGa9",
        "colab_type": "code",
        "colab": {}
      },
      "source": [
        "import torch\n",
        "from braindecode.util import set_random_seeds\n",
        "from braindecode.models import Deep4Net\n",
        "\n",
        "\n",
        "cuda = torch.cuda.is_available()  # check if GPU is available, if True chooses to use it\n",
        "device = 'cuda' if cuda else 'cpu'\n",
        "if cuda:\n",
        "    torch.backends.cudnn.benchmark = True\n",
        "seed = 20200220  # random seed to make results reproducible\n",
        "# Set random seed to be able to reproduce results\n",
        "set_random_seeds(seed=seed, cuda=cuda)\n",
        "\n",
        "n_classes=4\n",
        "# Extract number of chans from dataset\n",
        "n_chans = dataset[0][0].shape[0]\n",
        "\n",
        "\n",
        "from torch import nn\n",
        "\n",
        "class Residual(nn.Module):\n",
        "    def __init__(self, module):\n",
        "        super().__init__()\n",
        "        self.module = module\n",
        "\n",
        "    def forward(self, x):\n",
        "        return self.module(x) + x\n",
        "\n",
        "model = nn.Sequential(\n",
        "    nn.Conv1d(n_chans,50, 11),\n",
        "    nn.BatchNorm1d(50),\n",
        "    nn.ELU(),\n",
        "    Residual(nn.Conv1d(50,50, 11, padding=11//2)),\n",
        "    nn.ELU(),\n",
        "    Residual(nn.Conv1d(50,50, 11, padding=11//2)),\n",
        "    nn.ELU(),\n",
        "    nn.Conv1d(50,100, 11),\n",
        "    nn.BatchNorm1d(100),\n",
        "    nn.ELU(),\n",
        "    Residual(nn.Conv1d(100,100, 11, padding=(11 + (11 - 1) * (3-1)) // 2, dilation=3)),\n",
        "    nn.ELU(),\n",
        "    Residual(nn.Conv1d(100,100, 11, padding=(11 + (11 - 1) * (3-1)) // 2, dilation=3)),\n",
        "    nn.ELU(),\n",
        "    nn.Conv1d(100,200, 11, dilation=3),\n",
        "    nn.BatchNorm1d(200),\n",
        "    nn.ELU(),\n",
        "    Residual(nn.Conv1d(200,200,11, padding=(11 + (11 - 1) * (9-1)) // 2, dilation=9)),\n",
        "    nn.ELU(),\n",
        "    Residual(nn.Conv1d(200,200,11, padding=(11 + (11 - 1) * (9-1)) // 2, dilation=9)),\n",
        "    nn.ELU(),\n",
        "    nn.Conv1d(200,400,11, dilation=27),\n",
        "    nn.BatchNorm1d(400),\n",
        "    nn.ELU(),\n",
        "    Residual(nn.Conv1d(400,400,11, padding=(11 + (11 - 1) * (27-1)) // 2, dilation=27)),\n",
        "    nn.ELU(),\n",
        "    Residual(nn.Conv1d(400,400,11, padding=(11 + (11 - 1) * (27-1)) // 2, dilation=27)),\n",
        "    nn.ELU(),\n",
        "    nn.Conv1d(400,4, 1),\n",
        "    nn.LogSoftmax(dim=1),\n",
        ")\n",
        "# Send model to GPU\n",
        "if cuda:\n",
        "    model.cuda()\n",
        "    "
      ],
      "execution_count": null,
      "outputs": []
    },
    {
      "cell_type": "code",
      "metadata": {
        "id": "2JSkIvnvCGa-",
        "colab_type": "code",
        "colab": {
          "base_uri": "https://localhost:8080/",
          "height": 1000
        },
        "outputId": "ff6cacc6-098d-42b5-8a2e-4bf21a2ae077"
      },
      "source": [
        "n_preds_per_input = get_output_shape(model, n_chans, input_window_samples)[2]\n",
        "\n",
        "\n",
        "\n",
        "import numpy as np\n",
        "from braindecode.datautil.windowers import create_windows_from_events\n",
        "\n",
        "trial_start_offset_seconds = -0.5\n",
        "# Extract sampling frequency, check that they are same in all datasets\n",
        "sfreq = dataset.datasets[0].raw.info['sfreq']\n",
        "assert all([ds.raw.info['sfreq'] == sfreq for ds in dataset.datasets])\n",
        "\n",
        "# Calculate the trial start offset in samples.\n",
        "trial_start_offset_samples = int(trial_start_offset_seconds * sfreq)\n",
        "\n",
        "# Create windows using braindecode function for this. It needs parameters to define how\n",
        "# trials should be used.\n",
        "windows_dataset = create_windows_from_events(\n",
        "    dataset,\n",
        "    trial_start_offset_samples=trial_start_offset_samples,\n",
        "    trial_stop_offset_samples=0,\n",
        "    window_size_samples=input_window_samples,\n",
        "    window_stride_samples=n_preds_per_input,\n",
        "    drop_last_window=False,\n",
        "    preload=True,\n",
        ")\n",
        "\n",
        "\n",
        "splitted = windows_dataset.split('session')\n",
        "full_train_set = splitted['session_T']\n",
        "evaluation_set = splitted['session_E']\n",
        "splitted_train = full_train_set.split([[0,1,2,3], [4,5]])\n",
        "train_set = splitted_train['0']\n",
        "valid_set = splitted_train['1']\n",
        "\n",
        "\n",
        "from skorch.callbacks import LRScheduler\n",
        "from skorch.helper import predefined_split\n",
        "\n",
        "from braindecode import EEGClassifier\n",
        "from braindecode.training.losses import CroppedLoss\n",
        "\n",
        "# These values we found good for shallow network:\n",
        "\n",
        "lr = 5e-4\n",
        "weight_decay = 0.5 * 0.001\n",
        "\n",
        "batch_size = 64\n",
        "n_epochs = 40\n",
        "\n",
        "clf = EEGClassifier(\n",
        "    model,\n",
        "    cropped=True,\n",
        "    criterion=CroppedLoss,\n",
        "    criterion__loss_function=torch.nn.functional.nll_loss,\n",
        "    optimizer=torch.optim.AdamW,\n",
        "    train_split=predefined_split(valid_set),\n",
        "    optimizer__lr=lr,\n",
        "    optimizer__weight_decay=weight_decay,\n",
        "    iterator_train__shuffle=True,\n",
        "    batch_size=batch_size,\n",
        "    callbacks=[\n",
        "        \"accuracy\", (\"lr_scheduler\", LRScheduler('CosineAnnealingLR', T_max=n_epochs - 1)),\n",
        "    ],\n",
        "    device=device,\n",
        ")\n",
        "# Model training for a specified number of epochs. `y` is None as it is already supplied\n",
        "# in the dataset.\n",
        "clf.fit(train_set, y=None, epochs=n_epochs)"
      ],
      "execution_count": null,
      "outputs": [
        {
          "output_type": "stream",
          "text": [
            "  epoch    train_accuracy    train_loss    valid_accuracy    valid_loss      lr      dur\n",
            "-------  ----------------  ------------  ----------------  ------------  ------  -------\n",
            "      1            \u001b[36m0.2500\u001b[0m        \u001b[32m2.2769\u001b[0m            \u001b[35m0.2500\u001b[0m        \u001b[31m2.8590\u001b[0m  0.0005  17.3810\n"
          ],
          "name": "stdout"
        },
        {
          "output_type": "stream",
          "text": [
            "/usr/local/lib/python3.6/dist-packages/torch/optim/lr_scheduler.py:143: UserWarning: The epoch parameter in `scheduler.step()` was not necessary and is being deprecated where possible. Please use `scheduler.step()` to step the scheduler. During the deprecation, if epoch is different from None, the closed form is used instead of the new chainable form, where available. Please open an issue if you are unable to replicate your use case: https://github.com/pytorch/pytorch/issues/new/choose.\n",
            "  warnings.warn(EPOCH_DEPRECATION_WARNING, UserWarning)\n"
          ],
          "name": "stderr"
        },
        {
          "output_type": "stream",
          "text": [
            "      2            \u001b[36m0.4271\u001b[0m        \u001b[32m1.2845\u001b[0m            \u001b[35m0.3854\u001b[0m        3.3106  0.0005  10.0261\n",
            "      3            0.2500        \u001b[32m1.0066\u001b[0m            0.2500        5.6515  0.0005  9.9950\n",
            "      4            0.3594        \u001b[32m0.8530\u001b[0m            0.3333        4.2230  0.0005  9.9766\n",
            "      5            0.3906        \u001b[32m0.7469\u001b[0m            0.3438        \u001b[31m2.5364\u001b[0m  0.0005  9.9885\n",
            "      6            \u001b[36m0.6510\u001b[0m        \u001b[32m0.6999\u001b[0m            \u001b[35m0.5625\u001b[0m        \u001b[31m1.2860\u001b[0m  0.0005  9.9951\n",
            "      7            0.5990        \u001b[32m0.5879\u001b[0m            0.5000        1.5854  0.0005  10.0009\n",
            "      8            0.4792        \u001b[32m0.5416\u001b[0m            0.3542        3.0768  0.0005  9.9970\n",
            "      9            0.5000        \u001b[32m0.4506\u001b[0m            0.3854        2.1008  0.0004  9.9877\n",
            "     10            \u001b[36m0.8698\u001b[0m        \u001b[32m0.3746\u001b[0m            \u001b[35m0.6771\u001b[0m        \u001b[31m1.0796\u001b[0m  0.0004  9.9726\n",
            "     11            0.7240        \u001b[32m0.3401\u001b[0m            0.5312        2.3961  0.0004  9.9683\n",
            "     12            0.7083        \u001b[32m0.3153\u001b[0m            0.4688        2.5058  0.0004  9.9521\n",
            "     13            0.7292        \u001b[32m0.2174\u001b[0m            0.6146        2.3860  0.0004  9.9946\n",
            "     14            \u001b[36m0.9948\u001b[0m        \u001b[32m0.1781\u001b[0m            \u001b[35m0.7500\u001b[0m        1.3442  0.0004  9.9928\n",
            "     15            0.8229        \u001b[32m0.1551\u001b[0m            0.6562        2.3302  0.0004  9.9900\n",
            "     16            0.5312        \u001b[32m0.0972\u001b[0m            0.4479        5.4250  0.0003  9.9792\n",
            "     17            0.9427        \u001b[32m0.0818\u001b[0m            0.6979        1.5006  0.0003  9.9812\n",
            "     18            0.9531        \u001b[32m0.0532\u001b[0m            0.6979        1.4149  0.0003  9.9627\n",
            "     19            \u001b[36m1.0000\u001b[0m        0.0584            0.7188        1.3843  0.0003  9.9718\n",
            "     20            0.9948        \u001b[32m0.0449\u001b[0m            0.6667        2.0515  0.0003  9.9970\n",
            "     21            1.0000        \u001b[32m0.0283\u001b[0m            0.6979        1.6928  0.0002  9.9606\n",
            "     22            0.9844        \u001b[32m0.0258\u001b[0m            0.7188        1.5417  0.0002  9.9496\n",
            "     23            1.0000        \u001b[32m0.0212\u001b[0m            0.7500        1.4901  0.0002  9.9661\n",
            "     24            0.9635        \u001b[32m0.0094\u001b[0m            0.6458        2.3954  0.0002  9.9717\n",
            "     25            1.0000        \u001b[32m0.0077\u001b[0m            0.6875        2.0779  0.0002  9.9761\n",
            "     26            1.0000        \u001b[32m0.0067\u001b[0m            0.7292        1.5584  0.0001  9.9822\n",
            "     27            1.0000        \u001b[32m0.0064\u001b[0m            0.7500        1.4820  0.0001  10.0013\n",
            "     28            1.0000        \u001b[32m0.0041\u001b[0m            0.7396        1.5261  0.0001  9.9845\n",
            "     29            1.0000        \u001b[32m0.0030\u001b[0m            0.7500        1.5517  0.0001  9.9980\n",
            "     30            1.0000        0.0037            0.7292        1.5950  0.0001  9.9936\n",
            "     31            1.0000        0.0032            0.7292        1.6337  0.0001  9.9903\n",
            "     32            1.0000        \u001b[32m0.0028\u001b[0m            0.7292        1.6634  0.0001  9.9967\n",
            "     33            1.0000        \u001b[32m0.0028\u001b[0m            0.7292        1.6693  0.0000  9.9901\n",
            "     34            1.0000        0.0060            0.7292        1.6689  0.0000  9.9792\n",
            "     35            1.0000        0.0033            0.7188        1.6626  0.0000  9.9841\n",
            "     36            1.0000        \u001b[32m0.0025\u001b[0m            0.7292        1.6727  0.0000  9.9979\n",
            "     37            1.0000        \u001b[32m0.0025\u001b[0m            0.7292        1.6719  0.0000  9.9913\n",
            "     38            1.0000        0.0038            0.7292        1.6728  0.0000  10.0129\n",
            "     39            1.0000        0.0030            0.7292        1.6685  0.0000  9.9907\n",
            "     40            1.0000        0.0030            0.7292        1.6670  0.0000  9.9925\n"
          ],
          "name": "stdout"
        },
        {
          "output_type": "execute_result",
          "data": {
            "text/plain": [
              "<class 'braindecode.classifier.EEGClassifier'>[initialized](\n",
              "  module_=Sequential(\n",
              "    (0): Conv1d(22, 50, kernel_size=(11,), stride=(1,))\n",
              "    (1): BatchNorm1d(50, eps=1e-05, momentum=0.1, affine=True, track_running_stats=True)\n",
              "    (2): ELU(alpha=1.0)\n",
              "    (3): Residual(\n",
              "      (module): Conv1d(50, 50, kernel_size=(11,), stride=(1,), padding=(5,))\n",
              "    )\n",
              "    (4): ELU(alpha=1.0)\n",
              "    (5): Residual(\n",
              "      (module): Conv1d(50, 50, kernel_size=(11,), stride=(1,), padding=(5,))\n",
              "    )\n",
              "    (6): ELU(alpha=1.0)\n",
              "    (7): Conv1d(50, 100, kernel_size=(11,), stride=(1,))\n",
              "    (8): BatchNorm1d(100, eps=1e-05, momentum=0.1, affine=True, track_running_stats=True)\n",
              "    (9): ELU(alpha=1.0)\n",
              "    (10): Residual(\n",
              "      (module): Conv1d(100, 100, kernel_size=(11,), stride=(1,), padding=(15,), dilation=(3,))\n",
              "    )\n",
              "    (11): ELU(alpha=1.0)\n",
              "    (12): Residual(\n",
              "      (module): Conv1d(100, 100, kernel_size=(11,), stride=(1,), padding=(15,), dilation=(3,))\n",
              "    )\n",
              "    (13): ELU(alpha=1.0)\n",
              "    (14): Conv1d(100, 200, kernel_size=(11,), stride=(1,), dilation=(3,))\n",
              "    (15): BatchNorm1d(200, eps=1e-05, momentum=0.1, affine=True, track_running_stats=True)\n",
              "    (16): ELU(alpha=1.0)\n",
              "    (17): Residual(\n",
              "      (module): Conv1d(200, 200, kernel_size=(11,), stride=(1,), padding=(45,), dilation=(9,))\n",
              "    )\n",
              "    (18): ELU(alpha=1.0)\n",
              "    (19): Residual(\n",
              "      (module): Conv1d(200, 200, kernel_size=(11,), stride=(1,), padding=(45,), dilation=(9,))\n",
              "    )\n",
              "    (20): ELU(alpha=1.0)\n",
              "    (21): Conv1d(200, 400, kernel_size=(11,), stride=(1,), dilation=(27,))\n",
              "    (22): BatchNorm1d(400, eps=1e-05, momentum=0.1, affine=True, track_running_stats=True)\n",
              "    (23): ELU(alpha=1.0)\n",
              "    (24): Residual(\n",
              "      (module): Conv1d(400, 400, kernel_size=(11,), stride=(1,), padding=(135,), dilation=(27,))\n",
              "    )\n",
              "    (25): ELU(alpha=1.0)\n",
              "    (26): Residual(\n",
              "      (module): Conv1d(400, 400, kernel_size=(11,), stride=(1,), padding=(135,), dilation=(27,))\n",
              "    )\n",
              "    (27): ELU(alpha=1.0)\n",
              "    (28): Conv1d(400, 4, kernel_size=(1,), stride=(1,))\n",
              "    (29): LogSoftmax(dim=1)\n",
              "  ),\n",
              ")"
            ]
          },
          "metadata": {
            "tags": []
          },
          "execution_count": 56
        }
      ]
    },
    {
      "cell_type": "code",
      "metadata": {
        "id": "TtwngnJZCGbB",
        "colab_type": "code",
        "colab": {
          "base_uri": "https://localhost:8080/",
          "height": 359
        },
        "outputId": "a14603ca-dde0-4427-a672-0565e0e69f01"
      },
      "source": [
        "from braindecode.training.scoring import trial_preds_from_window_preds\n",
        "\n",
        "predicted_windows = clf.predict_with_window_inds_and_ys(valid_set)\n",
        "trial_preds = trial_preds_from_window_preds(\n",
        "    predicted_windows['preds'],\n",
        "    predicted_windows['i_window_in_trials'],\n",
        "    predicted_windows['i_window_stops'])\n",
        "trial_preds = np.array(trial_preds)\n",
        "window_0_per_trial_mask = np.diff(\n",
        "    predicted_windows['i_window_in_trials'], prepend=[np.inf]) != 1\n",
        "\n",
        "trial_ys = predicted_windows['window_ys'][window_0_per_trial_mask]\n",
        "\n",
        "overall_accuracy = np.mean(np.mean(trial_preds, axis=2).argmax(axis=1) == trial_ys)\n",
        "\n",
        "acc_per_step = np.mean(trial_preds.argmax(axis=1) == trial_ys[:, None], axis=0)\n",
        "\n",
        "receptive_field_size = input_window_samples - n_preds_per_input + 1\n",
        "\n",
        "plt.plot(acc_per_step * 100, label='Window Accuracy')\n",
        "ax = plt.gca()\n",
        "xticks = plt.gca().get_xticks()\n",
        "\n",
        "starts = -500 + xticks * 1000/sfreq\n",
        "stops = starts + receptive_field_size * 1000/sfreq\n",
        "labels = [f\"[{start}–{stop}]\" for start,stop in zip(starts, stops)]\n",
        "ax.set_xticklabels(labels, rotation=90)\n",
        "plt.axhline(y=overall_accuracy*100, color='black', label='Trial Accuracy')\n",
        "plt.ylabel(\"Accuracy [%]\")\n",
        "plt.xlabel(\"Time [ms]\");\n",
        "plt.legend(fontsize=14)"
      ],
      "execution_count": null,
      "outputs": [
        {
          "output_type": "execute_result",
          "data": {
            "text/plain": [
              "<matplotlib.legend.Legend at 0x7f4719e8e4e0>"
            ]
          },
          "metadata": {
            "tags": []
          },
          "execution_count": 36
        },
        {
          "output_type": "display_data",
          "data": {
            "image/png": "[encoded data removed]",
            "text/plain": [
              "<Figure size 432x288 with 1 Axes>"
            ]
          },
          "metadata": {
            "tags": [],
            "needs_background": "light"
          }
        }
      ]
    },
    {
      "cell_type": "code",
      "metadata": {
        "id": "iwnZh26mCGbD",
        "colab_type": "code",
        "colab": {
          "base_uri": "https://localhost:8080/",
          "height": 225
        },
        "outputId": "fd33c028-77ac-434f-d0e6-b3e51042c327"
      },
      "source": [
        "from braindecode.visualization.gradients import compute_amplitude_gradients\n",
        "\n",
        "amp_grads_per_filter = compute_amplitude_gradients(model, train_set, batch_size=64)\n",
        "\n",
        "plt.figure(figsize=(12,3))\n",
        "plt.plot(np.fft.rfftfreq(train_set[0][0].shape[1], 1/250.0), np.mean(np.abs(amp_grads_per_filter), axis=(0, 1,2)));\n",
        "plt.xlabel('Frequency [Hz]')\n",
        "plt.ylabel('Mean Absolute Gradient');"
      ],
      "execution_count": null,
      "outputs": [
        {
          "output_type": "display_data",
          "data": {
            "image/png": "[encoded data removed]",
            "text/plain": [
              "<Figure size 864x216 with 1 Axes>"
            ]
          },
          "metadata": {
            "tags": [],
            "needs_background": "light"
          }
        }
      ]
    },
    {
      "cell_type": "code",
      "metadata": {
        "id": "_0vuGYNSCGbF",
        "colab_type": "code",
        "colab": {
          "base_uri": "https://localhost:8080/",
          "height": 205
        },
        "outputId": "73e34423-059f-48fd-d6f2-586b14257497"
      },
      "source": [
        "sfreq = train_set.datasets[0].windows.info['sfreq']\n",
        "freqs = np.fft.rfftfreq(train_set[0][0].shape[1], d=1.0/sfreq)\n",
        "start_freq = 7\n",
        "stop_freq = 14\n",
        "i_start = np.searchsorted(freqs,start_freq)\n",
        "i_stop = np.searchsorted(freqs, stop_freq) + 1\n",
        "\n",
        "freq_corr = np.mean(np.mean(amp_grads_per_filter, axis=1)[:,:,i_start:i_stop], axis=2)\n",
        "\n",
        "import matplotlib.pyplot as plt\n",
        "from matplotlib import cm\n",
        "%matplotlib inline\n",
        "max_abs_val = np.max(np.abs(freq_corr))\n",
        "\n",
        "class_to_id = windows_dataset.datasets[0].windows.event_id\n",
        "\n",
        "fig, axes = plt.subplots(1, len(class_to_id), figsize=(14,4))\n",
        "for class_name, i_class in class_to_id.items():\n",
        "    ax = axes[i_class]\n",
        "    mne.viz.plot_topomap(freq_corr[i_class], train_set.datasets[0].windows.info,\n",
        "             vmin=-max_abs_val, vmax=max_abs_val, contours=0,\n",
        "            cmap=cm.coolwarm, show=False, extrapolate='local',\n",
        "                        axes=ax);\n",
        "    ax.set_title(class_name.replace('_', ' '))"
      ],
      "execution_count": null,
      "outputs": [
        {
          "output_type": "display_data",
          "data": {
            "image/png": "[encoded data removed]",
            "text/plain": [
              "<Figure size 1008x288 with 4 Axes>"
            ]
          },
          "metadata": {
            "tags": []
          }
        }
      ]
    },
    {
      "cell_type": "markdown",
      "metadata": {
        "id": "5rx0p5f5CGbI",
        "colab_type": "text"
      },
      "source": [
        "### Exercises: Develop your own pipeline"
      ]
    },
    {
      "cell_type": "markdown",
      "metadata": {
        "id": "FLK-X5YfFE3j",
        "colab_type": "text"
      },
      "source": [
        "* Try other preprocessings\n",
        "* Try other trial boundaries\n",
        "* Try other hyperparameters for model\n",
        "* Try your own pytorch model\n",
        "\n",
        "In the end: evaluate on final evaluation set and let's compare!"
      ]
    },
    {
      "cell_type": "markdown",
      "metadata": {
        "id": "H_A2jCUvCGbL",
        "colab_type": "text"
      },
      "source": [
        "See more on https://braindecode.org"
      ]
    },
    {
      "cell_type": "code",
      "metadata": {
        "id": "BrPcijY9CGbM",
        "colab_type": "code",
        "colab": {}
      },
      "source": [
        ""
      ],
      "execution_count": null,
      "outputs": []
    }
  ]
}